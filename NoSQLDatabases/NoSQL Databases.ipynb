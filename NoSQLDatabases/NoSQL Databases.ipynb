{
 "cells": [
  {
   "cell_type": "markdown",
   "id": "9ee9c8fa",
   "metadata": {},
   "source": [
    "# No SQL Databases - MongoDb\n",
    "\n",
    "In deze bijhorende notebook gaan we een voorbeeld uitwerken van een Document Based NoSQL database.\n",
    "Hiervoor maken we gebruik van MongoDb, wat de mogelijkheid aanbied om het lokaal te draaien.\n",
    "Deze applicatie voor het beheer van een NoSQL database is reeds geinstalleerd en kan gestart worden door het volgende commando in een terminal uit te voeren\n",
    "\n",
    "    mongod\n",
    "    \n",
    "Dit commando start de MongoDb Server. \n",
    "Zolang deze applicatie draait kan je met MongoDb connecteren via een shell (niet geinstalleerd) of een api zoals pymongo (is geinstalleerd).\n",
    "\n",
    "In MongoDb begin je met een te connecteren met een bepaalde database.\n",
    "Dit doe je door een host en poort te kiezen en de naam van een bepaalde database.\n",
    "Dit is analoog met hoe je een SQL-database aanspreekt.\n",
    "\n",
    "MongoDb is een document-based NoSqlDatabase wat betekend dat een database bestaat uit een reeks collecties die elk een aantal documenten bevatten.\n",
    "\n",
    "In de code hieronder connecteren we met een lokale database \"les\" waarin we twee collecties gaan gebruiken, namelijk \"vakken\" en \"studenten\". \n",
    "Deze collecties zijn conceptueel analoog aan de tabellen in een SQL-database."
   ]
  },
  {
   "cell_type": "code",
   "execution_count": 1,
   "id": "a27e9553",
   "metadata": {},
   "outputs": [],
   "source": [
    "import pymongo"
   ]
  },
  {
   "cell_type": "code",
   "execution_count": 4,
   "id": "d4b5b08d",
   "metadata": {},
   "outputs": [
    {
     "name": "stdout",
     "output_type": "stream",
     "text": [
      "['admin', 'config', 'local']\n",
      "[]\n"
     ]
    }
   ],
   "source": [
    "client = pymongo.MongoClient(\"localhost\", 27017)\n",
    "\n",
    "#client.drop_database(\"herkansing\")\n",
    "#client.drop_database(\"les\")\n",
    "client.list_database_names()\n",
    "\n",
    "database = client.les\n",
    "coll_studenten = database.studenten\n",
    "coll_vakken = database.vakken\n",
    "\n",
    "print(client.list_database_names())\n",
    "print(database.list_collection_names())"
   ]
  },
  {
   "cell_type": "markdown",
   "id": "8b4e400a",
   "metadata": {},
   "source": [
    "Bij bovenstaande code is er echter nog een belangrijke opmerking:\n",
    "**De database en collecties worden lazy aangemaakt**. \n",
    "Dit houdt in dat ze maar aangemaakt worden wanneer ze effectief gebruikt worden (dus wanneer er een document toegevoegd wordt).\n",
    "Bovenstaande code gaat op dit moment nog geen database en collecties aanmaken.\n",
    "\n",
    "De documenten in MongoDb kunnen voorgesteld worden als Json formaat. \n",
    "In python kunnen dictionaries gebruikt worden om deze documenten voor te stellen, bvb voor een de drie vakken van dit keuzetraject:"
   ]
  },
  {
   "cell_type": "code",
   "execution_count": 5,
   "id": "9fa7e217",
   "metadata": {},
   "outputs": [],
   "source": [
    "datascience = {\n",
    "    \"naam\": \"Data Science\",\n",
    "    \"studiepunten\": 5,\n",
    "    \"semester\": 1\n",
    "}\n",
    "\n",
    "bigdata = {\n",
    "    \"naam\": \"Big Data\",\n",
    "    \"studiepunten\": 5,\n",
    "    \"semester\": 2\n",
    "}\n",
    "\n",
    "machinelearning = {\n",
    "    \"naam\": \"Machine Learning\",\n",
    "    \"studiepunten\": 6,\n",
    "    \"semester\": 1\n",
    "}"
   ]
  },
  {
   "cell_type": "markdown",
   "id": "18321104",
   "metadata": {},
   "source": [
    "Deze documenten kunnen toegevoegd worden aan de database door middel van volgende code."
   ]
  },
  {
   "cell_type": "code",
   "execution_count": 7,
   "id": "ec1300a4",
   "metadata": {},
   "outputs": [
    {
     "ename": "DuplicateKeyError",
     "evalue": "E11000 duplicate key error collection: les.vakken index: _id_ dup key: { _id: ObjectId('627a2776b4f027a55b6b7f0d') }, full error: {'index': 0, 'code': 11000, 'keyPattern': {'_id': 1}, 'keyValue': {'_id': ObjectId('627a2776b4f027a55b6b7f0d')}, 'errmsg': \"E11000 duplicate key error collection: les.vakken index: _id_ dup key: { _id: ObjectId('627a2776b4f027a55b6b7f0d') }\"}",
     "output_type": "error",
     "traceback": [
      "\u001b[0;31m---------------------------------------------------------------------------\u001b[0m",
      "\u001b[0;31mDuplicateKeyError\u001b[0m                         Traceback (most recent call last)",
      "\u001b[0;32m/tmp/ipykernel_8761/1449007588.py\u001b[0m in \u001b[0;36m<module>\u001b[0;34m\u001b[0m\n\u001b[0;32m----> 1\u001b[0;31m \u001b[0mcoll_vakken\u001b[0m\u001b[0;34m.\u001b[0m\u001b[0minsert_one\u001b[0m\u001b[0;34m(\u001b[0m\u001b[0mdatascience\u001b[0m\u001b[0;34m)\u001b[0m\u001b[0;34m\u001b[0m\u001b[0;34m\u001b[0m\u001b[0m\n\u001b[0m",
      "\u001b[0;32m~/anaconda3/lib/python3.8/site-packages/pymongo/collection.py\u001b[0m in \u001b[0;36minsert_one\u001b[0;34m(self, document, bypass_document_validation, session)\u001b[0m\n\u001b[1;32m    522\u001b[0m         \u001b[0mwrite_concern\u001b[0m \u001b[0;34m=\u001b[0m \u001b[0mself\u001b[0m\u001b[0;34m.\u001b[0m\u001b[0m_write_concern_for\u001b[0m\u001b[0;34m(\u001b[0m\u001b[0msession\u001b[0m\u001b[0;34m)\u001b[0m\u001b[0;34m\u001b[0m\u001b[0;34m\u001b[0m\u001b[0m\n\u001b[1;32m    523\u001b[0m         return InsertOneResult(\n\u001b[0;32m--> 524\u001b[0;31m             self._insert_one(\n\u001b[0m\u001b[1;32m    525\u001b[0m                 \u001b[0mdocument\u001b[0m\u001b[0;34m,\u001b[0m \u001b[0mordered\u001b[0m\u001b[0;34m=\u001b[0m\u001b[0;32mTrue\u001b[0m\u001b[0;34m,\u001b[0m \u001b[0mcheck_keys\u001b[0m\u001b[0;34m=\u001b[0m\u001b[0;32mFalse\u001b[0m\u001b[0;34m,\u001b[0m\u001b[0;34m\u001b[0m\u001b[0;34m\u001b[0m\u001b[0m\n\u001b[1;32m    526\u001b[0m                 \u001b[0mwrite_concern\u001b[0m\u001b[0;34m=\u001b[0m\u001b[0mwrite_concern\u001b[0m\u001b[0;34m,\u001b[0m \u001b[0mop_id\u001b[0m\u001b[0;34m=\u001b[0m\u001b[0;32mNone\u001b[0m\u001b[0;34m,\u001b[0m\u001b[0;34m\u001b[0m\u001b[0;34m\u001b[0m\u001b[0m\n",
      "\u001b[0;32m~/anaconda3/lib/python3.8/site-packages/pymongo/collection.py\u001b[0m in \u001b[0;36m_insert_one\u001b[0;34m(self, doc, ordered, check_keys, write_concern, op_id, bypass_doc_val, session)\u001b[0m\n\u001b[1;32m    472\u001b[0m             \u001b[0m_check_write_command_response\u001b[0m\u001b[0;34m(\u001b[0m\u001b[0mresult\u001b[0m\u001b[0;34m)\u001b[0m\u001b[0;34m\u001b[0m\u001b[0;34m\u001b[0m\u001b[0m\n\u001b[1;32m    473\u001b[0m \u001b[0;34m\u001b[0m\u001b[0m\n\u001b[0;32m--> 474\u001b[0;31m         self.__database.client._retryable_write(\n\u001b[0m\u001b[1;32m    475\u001b[0m             acknowledged, _insert_command, session)\n\u001b[1;32m    476\u001b[0m \u001b[0;34m\u001b[0m\u001b[0m\n",
      "\u001b[0;32m~/anaconda3/lib/python3.8/site-packages/pymongo/mongo_client.py\u001b[0m in \u001b[0;36m_retryable_write\u001b[0;34m(self, retryable, func, session)\u001b[0m\n\u001b[1;32m   1338\u001b[0m         \u001b[0;34m\"\"\"Internal retryable write helper.\"\"\"\u001b[0m\u001b[0;34m\u001b[0m\u001b[0;34m\u001b[0m\u001b[0m\n\u001b[1;32m   1339\u001b[0m         \u001b[0;32mwith\u001b[0m \u001b[0mself\u001b[0m\u001b[0;34m.\u001b[0m\u001b[0m_tmp_session\u001b[0m\u001b[0;34m(\u001b[0m\u001b[0msession\u001b[0m\u001b[0;34m)\u001b[0m \u001b[0;32mas\u001b[0m \u001b[0ms\u001b[0m\u001b[0;34m:\u001b[0m\u001b[0;34m\u001b[0m\u001b[0;34m\u001b[0m\u001b[0m\n\u001b[0;32m-> 1340\u001b[0;31m             \u001b[0;32mreturn\u001b[0m \u001b[0mself\u001b[0m\u001b[0;34m.\u001b[0m\u001b[0m_retry_with_session\u001b[0m\u001b[0;34m(\u001b[0m\u001b[0mretryable\u001b[0m\u001b[0;34m,\u001b[0m \u001b[0mfunc\u001b[0m\u001b[0;34m,\u001b[0m \u001b[0ms\u001b[0m\u001b[0;34m,\u001b[0m \u001b[0;32mNone\u001b[0m\u001b[0;34m)\u001b[0m\u001b[0;34m\u001b[0m\u001b[0;34m\u001b[0m\u001b[0m\n\u001b[0m\u001b[1;32m   1341\u001b[0m \u001b[0;34m\u001b[0m\u001b[0m\n\u001b[1;32m   1342\u001b[0m     \u001b[0;32mdef\u001b[0m \u001b[0m__eq__\u001b[0m\u001b[0;34m(\u001b[0m\u001b[0mself\u001b[0m\u001b[0;34m,\u001b[0m \u001b[0mother\u001b[0m\u001b[0;34m)\u001b[0m\u001b[0;34m:\u001b[0m\u001b[0;34m\u001b[0m\u001b[0;34m\u001b[0m\u001b[0m\n",
      "\u001b[0;32m~/anaconda3/lib/python3.8/site-packages/pymongo/mongo_client.py\u001b[0m in \u001b[0;36m_retry_with_session\u001b[0;34m(self, retryable, func, session, bulk)\u001b[0m\n\u001b[1;32m   1227\u001b[0m         retryable = (retryable and self.options.retry_writes\n\u001b[1;32m   1228\u001b[0m                      and session and not session.in_transaction)\n\u001b[0;32m-> 1229\u001b[0;31m         \u001b[0;32mreturn\u001b[0m \u001b[0mself\u001b[0m\u001b[0;34m.\u001b[0m\u001b[0m_retry_internal\u001b[0m\u001b[0;34m(\u001b[0m\u001b[0mretryable\u001b[0m\u001b[0;34m,\u001b[0m \u001b[0mfunc\u001b[0m\u001b[0;34m,\u001b[0m \u001b[0msession\u001b[0m\u001b[0;34m,\u001b[0m \u001b[0mbulk\u001b[0m\u001b[0;34m)\u001b[0m\u001b[0;34m\u001b[0m\u001b[0;34m\u001b[0m\u001b[0m\n\u001b[0m\u001b[1;32m   1230\u001b[0m \u001b[0;34m\u001b[0m\u001b[0m\n\u001b[1;32m   1231\u001b[0m     \u001b[0;32mdef\u001b[0m \u001b[0m_retry_internal\u001b[0m\u001b[0;34m(\u001b[0m\u001b[0mself\u001b[0m\u001b[0;34m,\u001b[0m \u001b[0mretryable\u001b[0m\u001b[0;34m,\u001b[0m \u001b[0mfunc\u001b[0m\u001b[0;34m,\u001b[0m \u001b[0msession\u001b[0m\u001b[0;34m,\u001b[0m \u001b[0mbulk\u001b[0m\u001b[0;34m)\u001b[0m\u001b[0;34m:\u001b[0m\u001b[0;34m\u001b[0m\u001b[0;34m\u001b[0m\u001b[0m\n",
      "\u001b[0;32m~/anaconda3/lib/python3.8/site-packages/pymongo/mongo_client.py\u001b[0m in \u001b[0;36m_retry_internal\u001b[0;34m(self, retryable, func, session, bulk)\u001b[0m\n\u001b[1;32m   1259\u001b[0m                             \u001b[0;32mraise\u001b[0m \u001b[0mlast_error\u001b[0m\u001b[0;34m\u001b[0m\u001b[0;34m\u001b[0m\u001b[0m\n\u001b[1;32m   1260\u001b[0m                         \u001b[0mretryable\u001b[0m \u001b[0;34m=\u001b[0m \u001b[0;32mFalse\u001b[0m\u001b[0;34m\u001b[0m\u001b[0;34m\u001b[0m\u001b[0m\n\u001b[0;32m-> 1261\u001b[0;31m                     \u001b[0;32mreturn\u001b[0m \u001b[0mfunc\u001b[0m\u001b[0;34m(\u001b[0m\u001b[0msession\u001b[0m\u001b[0;34m,\u001b[0m \u001b[0msock_info\u001b[0m\u001b[0;34m,\u001b[0m \u001b[0mretryable\u001b[0m\u001b[0;34m)\u001b[0m\u001b[0;34m\u001b[0m\u001b[0;34m\u001b[0m\u001b[0m\n\u001b[0m\u001b[1;32m   1262\u001b[0m             \u001b[0;32mexcept\u001b[0m \u001b[0mServerSelectionTimeoutError\u001b[0m\u001b[0;34m:\u001b[0m\u001b[0;34m\u001b[0m\u001b[0;34m\u001b[0m\u001b[0m\n\u001b[1;32m   1263\u001b[0m                 \u001b[0;32mif\u001b[0m \u001b[0mis_retrying\u001b[0m\u001b[0;34m(\u001b[0m\u001b[0;34m)\u001b[0m\u001b[0;34m:\u001b[0m\u001b[0;34m\u001b[0m\u001b[0;34m\u001b[0m\u001b[0m\n",
      "\u001b[0;32m~/anaconda3/lib/python3.8/site-packages/pymongo/collection.py\u001b[0m in \u001b[0;36m_insert_command\u001b[0;34m(session, sock_info, retryable_write)\u001b[0m\n\u001b[1;32m    470\u001b[0m                 retryable_write=retryable_write)\n\u001b[1;32m    471\u001b[0m \u001b[0;34m\u001b[0m\u001b[0m\n\u001b[0;32m--> 472\u001b[0;31m             \u001b[0m_check_write_command_response\u001b[0m\u001b[0;34m(\u001b[0m\u001b[0mresult\u001b[0m\u001b[0;34m)\u001b[0m\u001b[0;34m\u001b[0m\u001b[0;34m\u001b[0m\u001b[0m\n\u001b[0m\u001b[1;32m    473\u001b[0m \u001b[0;34m\u001b[0m\u001b[0m\n\u001b[1;32m    474\u001b[0m         self.__database.client._retryable_write(\n",
      "\u001b[0;32m~/anaconda3/lib/python3.8/site-packages/pymongo/helpers.py\u001b[0m in \u001b[0;36m_check_write_command_response\u001b[0;34m(result)\u001b[0m\n\u001b[1;32m    207\u001b[0m     \u001b[0mwrite_errors\u001b[0m \u001b[0;34m=\u001b[0m \u001b[0mresult\u001b[0m\u001b[0;34m.\u001b[0m\u001b[0mget\u001b[0m\u001b[0;34m(\u001b[0m\u001b[0;34m\"writeErrors\"\u001b[0m\u001b[0;34m)\u001b[0m\u001b[0;34m\u001b[0m\u001b[0;34m\u001b[0m\u001b[0m\n\u001b[1;32m    208\u001b[0m     \u001b[0;32mif\u001b[0m \u001b[0mwrite_errors\u001b[0m\u001b[0;34m:\u001b[0m\u001b[0;34m\u001b[0m\u001b[0;34m\u001b[0m\u001b[0m\n\u001b[0;32m--> 209\u001b[0;31m         \u001b[0m_raise_last_write_error\u001b[0m\u001b[0;34m(\u001b[0m\u001b[0mwrite_errors\u001b[0m\u001b[0;34m)\u001b[0m\u001b[0;34m\u001b[0m\u001b[0;34m\u001b[0m\u001b[0m\n\u001b[0m\u001b[1;32m    210\u001b[0m \u001b[0;34m\u001b[0m\u001b[0m\n\u001b[1;32m    211\u001b[0m     \u001b[0mwce\u001b[0m \u001b[0;34m=\u001b[0m \u001b[0m_get_wce_doc\u001b[0m\u001b[0;34m(\u001b[0m\u001b[0mresult\u001b[0m\u001b[0;34m)\u001b[0m\u001b[0;34m\u001b[0m\u001b[0;34m\u001b[0m\u001b[0m\n",
      "\u001b[0;32m~/anaconda3/lib/python3.8/site-packages/pymongo/helpers.py\u001b[0m in \u001b[0;36m_raise_last_write_error\u001b[0;34m(write_errors)\u001b[0m\n\u001b[1;32m    176\u001b[0m     \u001b[0merror\u001b[0m \u001b[0;34m=\u001b[0m \u001b[0mwrite_errors\u001b[0m\u001b[0;34m[\u001b[0m\u001b[0;34m-\u001b[0m\u001b[0;36m1\u001b[0m\u001b[0;34m]\u001b[0m\u001b[0;34m\u001b[0m\u001b[0;34m\u001b[0m\u001b[0m\n\u001b[1;32m    177\u001b[0m     \u001b[0;32mif\u001b[0m \u001b[0merror\u001b[0m\u001b[0;34m.\u001b[0m\u001b[0mget\u001b[0m\u001b[0;34m(\u001b[0m\u001b[0;34m\"code\"\u001b[0m\u001b[0;34m)\u001b[0m \u001b[0;34m==\u001b[0m \u001b[0;36m11000\u001b[0m\u001b[0;34m:\u001b[0m\u001b[0;34m\u001b[0m\u001b[0;34m\u001b[0m\u001b[0m\n\u001b[0;32m--> 178\u001b[0;31m         \u001b[0;32mraise\u001b[0m \u001b[0mDuplicateKeyError\u001b[0m\u001b[0;34m(\u001b[0m\u001b[0merror\u001b[0m\u001b[0;34m.\u001b[0m\u001b[0mget\u001b[0m\u001b[0;34m(\u001b[0m\u001b[0;34m\"errmsg\"\u001b[0m\u001b[0;34m)\u001b[0m\u001b[0;34m,\u001b[0m \u001b[0;36m11000\u001b[0m\u001b[0;34m,\u001b[0m \u001b[0merror\u001b[0m\u001b[0;34m)\u001b[0m\u001b[0;34m\u001b[0m\u001b[0;34m\u001b[0m\u001b[0m\n\u001b[0m\u001b[1;32m    179\u001b[0m     \u001b[0;32mraise\u001b[0m \u001b[0mWriteError\u001b[0m\u001b[0;34m(\u001b[0m\u001b[0merror\u001b[0m\u001b[0;34m.\u001b[0m\u001b[0mget\u001b[0m\u001b[0;34m(\u001b[0m\u001b[0;34m\"errmsg\"\u001b[0m\u001b[0;34m)\u001b[0m\u001b[0;34m,\u001b[0m \u001b[0merror\u001b[0m\u001b[0;34m.\u001b[0m\u001b[0mget\u001b[0m\u001b[0;34m(\u001b[0m\u001b[0;34m\"code\"\u001b[0m\u001b[0;34m)\u001b[0m\u001b[0;34m,\u001b[0m \u001b[0merror\u001b[0m\u001b[0;34m)\u001b[0m\u001b[0;34m\u001b[0m\u001b[0;34m\u001b[0m\u001b[0m\n\u001b[1;32m    180\u001b[0m \u001b[0;34m\u001b[0m\u001b[0m\n",
      "\u001b[0;31mDuplicateKeyError\u001b[0m: E11000 duplicate key error collection: les.vakken index: _id_ dup key: { _id: ObjectId('627a2776b4f027a55b6b7f0d') }, full error: {'index': 0, 'code': 11000, 'keyPattern': {'_id': 1}, 'keyValue': {'_id': ObjectId('627a2776b4f027a55b6b7f0d')}, 'errmsg': \"E11000 duplicate key error collection: les.vakken index: _id_ dup key: { _id: ObjectId('627a2776b4f027a55b6b7f0d') }\"}"
     ]
    }
   ],
   "source": [
    "coll_vakken.insert_one(datascience)"
   ]
  },
  {
   "cell_type": "code",
   "execution_count": 8,
   "id": "cc540795",
   "metadata": {},
   "outputs": [
    {
     "data": {
      "text/plain": [
       "<pymongo.results.InsertManyResult at 0x7f9613c19600>"
      ]
     },
     "execution_count": 8,
     "metadata": {},
     "output_type": "execute_result"
    }
   ],
   "source": [
    "coll_vakken.insert_many([bigdata, machinelearning])"
   ]
  },
  {
   "cell_type": "markdown",
   "id": "d90da713",
   "metadata": {},
   "source": [
    "Dat deze documenten goed zijn toegevoegd en de nodige databases en collecties aangemaakt zijn kan gecontroleerd worden op de volgende manier:"
   ]
  },
  {
   "cell_type": "code",
   "execution_count": 15,
   "id": "09ba92a4",
   "metadata": {},
   "outputs": [
    {
     "name": "stdout",
     "output_type": "stream",
     "text": [
      "{'_id': ObjectId('627a2776b4f027a55b6b7f0d'),\n",
      " 'naam': 'Data Science',\n",
      " 'semester': 1,\n",
      " 'studiepunten': 5}\n"
     ]
    }
   ],
   "source": [
    "#results = coll_vakken.find({})\n",
    "results = coll_vakken.find({\"naam\" : \"Data Science\"})\n",
    "\n",
    "\n",
    "\n",
    "from pprint import pprint\n",
    "\n",
    "for result in results:\n",
    "    pprint(result)"
   ]
  },
  {
   "cell_type": "markdown",
   "id": "cfd29df4",
   "metadata": {},
   "source": [
    "Om de vakken toe te voegen hebben we documenten 1 voor 1 toegevoegd.\n",
    "Een andere manier is om met een rij van dictionaries te werken om meerdere documenten tegelijkertijd toe te voegen. \n",
    "Dit kan bijvoorbeeld als volgt gedaan worden:"
   ]
  },
  {
   "cell_type": "code",
   "execution_count": 16,
   "id": "16fd9a01",
   "metadata": {},
   "outputs": [
    {
     "data": {
      "text/plain": [
       "<pymongo.results.InsertManyResult at 0x7f9613ebdc80>"
      ]
     },
     "execution_count": 16,
     "metadata": {},
     "output_type": "execute_result"
    }
   ],
   "source": [
    "import datetime\n",
    "\n",
    "students = [{\n",
    "    \"studentennummer\": 202001546,\n",
    "    \"naam\": \"Andy Weir\",\n",
    "    \"vakken\": [{\"naam\" : \"Data Science\", \"score\": 8}, \n",
    "               {\"naam\" : \"Big Data\", \"score\": 10}, \n",
    "               {\"naam\" : \"Machine Learning\", \"score\": 12}],\n",
    "    \"geboortedatum\": datetime.datetime(2000, 4, 24)\n",
    "},{\n",
    "    \"studentennummer\": 202001548,\n",
    "    \"naam\": \"Albus Dumbledore\",\n",
    "    \"vakken\": [{\"naam\" : \"Data Science\", \"score\": 14}, \n",
    "               {\"naam\" : \"Big Data\", \"score\": 16}, \n",
    "               {\"naam\" : \"Machine Learning\", \"score\": 15}],\n",
    "    \"geboortedatum\": datetime.datetime(1800, 4, 24)\n",
    "},{\n",
    "    \"studentennummer\": 202001556,\n",
    "    \"naam\": \"Frodo Baggings\",\n",
    "    \"vakken\": [{\"naam\" : \"Data Science\", \"score\": 3}, \n",
    "               {\"naam\" : \"Big Data\", \"score\": 5}, \n",
    "               {\"naam\" : \"Machine Learning\", \"score\": 4}],\n",
    "    \"geboortedatum\": datetime.datetime(1960, 4, 24)\n",
    "}]\n",
    "\n",
    "coll_studenten.insert_many(students)"
   ]
  },
  {
   "cell_type": "code",
   "execution_count": 17,
   "id": "4af8912e",
   "metadata": {},
   "outputs": [
    {
     "name": "stdout",
     "output_type": "stream",
     "text": [
      "{'_id': ObjectId('627a290cb4f027a55b6b7f10'),\n",
      " 'geboortedatum': datetime.datetime(2000, 4, 24, 0, 0),\n",
      " 'naam': 'Andy Weir',\n",
      " 'studentennummer': 202001546,\n",
      " 'vakken': [{'naam': 'Data Science', 'score': 8},\n",
      "            {'naam': 'Big Data', 'score': 10},\n",
      "            {'naam': 'Machine Learning', 'score': 12}]}\n",
      "{'_id': ObjectId('627a290cb4f027a55b6b7f11'),\n",
      " 'geboortedatum': datetime.datetime(1800, 4, 24, 0, 0),\n",
      " 'naam': 'Albus Dumbledore',\n",
      " 'studentennummer': 202001548,\n",
      " 'vakken': [{'naam': 'Data Science', 'score': 14},\n",
      "            {'naam': 'Big Data', 'score': 16},\n",
      "            {'naam': 'Machine Learning', 'score': 15}]}\n",
      "{'_id': ObjectId('627a290cb4f027a55b6b7f12'),\n",
      " 'geboortedatum': datetime.datetime(1960, 4, 24, 0, 0),\n",
      " 'naam': 'Frodo Baggings',\n",
      " 'studentennummer': 202001556,\n",
      " 'vakken': [{'naam': 'Data Science', 'score': 3},\n",
      "            {'naam': 'Big Data', 'score': 5},\n",
      "            {'naam': 'Machine Learning', 'score': 4}]}\n"
     ]
    }
   ],
   "source": [
    "for doc in coll_studenten.find():\n",
    "    pprint(doc)"
   ]
  },
  {
   "cell_type": "markdown",
   "id": "0ee98ba4",
   "metadata": {},
   "source": [
    "Om complexere queries uit te voeren moet er gebruik gemaakt worden van de [aggregate functie](https://pymongo.readthedocs.io/en/stable/examples/aggregation.html) waarbij je een stappenplan kan meegeven om een eindresultaat te bekomen.\n",
    "Meer informatie over alles wat je kan doen met deze aggregate functie kan je vinden in de documentatie van [MongoDb](https://docs.mongodb.com/manual/aggregation/).\n",
    "Bekijk hiervan zeker de documentatie over [de werking van de pipelines](https://docs.mongodb.com/manual/core/aggregation-pipeline/#std-label-aggregation-pipeline) en de [operators](https://docs.mongodb.com/manual/reference/operator/aggregation/#std-label-aggregation-expression-operators) die je kan gebruiken bij het opstellen van deze pipeline\n",
    "Nu gaan we een aantal zaken proberen te bereken uit deze data, namelijk:\n",
    "* Hoeveel vakken zijn er voor elk verschillend aantal studiepunten?\n",
    " * Correcte antwoord: 5 studiepunten -> 2 vakken, 6 studiepunten -> 1 vak\n",
    "* Hoeveel studenten heeft elk vak?\n",
    "* Voor welke vakken is elke student geslaagd?"
   ]
  },
  {
   "cell_type": "code",
   "execution_count": 19,
   "id": "46a7be56",
   "metadata": {},
   "outputs": [
    {
     "name": "stdout",
     "output_type": "stream",
     "text": [
      "{'_id': {'studiepunten': 6}, 'count': 1}\n",
      "{'_id': {'studiepunten': 5}, 'count': 2}\n"
     ]
    }
   ],
   "source": [
    "results = coll_vakken.aggregate([\n",
    "    {\n",
    "        \"$group\": {\n",
    "              \"_id\": {\"studiepunten\" : \"$studiepunten\"},\n",
    "              \"count\": {\"$sum\": 1}\n",
    "        }\n",
    "    }\n",
    "])\n",
    "\n",
    "for result in results:\n",
    "    pprint(result)"
   ]
  },
  {
   "cell_type": "code",
   "execution_count": 21,
   "id": "9fbb47fb",
   "metadata": {},
   "outputs": [
    {
     "name": "stdout",
     "output_type": "stream",
     "text": [
      "{'_id': 'Big Data', 'count': 3}\n",
      "{'_id': 'Machine Learning', 'count': 3}\n",
      "{'_id': 'Data Science', 'count': 3}\n"
     ]
    }
   ],
   "source": [
    "results = coll_studenten.aggregate([\n",
    "    {\n",
    "        \"$unwind\": \"$vakken\"\n",
    "    } , {\n",
    "        \"$group\": {\n",
    "              \"_id\": \"$vakken.naam\",\n",
    "              \"count\": {\"$sum\": 1}\n",
    "        }\n",
    "    }\n",
    "])\n",
    "\n",
    "for result in results:\n",
    "    pprint(result)"
   ]
  },
  {
   "cell_type": "code",
   "execution_count": 26,
   "id": "114a170b",
   "metadata": {},
   "outputs": [
    {
     "name": "stdout",
     "output_type": "stream",
     "text": [
      "{'_id': 'Big Data', 'count': 2}\n",
      "{'_id': 'Machine Learning', 'count': 2}\n",
      "{'_id': 'Data Science', 'count': 1}\n"
     ]
    }
   ],
   "source": [
    "results = coll_studenten.aggregate([\n",
    "    {\n",
    "        \"$unwind\": \"$vakken\"\n",
    "    } , {\n",
    "        \"$match\" : {\"vakken.score\": { \"$gte\": 10 }}\n",
    "    }, {\n",
    "        \"$group\": {\n",
    "              \"_id\": \"$vakken.naam\",\n",
    "              \"count\": {\"$sum\": 1}\n",
    "        }\n",
    "    }\n",
    "])\n",
    "\n",
    "for result in results:\n",
    "    pprint(result)"
   ]
  },
  {
   "cell_type": "markdown",
   "id": "065a2b17",
   "metadata": {},
   "source": [
    "**Updaten**\n",
    "\n",
    "Met behulp van de find_one_and_update functie kunnen we gegevens wijzigen.\n",
    "In de code hieronder gaan we \n",
    "* de naam van het vak Data Science wijzigen naar data (en terug)\n",
    "* het studentennummer met eentje verhogen van Andy Weir\n",
    "* de score van Andy Weir voor het vak Big Data veranderen naar 20"
   ]
  },
  {
   "cell_type": "code",
   "execution_count": 27,
   "id": "f03944e6",
   "metadata": {},
   "outputs": [
    {
     "name": "stdout",
     "output_type": "stream",
     "text": [
      "{'_id': ObjectId('627a2776b4f027a55b6b7f0d'),\n",
      " 'naam': 'Data Science',\n",
      " 'semester': 1,\n",
      " 'studiepunten': 5}\n",
      "{'_id': ObjectId('627a27afb4f027a55b6b7f0e'),\n",
      " 'naam': 'Big Data',\n",
      " 'semester': 2,\n",
      " 'studiepunten': 5}\n",
      "{'_id': ObjectId('627a27afb4f027a55b6b7f0f'),\n",
      " 'naam': 'Machine Learning',\n",
      " 'semester': 1,\n",
      " 'studiepunten': 6}\n",
      "{'_id': ObjectId('627a290cb4f027a55b6b7f10'),\n",
      " 'geboortedatum': datetime.datetime(2000, 4, 24, 0, 0),\n",
      " 'naam': 'Andy Weir',\n",
      " 'studentennummer': 202001546,\n",
      " 'vakken': [{'naam': 'Data Science', 'score': 8},\n",
      "            {'naam': 'Big Data', 'score': 10},\n",
      "            {'naam': 'Machine Learning', 'score': 12}]}\n",
      "\n",
      "\n",
      "{'_id': ObjectId('627a290cb4f027a55b6b7f10'),\n",
      " 'geboortedatum': datetime.datetime(2000, 4, 24, 0, 0),\n",
      " 'naam': 'Andy Weir',\n",
      " 'studentennummer': 202001547,\n",
      " 'vakken': [{'naam': 'Data Science', 'score': 8},\n",
      "            {'naam': 'Big Data', 'score': 10},\n",
      "            {'naam': 'Machine Learning', 'score': 12}]}\n",
      "{'_id': ObjectId('627a290cb4f027a55b6b7f10'),\n",
      " 'geboortedatum': datetime.datetime(2000, 4, 24, 0, 0),\n",
      " 'naam': 'Andy Weir',\n",
      " 'studentennummer': 202001546,\n",
      " 'vakken': [{'naam': 'Data Science', 'score': 8},\n",
      "            {'naam': 'Big Data', 'score': 10},\n",
      "            {'naam': 'Machine Learning', 'score': 12}]}\n",
      "\n",
      "{'_id': ObjectId('627a290cb4f027a55b6b7f10'),\n",
      " 'geboortedatum': datetime.datetime(2000, 4, 24, 0, 0),\n",
      " 'naam': 'Andy Weir',\n",
      " 'studentennummer': 202001546,\n",
      " 'vakken': [{'naam': 'Data Science', 'score': 8},\n",
      "            {'naam': 'Big Data', 'score': 20},\n",
      "            {'naam': 'Machine Learning', 'score': 12}]}\n",
      "{'_id': ObjectId('627a290cb4f027a55b6b7f10'),\n",
      " 'geboortedatum': datetime.datetime(2000, 4, 24, 0, 0),\n",
      " 'naam': 'Andy Weir',\n",
      " 'studentennummer': 202001546,\n",
      " 'vakken': [{'naam': 'Data Science', 'score': 8},\n",
      "            {'naam': 'Big Data', 'score': 10},\n",
      "            {'naam': 'Machine Learning', 'score': 12}]}\n",
      "{'_id': ObjectId('627a290cb4f027a55b6b7f10'),\n",
      " 'geboortedatum': datetime.datetime(2000, 4, 24, 0, 0),\n",
      " 'naam': 'Andy Weir',\n",
      " 'studentennummer': 202001547,\n",
      " 'vakken': [{'naam': 'Data Science', 'score': 8},\n",
      "            {'naam': 'Big Data', 'score': 20},\n",
      "            {'naam': 'Machine Learning', 'score': 12}]}\n",
      "{'_id': ObjectId('627a290cb4f027a55b6b7f10'),\n",
      " 'geboortedatum': datetime.datetime(2000, 4, 24, 0, 0),\n",
      " 'naam': 'Andy Weir',\n",
      " 'studentennummer': 202001546,\n",
      " 'vakken': [{'naam': 'Data Science', 'score': 8},\n",
      "            {'naam': 'Big Data', 'score': 10},\n",
      "            {'naam': 'Machine Learning', 'score': 12}]}\n",
      "\n",
      "{'_id': ObjectId('627a2776b4f027a55b6b7f0d'),\n",
      " 'naam': 'Data Science',\n",
      " 'semester': 1,\n",
      " 'studiepunten': 5}\n",
      "{'_id': ObjectId('627a27afb4f027a55b6b7f0e'),\n",
      " 'naam': 'Big Data',\n",
      " 'semester': 2,\n",
      " 'studiepunten': 5}\n",
      "{'_id': ObjectId('627a27afb4f027a55b6b7f0f'),\n",
      " 'naam': 'Machine Learning',\n",
      " 'semester': 1,\n",
      " 'studiepunten': 6}\n"
     ]
    }
   ],
   "source": [
    "for doc in coll_vakken.find():\n",
    "    pprint(doc)\n",
    "pprint(coll_studenten.find_one({\"naam\": \"Andy Weir\"}))\n",
    "\n",
    "print()\n",
    "#stap 1\n",
    "coll_vakken.find_one_and_update({\"naam\": \"Data Science\"}, {\"$set\": {\"naam\":\"data\"}})\n",
    "coll_vakken.find_one_and_update({\"naam\": \"data\"}, {\"$set\": {\"naam\":\"Data Science\"}})\n",
    "\n",
    "print()\n",
    "\n",
    "#stap 2\n",
    "from pymongo import ReturnDocument\n",
    "result = coll_studenten.find_one_and_update({\"naam\": \"Andy Weir\"}, {\"$inc\": {\"studentennummer\":1}}, return_document=ReturnDocument.AFTER)\n",
    "pprint(result)\n",
    "result = coll_studenten.find_one_and_update({\"naam\": \"Andy Weir\"}, {\"$inc\": {\"studentennummer\":-1}}, return_document=ReturnDocument.AFTER)\n",
    "pprint(result)\n",
    "\n",
    "print()\n",
    "\n",
    "#stap 3 -> filter in een array van een document\n",
    "arrayFilters = [{\n",
    "        \"vak.naam\": \"Big Data\"\n",
    "}]\n",
    "result = coll_studenten.find_one_and_update({\"naam\": \"Andy Weir\"}, {\"$set\": {\"vakken.$[vak].score\":20}}, return_document=ReturnDocument.AFTER, array_filters=arrayFilters)\n",
    "pprint(result)\n",
    "result = coll_studenten.find_one_and_update({\"naam\": \"Andy Weir\"}, {\"$set\": {\"vakken.$[vak].score\":10}}, return_document=ReturnDocument.AFTER, array_filters=arrayFilters)\n",
    "pprint(result)\n",
    "\n",
    "# stap 2 en 3\n",
    "result = coll_studenten.find_one_and_update({\"naam\": \"Andy Weir\"}, {\"$inc\": {\"studentennummer\":1}, \"$set\": {\"vakken.$[vak].score\":20}}, return_document=ReturnDocument.AFTER, array_filters=arrayFilters)\n",
    "pprint(result)\n",
    "result = coll_studenten.find_one_and_update({\"naam\": \"Andy Weir\"}, {\"$inc\": {\"studentennummer\":-1}, \"$set\": {\"vakken.$[vak].score\":10}}, return_document=ReturnDocument.AFTER, array_filters=arrayFilters)\n",
    "pprint(result)\n",
    "\n",
    "\n",
    "print()\n",
    "\n",
    "for doc in coll_vakken.find():\n",
    "    pprint(doc)"
   ]
  },
  {
   "cell_type": "markdown",
   "id": "f3c3ece7",
   "metadata": {},
   "source": [
    "**Verwijderen**\n",
    "\n",
    "Naast het updaten is het ook mogelijk om verscheidene elementen te verwijderen.\n",
    "Dit kan aan de hand van een query of door de gewenste collections/databasen te verwijderen.\n",
    "De code hiervoor is als volgt:"
   ]
  },
  {
   "cell_type": "code",
   "execution_count": 28,
   "id": "1d4e2af7",
   "metadata": {},
   "outputs": [
    {
     "name": "stdout",
     "output_type": "stream",
     "text": [
      "{'_id': ObjectId('627a2776b4f027a55b6b7f0d'),\n",
      " 'naam': 'Data Science',\n",
      " 'semester': 1,\n",
      " 'studiepunten': 5}\n",
      "{'_id': ObjectId('627a27afb4f027a55b6b7f0e'),\n",
      " 'naam': 'Big Data',\n",
      " 'semester': 2,\n",
      " 'studiepunten': 5}\n"
     ]
    }
   ],
   "source": [
    "coll_vakken.find_one_and_delete({\"naam\": \"Machine Learning\"})\n",
    "for doc in coll_vakken.find():\n",
    "    pprint(doc)"
   ]
  },
  {
   "cell_type": "code",
   "execution_count": 32,
   "id": "415afe75",
   "metadata": {},
   "outputs": [
    {
     "name": "stdout",
     "output_type": "stream",
     "text": [
      "[]\n",
      "[]\n"
     ]
    }
   ],
   "source": [
    "print(database.list_collection_names())\n",
    "coll_studenten.drop()\n",
    "print(database.list_collection_names())"
   ]
  },
  {
   "cell_type": "code",
   "execution_count": 34,
   "id": "0cff2ebf",
   "metadata": {},
   "outputs": [
    {
     "name": "stdout",
     "output_type": "stream",
     "text": [
      "['admin', 'config', 'local']\n",
      "['admin', 'config', 'local']\n"
     ]
    }
   ],
   "source": [
    "print(client.list_database_names())\n",
    "client.drop_database(\"les\")\n",
    "print(client.list_database_names())"
   ]
  },
  {
   "cell_type": "code",
   "execution_count": null,
   "id": "1eda7ea3",
   "metadata": {},
   "outputs": [],
   "source": []
  }
 ],
 "metadata": {
  "kernelspec": {
   "display_name": "Python 3 (ipykernel)",
   "language": "python",
   "name": "python3"
  },
  "language_info": {
   "codemirror_mode": {
    "name": "ipython",
    "version": 3
   },
   "file_extension": ".py",
   "mimetype": "text/x-python",
   "name": "python",
   "nbconvert_exporter": "python",
   "pygments_lexer": "ipython3",
   "version": "3.8.8"
  }
 },
 "nbformat": 4,
 "nbformat_minor": 5
}
