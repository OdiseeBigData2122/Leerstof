{
 "cells": [
  {
   "cell_type": "markdown",
   "id": "7a82620d",
   "metadata": {},
   "source": [
    "# MLlib\n",
    "\n",
    "Spark biedt ook een framework aan voor MachineLearning modellen te trainen op gedistribueerde datasets.\n",
    "Dit framework is MLlib of ook wel sparkML genoemd.\n",
    "De code om te werken met deze package is sterk gelijkaardig aan sklearn.\n",
    "De API en een uitgebreide documentatie met voorbeeldcode kan je [hier](https://spark.apache.org/docs/latest/ml-guide.html) vinden.\n",
    "\n",
    "Deze package bied de volgende tools aan\n",
    "* ML-technieken: classificatie, regressie, clustering, ...\n",
    "* Features: Extracting en transforming van features, PCA, ...\n",
    "* Pipelines: Maak, train, optimaliseer en evalueer pipelines\n",
    "* Persistentie: Bewaar en laden van algoritmes/modellen\n",
    "* Databeheer: Algebra tools, statistieken, null-waarden, ...\n",
    "\n",
    "Let op dat er twee API's aangeboden worden, 1 gebaseerd op RDD's en 1 op DataFrames.\n",
    "De API gebaseerd op RDD's is ouder en minder flexibel dan de API gebruik makend van DataFrames.\n",
    "Momenteel werken ze allebei maar in de toekomst zou de RDD gebaseerde kunnen verdwijnen.\n",
    "\n",
    "## Utilities\n",
    "\n",
    "### Varianten voor numpy-arrays\n",
    "\n",
    "Voor feature sets en volledige matrices van datasets aan te maken kan je gebruik maken van de Vector en Matrix klassen.\n",
    "Deze beschikken over een Dense variant waar je elk element moet ingeven of een Sparse Variant waar cellen, elementen leeg kan laten.\n",
    "Dit ziet er als volgt uit:"
   ]
  },
  {
   "cell_type": "code",
   "execution_count": null,
   "id": "5ef759da",
   "metadata": {},
   "outputs": [],
   "source": []
  },
  {
   "cell_type": "markdown",
   "id": "d0143ac7",
   "metadata": {},
   "source": [
    "Het is belangrijk om te weten dat dit locale datastructuren (wrapper rond numpy array) zijn en geen gedistribueerde objecten."
   ]
  },
  {
   "cell_type": "markdown",
   "id": "36f5676b",
   "metadata": {},
   "source": [
    "### Statistieken\n",
    "\n",
    "Voor er kan gewerkt worden met statistieken moeten we (net zoals bij pandas) eerst een dataset hebben.\n",
    "Hieronder maken we een random dataframe aan van 50 rijen en 4 kolommen."
   ]
  },
  {
   "cell_type": "code",
   "execution_count": null,
   "id": "91673fc0",
   "metadata": {
    "scrolled": false
   },
   "outputs": [],
   "source": []
  },
  {
   "cell_type": "markdown",
   "id": "e5c3fad4",
   "metadata": {},
   "source": [
    "**Correlation matrix**\n",
    "\n",
    "Buiten de statistieken die berekend kunnen worden door de summary() functie kan ook de correlatiematrix belangrijk zijn.\n",
    "Deze matrix maakt het mogelijk om het verband tussen de verscheidene features te bestuderen.\n",
    "Deze matrix kan als volgt berekend worden voor een gedistribueerd dataframe."
   ]
  },
  {
   "cell_type": "code",
   "execution_count": null,
   "id": "f4b6287f",
   "metadata": {
    "scrolled": false
   },
   "outputs": [],
   "source": []
  },
  {
   "cell_type": "markdown",
   "id": "3e0084e1",
   "metadata": {},
   "source": [
    "**Onafhankelijksheidtest**\n",
    "\n",
    "Naast de correlatiematrix kan het ook belangrijk zijn om de onafhankelijkheid te testen tussen elke feature en een label.\n",
    "Dit kan uitgevoerd worden door een zogenaamde ChiSquareTest.\n",
    "Deze krijgt als input een dataframe, de naam van de kolom met de features (als vectors) en de naam van een kolom met de labels.\n",
    "We kunnen deze test uitvoeren als volgt:"
   ]
  },
  {
   "cell_type": "code",
   "execution_count": null,
   "id": "8412ba8d",
   "metadata": {},
   "outputs": [],
   "source": []
  },
  {
   "cell_type": "markdown",
   "id": "e3640d89",
   "metadata": {},
   "source": [
    "**Summarizer**\n",
    "\n",
    "Andere statistieken per kolom kunnen berekend worden door gebruik te maken van de Summarizer klasse:"
   ]
  },
  {
   "cell_type": "code",
   "execution_count": null,
   "id": "3c81a515",
   "metadata": {},
   "outputs": [],
   "source": []
  },
  {
   "cell_type": "markdown",
   "id": "ac099f10",
   "metadata": {},
   "source": [
    "Het gebruik maken van de Summarizer maakt het dus mogelijk om rechtstreeks op de feature vectors te werken zonder ze eerst terug te moeten splitsen."
   ]
  },
  {
   "cell_type": "markdown",
   "id": "fa4e0343",
   "metadata": {},
   "source": [
    "### Pipelines\n",
    "\n",
    "Pipelines binnen Spark zijn een groep van high-level API's steunend op Dataframes om ML-pipelines aan te maken, optimaliseren en trainen.\n",
    "De belangrijkste concepten binnen de Pipelines van Spark zijn:\n",
    "* Dataframe: concept van de dataset\n",
    "* Transformer: Zet een dataframe om in een ander dataframe\n",
    "* Estimator: Zet een dataframe om in een model/transformer\n",
    "* Pipeline: een ketting van transformers en estimators om een flow vast te leggen\n",
    "* Parameter: API voor parameters van transformers en estimators aan te passen\n",
    "\n",
    "Gebruik nu onderstaande mini-dataset waar we op basis van een tekstkolom met logistische regressie een bepaald label proberen te voorspellen.\n",
    "Maak hiervoor een Pipeline uit die bestaat uit de volgende stappen:\n",
    "* Tokenizer om de tekstkolom te splitsen in de overeenkomstige woorden\n",
    "* HashingTf om de term frequency van de woorden te bepalen en het om te zetten naar een feature vector\n",
    "* LogisticRegression Estimator om de voorspelling te doen.\n",
    "\n",
    "Train daarna deze pipeline en maak de voorspellingen voor de traningsdata.\n",
    "Hoe accuraat is dit model?"
   ]
  },
  {
   "cell_type": "code",
   "execution_count": null,
   "id": "5bf87b9e",
   "metadata": {},
   "outputs": [],
   "source": [
    "# Prepare training documents from a list of (id, text, label) tuples.\n",
    "training = spark.createDataFrame([\n",
    "    (0, \"a b c d e spark\", 1.0),\n",
    "    (1, \"b d\", 0.0),\n",
    "    (2, \"spark f g h\", 1.0),\n",
    "    (3, \"hadoop mapreduce\", 0.0)\n",
    "], [\"id\", \"text\", \"label\"])\n",
    "\n"
   ]
  },
  {
   "cell_type": "markdown",
   "id": "0d7e7af8",
   "metadata": {},
   "source": [
    "### Evalueren van een model\n",
    "\n",
    "In de pyspark.ml package zitten er ook functionaliteiten voor deze modellen te evalueren.\n",
    "Meer informatie hierover vind je [hier](https://spark.apache.org/docs/2.2.0/mllib-evaluation-metrics.html)."
   ]
  },
  {
   "cell_type": "code",
   "execution_count": null,
   "id": "dd4bd140",
   "metadata": {},
   "outputs": [],
   "source": [
    "# evalueren van het model"
   ]
  },
  {
   "cell_type": "markdown",
   "id": "0a305ea2",
   "metadata": {},
   "source": [
    "### Data sources\n",
    "\n",
    "Door gebruik te maken van de sparkContext kunnen een reeks standaard databronnen ingelezen worden om datasets uit op te bouwen (Csv, Json, ...).\n",
    "Daarnaast is het ook mogelijk om een folder met een reeks beelden te gebruiken als dataset om zo een model voor image classification te trainen.\n",
    "Download nu [deze](https://www.kaggle.com/returnofsputnik/chihuahua-or-muffin) dataset en upload ze naar een folder op het hadoop filesysteem."
   ]
  },
  {
   "cell_type": "code",
   "execution_count": null,
   "id": "7992c49c",
   "metadata": {},
   "outputs": [],
   "source": [
    "# download dataset"
   ]
  },
  {
   "cell_type": "code",
   "execution_count": null,
   "id": "e8ab5900",
   "metadata": {},
   "outputs": [],
   "source": [
    "# upload dataset"
   ]
  },
  {
   "cell_type": "markdown",
   "id": "70542e14",
   "metadata": {},
   "source": [
    "De geuploade images kunnen nu ingelezen worden als volgt:"
   ]
  },
  {
   "cell_type": "code",
   "execution_count": null,
   "id": "ad93c3d8",
   "metadata": {},
   "outputs": [],
   "source": [
    "# read images"
   ]
  },
  {
   "cell_type": "markdown",
   "id": "91a67bf4",
   "metadata": {},
   "source": [
    "Merk op dat het werken met images niet zo eenvoudig is.\n",
    "Hiervoor wordt binnen pyspark typisch gebruik gemaakt van de [sparkdl](https://smurching.github.io/spark-deep-learning/site/api/python/sparkdl.html) package.\n",
    "Hierbij staat de dl voor deep learning.\n",
    "Aangezien dit ons momenteel te ver leidt ga ik dit niet verder toelichten."
   ]
  },
  {
   "cell_type": "markdown",
   "id": "b0e4b653",
   "metadata": {},
   "source": [
    "Een andere aparte databron die eenvoudig ingelezen kan worden is het formaat \"libsvm\".\n",
    "Een bestand van dit formaat wordt ingelezen als een dataframe met twee kolommen: een label en een kolom met de feature-vectors.\n",
    "De code om dergelijk bestand in te laden is:"
   ]
  },
  {
   "cell_type": "code",
   "execution_count": null,
   "id": "ee23edf2",
   "metadata": {},
   "outputs": [],
   "source": [
    "df = spark.read.format(\"libsvm\").load(\"{path to file here}\")"
   ]
  }
 ],
 "metadata": {
  "kernelspec": {
   "display_name": "Python 3 (ipykernel)",
   "language": "python",
   "name": "python3"
  },
  "language_info": {
   "codemirror_mode": {
    "name": "ipython",
    "version": 3
   },
   "file_extension": ".py",
   "mimetype": "text/x-python",
   "name": "python",
   "nbconvert_exporter": "python",
   "pygments_lexer": "ipython3",
   "version": "3.8.8"
  }
 },
 "nbformat": 4,
 "nbformat_minor": 5
}
