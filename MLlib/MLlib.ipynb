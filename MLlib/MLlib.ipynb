{
 "cells": [
  {
   "cell_type": "markdown",
   "id": "7a82620d",
   "metadata": {},
   "source": [
    "# MLlib\n",
    "\n",
    "Spark biedt ook een framework aan voor MachineLearning modellen te trainen op gedistribueerde datasets.\n",
    "Dit framework is MLlib of ook wel sparkML genoemd.\n",
    "De code om te werken met deze package is sterk gelijkaardig aan sklearn.\n",
    "De API en een uitgebreide documentatie met voorbeeldcode kan je [hier](https://spark.apache.org/docs/latest/ml-guide.html) vinden.\n",
    "\n",
    "Deze package bied de volgende tools aan\n",
    "* ML-technieken: classificatie, regressie, clustering, ...\n",
    "* Features: Extracting en transforming van features, PCA, ...\n",
    "* Pipelines: Maak, train, optimaliseer en evalueer pipelines\n",
    "* Persistentie: Bewaar en laden van algoritmes/modellen\n",
    "* Databeheer: Algebra tools, statistieken, null-waarden, ...\n",
    "\n",
    "Let op dat er twee API's aangeboden worden, 1 gebaseerd op RDD's en 1 op DataFrames.\n",
    "De API gebaseerd op RDD's is ouder en minder flexibel dan de API gebruik makend van DataFrames.\n",
    "Momenteel werken ze allebei maar in de toekomst zou de RDD gebaseerde kunnen verdwijnen.\n",
    "\n",
    "## Utilities\n",
    "\n",
    "### Varianten voor numpy-arrays\n",
    "\n",
    "Voor feature sets en volledige matrices van datasets aan te maken kan je gebruik maken van de Vector en Matrix klassen.\n",
    "Deze beschikken over een Dense variant waar je elk element moet ingeven of een Sparse Variant waar cellen, elementen leeg kan laten.\n",
    "Dit ziet er als volgt uit:"
   ]
  },
  {
   "cell_type": "code",
   "execution_count": 6,
   "id": "5ef759da",
   "metadata": {},
   "outputs": [
    {
     "name": "stdout",
     "output_type": "stream",
     "text": [
      "(4,[1,3],[20.0,40.0])\n",
      "[10.0,20.0,30.0,40.0]\n",
      "DenseMatrix([[ 0.,  4.,  8., 12., 16.],\n",
      "             [ 1.,  5.,  9., 13., 17.],\n",
      "             [ 2.,  6., 10., 14., 18.],\n",
      "             [ 3.,  7., 11., 15., 19.]])\n"
     ]
    }
   ],
   "source": [
    "from pyspark.sql import SparkSession\n",
    "from pyspark.ml.linalg import Vectors, Matrices\n",
    "\n",
    "spark = SparkSession.builder.appName(\"MLlib les\").getOrCreate()\n",
    "\n",
    "data = Vectors.sparse(4, [(1, 20.0), (3, 40.0)])\n",
    "print(data)\n",
    "data = Vectors.dense([10.0, 20.0, 30.0, 40.0])\n",
    "print(data)\n",
    "\n",
    "data = Matrices.dense(4, 5, range(20))\n",
    "print(data)"
   ]
  },
  {
   "cell_type": "markdown",
   "id": "d0143ac7",
   "metadata": {},
   "source": [
    "Het is belangrijk om te weten dat dit locale datastructuren (wrapper rond numpy array) zijn en geen gedistribueerde objecten."
   ]
  },
  {
   "cell_type": "markdown",
   "id": "36f5676b",
   "metadata": {},
   "source": [
    "### Statistieken\n",
    "\n",
    "Voor er kan gewerkt worden met statistieken moeten we (net zoals bij pandas) eerst een dataset hebben.\n",
    "Hieronder maken we een random dataframe aan van 50 rijen en 4 kolommen."
   ]
  },
  {
   "cell_type": "code",
   "execution_count": 11,
   "id": "91673fc0",
   "metadata": {
    "scrolled": false
   },
   "outputs": [
    {
     "name": "stderr",
     "output_type": "stream",
     "text": [
      "\r",
      "[Stage 15:===========================================>              (3 + 1) / 4]\r",
      "\r",
      "                                                                                \r"
     ]
    },
    {
     "name": "stdout",
     "output_type": "stream",
     "text": [
      "+-------+--------------------+--------------------+-------------------+-------------------+\n",
      "|summary|                  _1|                  _2|                 _3|                 _4|\n",
      "+-------+--------------------+--------------------+-------------------+-------------------+\n",
      "|  count|                  50|                  50|                 50|                 50|\n",
      "|   mean|  0.5619601610654407| 0.49209999061944076|  0.521875319288421| 0.4590733343111752|\n",
      "| stddev| 0.26506269062019394| 0.29904667441412913|0.29185161329470144|0.23896385789431646|\n",
      "|    min|0.021379685980711383|0.003812825071723...|0.02943629334755138|0.03248279020730849|\n",
      "|    max|  0.9851111772284917|  0.9912903124504471| 0.9910200179131231| 0.9271720371635891|\n",
      "+-------+--------------------+--------------------+-------------------+-------------------+\n",
      "\n"
     ]
    },
    {
     "name": "stderr",
     "output_type": "stream",
     "text": [
      "\r",
      "[Stage 18:>                                                         (0 + 4) / 4]\r"
     ]
    },
    {
     "name": "stdout",
     "output_type": "stream",
     "text": [
      "+-------+--------------------+--------------------+-------------------+-------------------+\n",
      "|summary|                  _1|                  _2|                 _3|                 _4|\n",
      "+-------+--------------------+--------------------+-------------------+-------------------+\n",
      "|  count|                  50|                  50|                 50|                 50|\n",
      "|   mean|  0.5619601610654407| 0.49209999061944076|  0.521875319288421| 0.4590733343111752|\n",
      "| stddev| 0.26506269062019394| 0.29904667441412913|0.29185161329470144|0.23896385789431646|\n",
      "|    min|0.021379685980711383|0.003812825071723...|0.02943629334755138|0.03248279020730849|\n",
      "|    25%|  0.3514710263444104| 0.19116167583430976| 0.2425225131579518|0.29996042545122203|\n",
      "|    50%|  0.5745621026304127|  0.5347308147846938| 0.5479747750189802|0.47397828647392315|\n",
      "|    75%|  0.7365141787009224|  0.7777935103406163| 0.7547012481420566| 0.6489217458144092|\n",
      "|    max|  0.9851111772284917|  0.9912903124504471| 0.9910200179131231| 0.9271720371635891|\n",
      "+-------+--------------------+--------------------+-------------------+-------------------+\n",
      "\n"
     ]
    },
    {
     "name": "stderr",
     "output_type": "stream",
     "text": [
      "\r",
      "                                                                                \r"
     ]
    }
   ],
   "source": [
    "from pyspark.mllib.random import RandomRDDs\n",
    "\n",
    "data = RandomRDDs.uniformVectorRDD(spark.sparkContext, 50, 4).map(lambda a: a.tolist()).toDF()\n",
    "#data.show()\n",
    "\n",
    "data.describe().show()\n",
    "data.summary().show()"
   ]
  },
  {
   "cell_type": "markdown",
   "id": "e5c3fad4",
   "metadata": {},
   "source": [
    "**Correlation matrix**\n",
    "\n",
    "Buiten de statistieken die berekend kunnen worden door de summary() functie kan ook de correlatiematrix belangrijk zijn.\n",
    "Deze matrix maakt het mogelijk om het verband tussen de verscheidene features te bestuderen.\n",
    "Deze matrix kan als volgt berekend worden voor een gedistribueerd dataframe."
   ]
  },
  {
   "cell_type": "code",
   "execution_count": 16,
   "id": "f4b6287f",
   "metadata": {
    "scrolled": false
   },
   "outputs": [
    {
     "name": "stdout",
     "output_type": "stream",
     "text": [
      "+------------------+------------------+-------------------+-------------------+\n",
      "|                _1|                _2|                 _3|                 _4|\n",
      "+------------------+------------------+-------------------+-------------------+\n",
      "|0.7365141787009224|0.3168738538654351|0.43566569091158835| 0.7033486023579659|\n",
      "|0.2437431531535279|0.5880173833841424| 0.7547012481420566| 0.2656352926280181|\n",
      "|0.6771975979073663|0.5185951554693796| 0.6687511124589612| 0.4135632219689097|\n",
      "|0.8589265556823864|0.6500408805605238| 0.8613772751634974|0.37799475244509406|\n",
      "|0.6249239720137054|0.9912903124504471|0.02943629334755138|  0.716335492619434|\n",
      "+------------------+------------------+-------------------+-------------------+\n",
      "only showing top 5 rows\n",
      "\n",
      "+------------------+------------------+-------------------+-------------------+------------------------------------------------------------------------------+\n",
      "|_1                |_2                |_3                 |_4                 |vector                                                                        |\n",
      "+------------------+------------------+-------------------+-------------------+------------------------------------------------------------------------------+\n",
      "|0.7365141787009224|0.3168738538654351|0.43566569091158835|0.7033486023579659 |[0.7365141787009224,0.3168738538654351,0.43566569091158835,0.7033486023579659]|\n",
      "|0.2437431531535279|0.5880173833841424|0.7547012481420566 |0.2656352926280181 |[0.2437431531535279,0.5880173833841424,0.7547012481420566,0.2656352926280181] |\n",
      "|0.6771975979073663|0.5185951554693796|0.6687511124589612 |0.4135632219689097 |[0.6771975979073663,0.5185951554693796,0.6687511124589612,0.4135632219689097] |\n",
      "|0.8589265556823864|0.6500408805605238|0.8613772751634974 |0.37799475244509406|[0.8589265556823864,0.6500408805605238,0.8613772751634974,0.37799475244509406]|\n",
      "|0.6249239720137054|0.9912903124504471|0.02943629334755138|0.716335492619434  |[0.6249239720137054,0.9912903124504471,0.02943629334755138,0.716335492619434] |\n",
      "+------------------+------------------+-------------------+-------------------+------------------------------------------------------------------------------+\n",
      "only showing top 5 rows\n",
      "\n"
     ]
    },
    {
     "name": "stderr",
     "output_type": "stream",
     "text": [
      "                                                                                \r"
     ]
    },
    {
     "name": "stdout",
     "output_type": "stream",
     "text": [
      "+--------------------------------------------------------------------------------------------------------------------------------------------------------------------------------------------------------------------------------------------------------------------------------------------------------------------------------------------------------------+\n",
      "|pearson(vector)                                                                                                                                                                                                                                                                                                                                               |\n",
      "+--------------------------------------------------------------------------------------------------------------------------------------------------------------------------------------------------------------------------------------------------------------------------------------------------------------------------------------------------------------+\n",
      "|1.0                 0.3735751535590527    0.1705463698710881    0.1417917889216744    \\n0.3735751535590527  1.0                   -0.12559537984292518  0.31600553440337104   \\n0.1705463698710881  -0.12559537984292518  1.0                   -0.10171236904868844  \\n0.1417917889216744  0.31600553440337104   -0.10171236904868844  1.0                   |\n",
      "+--------------------------------------------------------------------------------------------------------------------------------------------------------------------------------------------------------------------------------------------------------------------------------------------------------------------------------------------------------------+\n",
      "\n"
     ]
    }
   ],
   "source": [
    "# eerst alles omzetten naar vector\n",
    "from pyspark.ml.feature import VectorAssembler\n",
    "assembler = VectorAssembler(inputCols=data.columns, outputCol=\"vector\")\n",
    "data_vector = assembler.transform(data)\n",
    "data.show(5)\n",
    "data_vector.show(5, truncate=False)\n",
    "\n",
    "from pyspark.ml.stat import Correlation\n",
    "df_corr = Correlation.corr(data_vector, \"vector\")\n",
    "df_corr.show(truncate=False)"
   ]
  },
  {
   "cell_type": "markdown",
   "id": "3e0084e1",
   "metadata": {},
   "source": [
    "**Onafhankelijksheidtest**\n",
    "\n",
    "Naast de correlatiematrix kan het ook belangrijk zijn om de onafhankelijkheid te testen tussen elke feature en een label.\n",
    "Dit kan uitgevoerd worden door een zogenaamde ChiSquareTest.\n",
    "Deze krijgt als input een dataframe, de naam van de kolom met de features (als vectors) en de naam van een kolom met de labels.\n",
    "We kunnen deze test uitvoeren als volgt:"
   ]
  },
  {
   "cell_type": "code",
   "execution_count": 20,
   "id": "8412ba8d",
   "metadata": {},
   "outputs": [
    {
     "name": "stdout",
     "output_type": "stream",
     "text": [
      "+------------------+------------------+-------------------+-------------------+--------------------+-----+\n",
      "|                _1|                _2|                 _3|                 _4|              vector|label|\n",
      "+------------------+------------------+-------------------+-------------------+--------------------+-----+\n",
      "|0.7365141787009224|0.3168738538654351|0.43566569091158835| 0.7033486023579659|[0.73651417870092...|    1|\n",
      "|0.2437431531535279|0.5880173833841424| 0.7547012481420566| 0.2656352926280181|[0.24374315315352...|    0|\n",
      "|0.6771975979073663|0.5185951554693796| 0.6687511124589612| 0.4135632219689097|[0.67719759790736...|    0|\n",
      "|0.8589265556823864|0.6500408805605238| 0.8613772751634974|0.37799475244509406|[0.85892655568238...|    0|\n",
      "|0.6249239720137054|0.9912903124504471|0.02943629334755138|  0.716335492619434|[0.62492397201370...|    0|\n",
      "+------------------+------------------+-------------------+-------------------+--------------------+-----+\n",
      "only showing top 5 rows\n",
      "\n"
     ]
    },
    {
     "name": "stderr",
     "output_type": "stream",
     "text": [
      "[Stage 49:===========================================>              (3 + 1) / 4]\r"
     ]
    },
    {
     "name": "stdout",
     "output_type": "stream",
     "text": [
      "+------------------------------------------------------------------------------+----------------+-------------------------------------------------------------------------+\n",
      "|pValues                                                                       |degreesOfFreedom|statistics                                                               |\n",
      "+------------------------------------------------------------------------------+----------------+-------------------------------------------------------------------------+\n",
      "|[0.4334366972557635,0.4334366972557635,0.4334366972557635,0.43343669725576317]|[49, 49, 49, 49]|[50.00000000000005,50.00000000000005,50.00000000000005,50.00000000000006]|\n",
      "+------------------------------------------------------------------------------+----------------+-------------------------------------------------------------------------+\n",
      "\n"
     ]
    },
    {
     "name": "stderr",
     "output_type": "stream",
     "text": [
      "\r",
      "                                                                                \r"
     ]
    }
   ],
   "source": [
    "from pyspark.sql.functions import rand, when\n",
    "\n",
    "# voeg een label toe op basis van een nieuw willekeurig getal\n",
    "# we gaan kijken of het label afhankelijk is van de features in de vector kolom \n",
    "data_label = data_vector.withColumn(\"label\", when(rand() > 0.5, 1).otherwise(0))\n",
    "data_label.show(5)\n",
    "\n",
    "from pyspark.ml.stat import ChiSquareTest\n",
    "data_chi2test = ChiSquareTest.test(data_label, \"vector\", \"label\")\n",
    "data_chi2test.show(truncate=False)\n",
    "\n",
    "# goede features -> p waarde kleiner dan 0.05"
   ]
  },
  {
   "cell_type": "markdown",
   "id": "e3640d89",
   "metadata": {},
   "source": [
    "**Summarizer**\n",
    "\n",
    "Andere statistieken per kolom kunnen berekend worden door gebruik te maken van de Summarizer klasse:"
   ]
  },
  {
   "cell_type": "code",
   "execution_count": 23,
   "id": "3c81a515",
   "metadata": {},
   "outputs": [
    {
     "name": "stderr",
     "output_type": "stream",
     "text": [
      "\r",
      "[Stage 54:>                                                         (0 + 4) / 4]\r",
      "\r",
      "[Stage 54:==============>                                           (1 + 3) / 4]\r"
     ]
    },
    {
     "name": "stdout",
     "output_type": "stream",
     "text": [
      "+-----------------------------------------------------------------------------------------------------------------------------------------------------------------+\n",
      "|aggregate_metrics(vector, 1.0)                                                                                                                                   |\n",
      "+-----------------------------------------------------------------------------------------------------------------------------------------------------------------+\n",
      "|{[0.5619601610654409,0.4920999906194408,0.521875319288421,0.4590733343111752], 50, [0.9851111772284917,0.9912903124504471,0.9910200179131231,0.9271720371635891]}|\n",
      "+-----------------------------------------------------------------------------------------------------------------------------------------------------------------+\n",
      "\n"
     ]
    },
    {
     "name": "stderr",
     "output_type": "stream",
     "text": [
      "\r",
      "                                                                                \r"
     ]
    }
   ],
   "source": [
    "# mean count max\n",
    "from pyspark.ml.stat import Summarizer\n",
    "\n",
    "summarizer = Summarizer.metrics(\"mean\", \"count\", \"max\")\n",
    "data_vector.select(summarizer.summary(data_vector.vector)).show(truncate=False)"
   ]
  },
  {
   "cell_type": "markdown",
   "id": "ac099f10",
   "metadata": {},
   "source": [
    "Het gebruik maken van de Summarizer maakt het dus mogelijk om rechtstreeks op de feature vectors te werken zonder ze eerst terug te moeten splitsen."
   ]
  },
  {
   "cell_type": "markdown",
   "id": "fa4e0343",
   "metadata": {},
   "source": [
    "### Pipelines\n",
    "\n",
    "Pipelines binnen Spark zijn een groep van high-level API's steunend op Dataframes om ML-pipelines aan te maken, optimaliseren en trainen.\n",
    "De belangrijkste concepten binnen de Pipelines van Spark zijn:\n",
    "* Dataframe: concept van de dataset\n",
    "* Transformer: Zet een dataframe om in een ander dataframe\n",
    "* Estimator: Zet een dataframe om in een model/transformer\n",
    "* Pipeline: een ketting van transformers en estimators om een flow vast te leggen\n",
    "* Parameter: API voor parameters van transformers en estimators aan te passen\n",
    "\n",
    "Gebruik nu onderstaande mini-dataset waar we op basis van een tekstkolom met logistische regressie een bepaald label proberen te voorspellen.\n",
    "Maak hiervoor een Pipeline uit die bestaat uit de volgende stappen:\n",
    "* Tokenizer om de tekstkolom te splitsen in de overeenkomstige woorden\n",
    "* HashingTf om de term frequency van de woorden te bepalen en het om te zetten naar een feature vector\n",
    "* LogisticRegression Estimator om de voorspelling te doen.\n",
    "\n",
    "Train daarna deze pipeline en maak de voorspellingen voor de traningsdata.\n",
    "Hoe accuraat is dit model?"
   ]
  },
  {
   "cell_type": "code",
   "execution_count": 30,
   "id": "5bf87b9e",
   "metadata": {},
   "outputs": [
    {
     "name": "stderr",
     "output_type": "stream",
     "text": [
      "2022-03-24 10:53:11,188 WARN netlib.BLAS: Failed to load implementation from: com.github.fommil.netlib.NativeSystemBLAS\n",
      "2022-03-24 10:53:11,189 WARN netlib.BLAS: Failed to load implementation from: com.github.fommil.netlib.NativeRefBLAS\n"
     ]
    },
    {
     "name": "stdout",
     "output_type": "stream",
     "text": [
      "+---+-----------------+-----+-------------------------+----------------------------------------------------------------------------+----------------------------------------+-----------------------------------------+----------+\n",
      "|id |text             |label|words                    |features                                                                    |rawPrediction                           |probability                              |prediction|\n",
      "+---+-----------------+-----+-------------------------+----------------------------------------------------------------------------+----------------------------------------+-----------------------------------------+----------+\n",
      "|0  |a a b c d e spark|1.0  |[a, a, b, c, d, e, spark]|(262144,[74920,89530,107107,148981,167694,173558],[1.0,1.0,2.0,1.0,1.0,1.0])|[-19.141960614724113,19.141960614724113]|[4.86129672108177E-9,0.9999999951387033] |1.0       |\n",
      "|1  |b d              |0.0  |[b, d]                   |(262144,[89530,148981],[1.0,1.0])                                           |[18.801210232624484,-18.801210232624484]|[0.9999999931650059,6.834994126236893E-9]|0.0       |\n",
      "|2  |spark f g h      |1.0  |[spark, f, g, h]         |(262144,[36803,173558,209078,228158],[1.0,1.0,1.0,1.0])                     |[-19.280789605400386,19.280789605400386]|[4.231160169977654E-9,0.9999999957688398]|1.0       |\n",
      "|3  |hadoop mapreduce |0.0  |[hadoop, mapreduce]      |(262144,[132966,198017],[1.0,1.0])                                          |[19.805358799142624,-19.805358799142624]|[0.9999999974959559,2.504044083195822E-9]|0.0       |\n",
      "+---+-----------------+-----+-------------------------+----------------------------------------------------------------------------+----------------------------------------+-----------------------------------------+----------+\n",
      "\n"
     ]
    }
   ],
   "source": [
    "# Prepare training documents from a list of (id, text, label) tuples.\n",
    "# Classificatie : zit spark in de tekst -> 1 is true, 0 is false\n",
    "training = spark.createDataFrame([\n",
    "    (0, \"a a b c d e spark\", 1.0),\n",
    "    (1, \"b d\", 0.0),\n",
    "    (2, \"spark f g h\", 1.0),\n",
    "    (3, \"hadoop mapreduce\", 0.0)\n",
    "], [\"id\", \"text\", \"label\"])\n",
    "\n",
    "from pyspark.ml import Pipeline\n",
    "from pyspark.ml.feature import Tokenizer, HashingTF\n",
    "from pyspark.ml.classification import LogisticRegression\n",
    "\n",
    "# stap 1 -> splits tekst in list\n",
    "tokenizer = Tokenizer(inputCol=\"text\", outputCol=\"words\")\n",
    "# resultaat = [a, b, c, d, e, spark]\n",
    "hasher = HashingTF(inputCol=\"words\", outputCol=\"features\")\n",
    "# resultaat = (262144,[74920,89530,107107,148981,167694,173558],[1.0,1.0,1.0,1.0,1.0,1.0])\n",
    "# dit is een sparse vector\n",
    "# 262144 aantal elementen/mogelijke hashes\n",
    "# woord met hash 74920 staat er 1 keer in, 89530 ook 1 keer in , ....\n",
    "# dit is eigenlijk de bag of words\n",
    "lr = LogisticRegression()\n",
    "\n",
    "pipeline = Pipeline(stages=[tokenizer, hasher, lr])\n",
    "\n",
    "#hasher.transform(tokenizer.transform(training)).show(truncate=False)\n",
    "model = pipeline.fit(training)\n",
    "predictions = model.transform(training)\n",
    "predictions.show(truncate=False)"
   ]
  },
  {
   "cell_type": "markdown",
   "id": "0d7e7af8",
   "metadata": {},
   "source": [
    "### Evalueren van een model\n",
    "\n",
    "In de pyspark.ml package zitten er ook functionaliteiten voor deze modellen te evalueren.\n",
    "Meer informatie hierover vind je [hier](https://spark.apache.org/docs/2.2.0/mllib-evaluation-metrics.html)."
   ]
  },
  {
   "cell_type": "code",
   "execution_count": 31,
   "id": "dd4bd140",
   "metadata": {},
   "outputs": [
    {
     "data": {
      "text/plain": [
       "1.0"
      ]
     },
     "execution_count": 31,
     "metadata": {},
     "output_type": "execute_result"
    }
   ],
   "source": [
    "# evalueren van het model\n",
    "from pyspark.ml.evaluation import BinaryClassificationEvaluator\n",
    "\n",
    "evaluator = BinaryClassificationEvaluator()\n",
    "evaluator.evaluate(predictions)"
   ]
  },
  {
   "cell_type": "markdown",
   "id": "0a305ea2",
   "metadata": {},
   "source": [
    "### Data sources\n",
    "\n",
    "Door gebruik te maken van de sparkContext kunnen een reeks standaard databronnen ingelezen worden om datasets uit op te bouwen (Csv, Json, ...).\n",
    "Daarnaast is het ook mogelijk om een folder met een reeks beelden te gebruiken als dataset om zo een model voor image classification te trainen.\n",
    "Download nu [deze](https://www.kaggle.com/returnofsputnik/chihuahua-or-muffin) dataset en upload ze naar een folder op het hadoop filesysteem."
   ]
  },
  {
   "cell_type": "code",
   "execution_count": 32,
   "id": "7992c49c",
   "metadata": {},
   "outputs": [
    {
     "name": "stdout",
     "output_type": "stream",
     "text": [
      "Please provide your Kaggle credentials to download this dataset. Learn more: http://bit.ly/kaggle-creds\n",
      "Your Kaggle username: jensbaetensodisee\n",
      "Your Kaggle Key: ········\n"
     ]
    },
    {
     "name": "stderr",
     "output_type": "stream",
     "text": [
      "100%|████████████████████████████████████████| 183k/183k [00:00<00:00, 1.92MB/s]"
     ]
    },
    {
     "name": "stdout",
     "output_type": "stream",
     "text": [
      "Downloading chihuahua-or-muffin.zip to ./chihuahua-or-muffin\n",
      "\n"
     ]
    },
    {
     "name": "stderr",
     "output_type": "stream",
     "text": [
      "\n"
     ]
    }
   ],
   "source": [
    "# download dataset\n",
    "import opendatasets as od\n",
    "\n",
    "od.download(\"https://www.kaggle.com/returnofsputnik/chihuahua-or-muffin\")"
   ]
  },
  {
   "cell_type": "code",
   "execution_count": 33,
   "id": "e8ab5900",
   "metadata": {},
   "outputs": [
    {
     "name": "stderr",
     "output_type": "stream",
     "text": [
      "2022-03-24 11:03:37,762 WARN util.NativeCodeLoader: Unable to load native-hadoop library for your platform... using builtin-java classes where applicable\n"
     ]
    },
    {
     "name": "stdout",
     "output_type": "stream",
     "text": [
      "/user/bigdata/06_Spark\n"
     ]
    },
    {
     "data": {
      "text/plain": [
       "0"
      ]
     },
     "execution_count": 33,
     "metadata": {},
     "output_type": "execute_result"
    }
   ],
   "source": [
    "# upload dataset\n",
    "import pydoop.hdfs as hdfs\n",
    "\n",
    "localFS = hdfs.hdfs(host='')\n",
    "client = hdfs.hdfs(host='localhost', port=9000)\n",
    "\n",
    "if not client.exists('/user/bigdata/06_Spark'):\n",
    "    client.create_directory('/user/bigdata/06_Spark')\n",
    "client.set_working_directory('/user/bigdata/06_Spark')\n",
    "print(client.working_directory())\n",
    "      \n",
    "# upload input.txt\n",
    "localFS.copy(\"chihuahua-or-muffin\", client, \"chihuahua-or-muffin\")"
   ]
  },
  {
   "cell_type": "markdown",
   "id": "70542e14",
   "metadata": {},
   "source": [
    "De geuploade images kunnen nu ingelezen worden als volgt:"
   ]
  },
  {
   "cell_type": "code",
   "execution_count": 39,
   "id": "ad93c3d8",
   "metadata": {},
   "outputs": [
    {
     "name": "stdout",
     "output_type": "stream",
     "text": [
      "+--------------------+\n",
      "|               image|\n",
      "+--------------------+\n",
      "|{hdfs://localhost...|\n",
      "|{hdfs://localhost...|\n",
      "+--------------------+\n",
      "only showing top 2 rows\n",
      "\n",
      "root\n",
      " |-- image: struct (nullable = true)\n",
      " |    |-- origin: string (nullable = true)\n",
      " |    |-- height: integer (nullable = true)\n",
      " |    |-- width: integer (nullable = true)\n",
      " |    |-- nChannels: integer (nullable = true)\n",
      " |    |-- mode: integer (nullable = true)\n",
      " |    |-- data: binary (nullable = true)\n",
      "\n",
      "+-------------------------------------------------------------------------------+------+-----+\n",
      "|origin                                                                         |height|width|\n",
      "+-------------------------------------------------------------------------------+------+-----+\n",
      "|hdfs://localhost:9000/user/bigdata/06_Spark/chihuahua-or-muffin/muffin-4.jpeg  |170   |172  |\n",
      "|hdfs://localhost:9000/user/bigdata/06_Spark/chihuahua-or-muffin/muffin-7.jpeg  |172   |171  |\n",
      "|hdfs://localhost:9000/user/bigdata/06_Spark/chihuahua-or-muffin/muffin-1.jpeg  |171   |171  |\n",
      "|hdfs://localhost:9000/user/bigdata/06_Spark/chihuahua-or-muffin/muffin-8.jpeg  |172   |172  |\n",
      "|hdfs://localhost:9000/user/bigdata/06_Spark/chihuahua-or-muffin/chihuahua-6.jpg|169   |172  |\n",
      "|hdfs://localhost:9000/user/bigdata/06_Spark/chihuahua-or-muffin/chihuahua-8.jpg|172   |168  |\n",
      "|hdfs://localhost:9000/user/bigdata/06_Spark/chihuahua-or-muffin/muffin-6.jpeg  |169   |168  |\n",
      "|hdfs://localhost:9000/user/bigdata/06_Spark/chihuahua-or-muffin/chihuahua-5.jpg|169   |171  |\n",
      "|hdfs://localhost:9000/user/bigdata/06_Spark/chihuahua-or-muffin/muffin-2.jpeg  |171   |168  |\n",
      "|hdfs://localhost:9000/user/bigdata/06_Spark/chihuahua-or-muffin/muffin-5.jpeg  |169   |171  |\n",
      "|hdfs://localhost:9000/user/bigdata/06_Spark/chihuahua-or-muffin/muffin-3.jpeg  |170   |171  |\n",
      "|hdfs://localhost:9000/user/bigdata/06_Spark/chihuahua-or-muffin/chihuahua-3.jpg|170   |171  |\n",
      "|hdfs://localhost:9000/user/bigdata/06_Spark/chihuahua-or-muffin/chihuahua-4.jpg|170   |168  |\n",
      "|hdfs://localhost:9000/user/bigdata/06_Spark/chihuahua-or-muffin/chihuahua-7.jpg|172   |171  |\n",
      "|hdfs://localhost:9000/user/bigdata/06_Spark/chihuahua-or-muffin/chihuahua-1.jpg|171   |171  |\n",
      "|hdfs://localhost:9000/user/bigdata/06_Spark/chihuahua-or-muffin/chihuahua-2.jpg|171   |172  |\n",
      "+-------------------------------------------------------------------------------+------+-----+\n",
      "\n"
     ]
    }
   ],
   "source": [
    "# read images\n",
    "df = spark.read.format(\"image\").option(\"dropInvalid\",True).load(\"06_Spark/chihuahua-or-muffin\")\n",
    "df.show(2)\n",
    "df.printSchema()\n",
    "df.select(\"image.origin\", \"image.height\", \"image.width\").show(truncate=False)"
   ]
  },
  {
   "cell_type": "markdown",
   "id": "91a67bf4",
   "metadata": {},
   "source": [
    "Merk op dat het werken met images niet zo eenvoudig is.\n",
    "Hiervoor wordt binnen pyspark typisch gebruik gemaakt van de [sparkdl](https://smurching.github.io/spark-deep-learning/site/api/python/sparkdl.html) package.\n",
    "Hierbij staat de dl voor deep learning.\n",
    "Aangezien dit ons momenteel te ver leidt ga ik dit niet verder toelichten."
   ]
  },
  {
   "cell_type": "markdown",
   "id": "b0e4b653",
   "metadata": {},
   "source": [
    "Een andere aparte databron die eenvoudig ingelezen kan worden is het formaat \"libsvm\".\n",
    "Een bestand van dit formaat wordt ingelezen als een dataframe met twee kolommen: een label en een kolom met de feature-vectors.\n",
    "De code om dergelijk bestand in te laden is:"
   ]
  },
  {
   "cell_type": "code",
   "execution_count": null,
   "id": "ee23edf2",
   "metadata": {},
   "outputs": [],
   "source": [
    "df = spark.read.format(\"libsvm\").load(\"{path to file here}\")"
   ]
  }
 ],
 "metadata": {
  "kernelspec": {
   "display_name": "Python 3 (ipykernel)",
   "language": "python",
   "name": "python3"
  },
  "language_info": {
   "codemirror_mode": {
    "name": "ipython",
    "version": 3
   },
   "file_extension": ".py",
   "mimetype": "text/x-python",
   "name": "python",
   "nbconvert_exporter": "python",
   "pygments_lexer": "ipython3",
   "version": "3.8.8"
  }
 },
 "nbformat": 4,
 "nbformat_minor": 5
}
