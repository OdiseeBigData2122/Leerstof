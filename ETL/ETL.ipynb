{
 "cells": [
  {
   "cell_type": "markdown",
   "id": "0b9bd2cb",
   "metadata": {},
   "source": [
    "# ETL\n",
    "\n",
    "Het extract - transform - load concept is een veel voorkomend begrip in (big) data toepassingen en geeft het stappenplan weer van de levenscyclus van de data binnen je toepassing.\n",
    "Het concept bestaat uit drie stappen:\n",
    "* extract: zoeken van data, inlezen en validatie\n",
    "* transform: verwerken van data, data cleaning, aggregatie, groupering, filtering, ...\n",
    "* load: opslaan van de getransformeerde data in een file, database, datawarehouse, datalake, ...\n",
    "\n",
    "In de rest van deze notebook gaan we bestuderen hoe deze stappen uit te voeren met Spark.\n",
    "Hiervoor gaan we een csv gebruiken als bronbestand."
   ]
  },
  {
   "cell_type": "markdown",
   "id": "43b4d7a1",
   "metadata": {},
   "source": [
    "## Extract\n",
    "\n",
    "In deze directory staat een zip file waarin deze csv is opgeslaan. \n",
    "Unzip deze file eerst en upload het naar het hdfs"
   ]
  },
  {
   "cell_type": "code",
   "execution_count": null,
   "id": "10681358",
   "metadata": {},
   "outputs": [],
   "source": [
    "import zipfile\n",
    "\n",
    "with zipfile.ZipFile(\"cars.zip\", 'r') as zip_ref:\n",
    "    zip_ref.extractall()\n",
    "    \n",
    "import pydoop.hdfs as hdfs\n",
    "\n",
    "localFS = hdfs.hdfs(host='')\n",
    "client = hdfs.hdfs(host='localhost', port=9000)\n",
    "\n",
    "if not client.exists('/user/bigdata/08_ETL'):\n",
    "    client.create_directory('/user/bigdata/08_ETL')\n",
    "\n",
    "# do some cleaning in case anything else than input is present on HDFS\n",
    "for f in client.list_directory(\".\"):\n",
    "    client.delete(f[\"name\"], True)\n",
    "        \n",
    "# upload input.txt\n",
    "hdfs_filename = \"08_ETL/cars.csv\"\n",
    "localFS.copy(\"cars.csv\", client, hdfs_filename)"
   ]
  },
  {
   "cell_type": "markdown",
   "id": "201b7992",
   "metadata": {},
   "source": [
    "Maak nu een locale sparkcontext aan en lees dit bestand in"
   ]
  },
  {
   "cell_type": "code",
   "execution_count": null,
   "id": "c2336286",
   "metadata": {},
   "outputs": [],
   "source": []
  },
  {
   "cell_type": "markdown",
   "id": "f1963092",
   "metadata": {},
   "source": [
    "De datastructuur van het csv is als volgt:"
   ]
  },
  {
   "cell_type": "code",
   "execution_count": null,
   "id": "be7c2042",
   "metadata": {},
   "outputs": [],
   "source": []
  },
  {
   "cell_type": "markdown",
   "id": "1efc8148",
   "metadata": {},
   "source": [
    "## Transform\n",
    "\n",
    "De transform stap is de meest complexe stap van de drie en kan uit een grote verscheidenheid van bewerkingen bestaan, zoals:\n",
    "* Dataformaten aanpassen\n",
    "* Vertalingen van tekst\n",
    "* Geencodeerde waarden aanpassen: 0/1 vs true/false of m/f vs male/female\n",
    "* Allerhande data-cleaning stappen\n",
    "* Encoderen (Ordinal of One-hot) van categorieke kolommen\n",
    "* Groeperen van data\n",
    "* Uitvoeren van berekeningen \n",
    "* ...\n",
    "\n",
    "Schrijf hieronder eerst zelf de code om de volgende stappen uit te voeren:\n",
    "* Omzetten naar integer van de kolommen: odometer_value, year_produced, engine_capacity, price_usd, number_of_photos, up_counter, duration_listed\n",
    "* Omzetten naar boolean van de kolommen: engine_has_gas, has_warranty, is_exchangeable, feature_0 tot en met 9\n",
    "* Bereken het aantal null en nan waarden per kolom"
   ]
  },
  {
   "cell_type": "code",
   "execution_count": null,
   "id": "eadd2f5c",
   "metadata": {},
   "outputs": [],
   "source": []
  },
  {
   "cell_type": "code",
   "execution_count": null,
   "id": "fa4ab062",
   "metadata": {},
   "outputs": [],
   "source": []
  },
  {
   "cell_type": "code",
   "execution_count": null,
   "id": "be33225b",
   "metadata": {},
   "outputs": [],
   "source": []
  },
  {
   "cell_type": "code",
   "execution_count": null,
   "id": "dd83437b",
   "metadata": {},
   "outputs": [],
   "source": []
  },
  {
   "cell_type": "markdown",
   "id": "0a7cee12",
   "metadata": {},
   "source": [
    "In bovenstaande code kan je zien dat er slechts een aantal null-waarden in de dataset aanwezig zijn.\n",
    "Deze kunnen ingevuld worden door middel van een [imputer](https://spark.apache.org/docs/latest/api/python/reference/api/pyspark.ml.feature.Imputer.html).\n",
    "Hier laten we deze rijen echter gewoon vallen voor de eenvoud:"
   ]
  },
  {
   "cell_type": "code",
   "execution_count": null,
   "id": "653829e0",
   "metadata": {},
   "outputs": [],
   "source": []
  },
  {
   "cell_type": "markdown",
   "id": "6a6c3367",
   "metadata": {},
   "source": [
    "De oefening om de waarden in te vullen met een imputer (bvb door het gemiddelde) kan je hieronder doen."
   ]
  },
  {
   "cell_type": "code",
   "execution_count": null,
   "id": "b7eedb3b",
   "metadata": {},
   "outputs": [],
   "source": [
    "# oefening"
   ]
  },
  {
   "cell_type": "markdown",
   "id": "021a7e58",
   "metadata": {},
   "source": [
    "Bereken nu de volgende waarden van de beschikbare data:\n",
    "* Aantal autos per merk\n",
    "* Welke verschillende types van transmissie zijn er?\n",
    "* Marktaandeel (percentage) van de verschillende types motor?\n",
    "* Maximum prijs van elk merk\n",
    "* Wat zijn de vijf goedkoopste voertuigen met een automatische transmissie?"
   ]
  },
  {
   "cell_type": "code",
   "execution_count": null,
   "id": "99670921",
   "metadata": {},
   "outputs": [],
   "source": [
    "# autos per merk"
   ]
  },
  {
   "cell_type": "code",
   "execution_count": null,
   "id": "ed1f3bad",
   "metadata": {},
   "outputs": [],
   "source": [
    "# types transmissie"
   ]
  },
  {
   "cell_type": "code",
   "execution_count": null,
   "id": "5629e72c",
   "metadata": {},
   "outputs": [],
   "source": [
    "# marktaandeel"
   ]
  },
  {
   "cell_type": "code",
   "execution_count": null,
   "id": "b0763a14",
   "metadata": {},
   "outputs": [],
   "source": [
    "# maximum prijs per merk"
   ]
  },
  {
   "cell_type": "code",
   "execution_count": null,
   "id": "88c60474",
   "metadata": {},
   "outputs": [],
   "source": [
    "# goedkoopste voertuigen met automatische transmissie"
   ]
  },
  {
   "cell_type": "markdown",
   "id": "d35b2a40",
   "metadata": {},
   "source": [
    "## Load\n",
    "\n",
    "In deze stap veronderstellen we dat we enkel de 5 goedkoopste auto's willen bewaren.\n",
    "Schrijf hieronder de benodigde code om de informatie van deze autos op te slaan in een json."
   ]
  },
  {
   "cell_type": "code",
   "execution_count": null,
   "id": "7badc7ab",
   "metadata": {},
   "outputs": [],
   "source": []
  },
  {
   "cell_type": "markdown",
   "id": "a3b2bab6",
   "metadata": {},
   "source": [
    "Dit is een voorbeeld waarbij de resultaten worden opgeslaan in een bestand.\n",
    "Andere mogelijkheden zijn om het op te slaan in een SQL-database.\n",
    "Demo-code om dit te bereiken kan je [hier](https://kontext.tech/column/spark/395/save-dataframe-to-sql-databases-via-jdbc-in-pyspark) bekijken.\n",
    "Later in dit vak zullen we ook NoSQL-databases bekijken.\n",
    "Op dat moment zullen we zien hoe we de resultaten kunnen bewaren in dit type database beheersystemen (DBMS)."
   ]
  }
 ],
 "metadata": {
  "kernelspec": {
   "display_name": "Python 3",
   "language": "python",
   "name": "python3"
  },
  "language_info": {
   "codemirror_mode": {
    "name": "ipython",
    "version": 3
   },
   "file_extension": ".py",
   "mimetype": "text/x-python",
   "name": "python",
   "nbconvert_exporter": "python",
   "pygments_lexer": "ipython3",
   "version": "3.8.8"
  }
 },
 "nbformat": 4,
 "nbformat_minor": 5
}
