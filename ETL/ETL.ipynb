{
 "cells": [
  {
   "cell_type": "markdown",
   "id": "0b9bd2cb",
   "metadata": {},
   "source": [
    "# ETL\n",
    "\n",
    "Het extract - transform - load concept is een veel voorkomend begrip in (big) data toepassingen en geeft het stappenplan weer van de levenscyclus van de data binnen je toepassing.\n",
    "Het concept bestaat uit drie stappen:\n",
    "* extract: zoeken van data, inlezen en validatie\n",
    "* transform: verwerken van data, data cleaning, aggregatie, groupering, filtering, ...\n",
    "* load: opslaan van de getransformeerde data in een file, database, datawarehouse, datalake, ...\n",
    "\n",
    "In de rest van deze notebook gaan we bestuderen hoe deze stappen uit te voeren met Spark.\n",
    "Hiervoor gaan we een csv gebruiken als bronbestand."
   ]
  },
  {
   "cell_type": "markdown",
   "id": "43b4d7a1",
   "metadata": {},
   "source": [
    "## Extract\n",
    "\n",
    "In deze directory staat een zip file waarin deze csv is opgeslaan. \n",
    "Unzip deze file eerst en upload het naar het hdfs"
   ]
  },
  {
   "cell_type": "code",
   "execution_count": 1,
   "id": "10681358",
   "metadata": {},
   "outputs": [
    {
     "name": "stderr",
     "output_type": "stream",
     "text": [
      "2022-03-17 10:52:13,883 WARN util.NativeCodeLoader: Unable to load native-hadoop library for your platform... using builtin-java classes where applicable\n"
     ]
    },
    {
     "data": {
      "text/plain": [
       "0"
      ]
     },
     "execution_count": 1,
     "metadata": {},
     "output_type": "execute_result"
    }
   ],
   "source": [
    "import zipfile\n",
    "\n",
    "with zipfile.ZipFile(\"cars.zip\", 'r') as zip_ref:\n",
    "    zip_ref.extractall()\n",
    "    \n",
    "import pydoop.hdfs as hdfs\n",
    "\n",
    "localFS = hdfs.hdfs(host='')\n",
    "client = hdfs.hdfs(host='localhost', port=9000)\n",
    "\n",
    "if not client.exists('/user/bigdata/08_ETL'):\n",
    "    client.create_directory('/user/bigdata/08_ETL')\n",
    "\n",
    "# do some cleaning in case anything else than input is present on HDFS\n",
    "for f in client.list_directory(\".\"):\n",
    "    client.delete(f[\"name\"], True)\n",
    "        \n",
    "# upload input.txt\n",
    "hdfs_filename = \"08_ETL/cars.csv\"\n",
    "localFS.copy(\"cars.csv\", client, hdfs_filename)"
   ]
  },
  {
   "cell_type": "markdown",
   "id": "201b7992",
   "metadata": {},
   "source": [
    "Maak nu een locale sparkcontext aan en lees dit bestand in"
   ]
  },
  {
   "cell_type": "code",
   "execution_count": 2,
   "id": "c2336286",
   "metadata": {},
   "outputs": [
    {
     "name": "stderr",
     "output_type": "stream",
     "text": [
      "WARNING: An illegal reflective access operation has occurred\n",
      "WARNING: Illegal reflective access by org.apache.spark.unsafe.Platform (file:/home/bigdata/hadoop/spark-3.2.0-bin-hadoop3.2/jars/spark-unsafe_2.12-3.2.0.jar) to constructor java.nio.DirectByteBuffer(long,int)\n",
      "WARNING: Please consider reporting this to the maintainers of org.apache.spark.unsafe.Platform\n",
      "WARNING: Use --illegal-access=warn to enable warnings of further illegal reflective access operations\n",
      "WARNING: All illegal access operations will be denied in a future release\n",
      "Setting default log level to \"WARN\".\n",
      "To adjust logging level use sc.setLogLevel(newLevel). For SparkR, use setLogLevel(newLevel).\n",
      "2022-03-17 11:33:42,768 WARN util.NativeCodeLoader: Unable to load native-hadoop library for your platform... using builtin-java classes where applicable\n",
      "2022-03-17 11:33:48,560 WARN util.Utils: Service 'SparkUI' could not bind on port 4040. Attempting port 4041.\n",
      "[Stage 1:>                                                          (0 + 1) / 1]\r"
     ]
    },
    {
     "name": "stdout",
     "output_type": "stream",
     "text": [
      "Aantal rijen 38531\n"
     ]
    },
    {
     "name": "stderr",
     "output_type": "stream",
     "text": [
      "\r",
      "                                                                                \r"
     ]
    }
   ],
   "source": [
    "from pyspark.sql import SparkSession\n",
    "\n",
    "spark = SparkSession.builder.master(\"local[1]\").appName(\"ETL\").getOrCreate()\n",
    "\n",
    "df = spark.read.csv(hdfs_filename, header=True, sep=\",\")\n",
    "\n",
    "print(\"Aantal rijen\", df.count())"
   ]
  },
  {
   "cell_type": "markdown",
   "id": "f1963092",
   "metadata": {},
   "source": [
    "De datastructuur van het csv is als volgt:"
   ]
  },
  {
   "cell_type": "code",
   "execution_count": 3,
   "id": "be7c2042",
   "metadata": {},
   "outputs": [
    {
     "name": "stdout",
     "output_type": "stream",
     "text": [
      "root\n",
      " |-- manufacturer_name: string (nullable = true)\n",
      " |-- model_name: string (nullable = true)\n",
      " |-- transmission: string (nullable = true)\n",
      " |-- color: string (nullable = true)\n",
      " |-- odometer_value: string (nullable = true)\n",
      " |-- year_produced: string (nullable = true)\n",
      " |-- engine_fuel: string (nullable = true)\n",
      " |-- engine_has_gas: string (nullable = true)\n",
      " |-- engine_type: string (nullable = true)\n",
      " |-- engine_capacity: string (nullable = true)\n",
      " |-- body_type: string (nullable = true)\n",
      " |-- has_warranty: string (nullable = true)\n",
      " |-- state: string (nullable = true)\n",
      " |-- drivetrain: string (nullable = true)\n",
      " |-- price_usd: string (nullable = true)\n",
      " |-- is_exchangeable: string (nullable = true)\n",
      " |-- location_region: string (nullable = true)\n",
      " |-- number_of_photos: string (nullable = true)\n",
      " |-- up_counter: string (nullable = true)\n",
      " |-- feature_0: string (nullable = true)\n",
      " |-- feature_1: string (nullable = true)\n",
      " |-- feature_2: string (nullable = true)\n",
      " |-- feature_3: string (nullable = true)\n",
      " |-- feature_4: string (nullable = true)\n",
      " |-- feature_5: string (nullable = true)\n",
      " |-- feature_6: string (nullable = true)\n",
      " |-- feature_7: string (nullable = true)\n",
      " |-- feature_8: string (nullable = true)\n",
      " |-- feature_9: string (nullable = true)\n",
      " |-- duration_listed: string (nullable = true)\n",
      "\n"
     ]
    }
   ],
   "source": [
    "df.printSchema()"
   ]
  },
  {
   "cell_type": "markdown",
   "id": "1efc8148",
   "metadata": {},
   "source": [
    "## Transform\n",
    "\n",
    "De transform stap is de meest complexe stap van de drie en kan uit een grote verscheidenheid van bewerkingen bestaan, zoals:\n",
    "* Dataformaten aanpassen\n",
    "* Vertalingen van tekst\n",
    "* Geencodeerde waarden aanpassen: 0/1 vs true/false of m/f vs male/female\n",
    "* Allerhande data-cleaning stappen\n",
    "* Encoderen (Ordinal of One-hot) van categorieke kolommen\n",
    "* Groeperen van data\n",
    "* Uitvoeren van berekeningen \n",
    "* ...\n",
    "\n",
    "Schrijf hieronder eerst zelf de code om de volgende stappen uit te voeren:\n",
    "* Omzetten naar integer van de kolommen: odometer_value, year_produced, engine_capacity, price_usd, number_of_photos, up_counter, duration_listed\n",
    "* Omzetten naar boolean van de kolommen: engine_has_gas, has_warranty, is_exchangeable, feature_0 tot en met 9\n",
    "* Bereken het aantal null en nan waarden per kolom"
   ]
  },
  {
   "cell_type": "code",
   "execution_count": 4,
   "id": "eadd2f5c",
   "metadata": {},
   "outputs": [],
   "source": [
    "df_backup = df"
   ]
  },
  {
   "cell_type": "code",
   "execution_count": 12,
   "id": "fa4ab062",
   "metadata": {},
   "outputs": [],
   "source": [
    "from pyspark.sql.functions import col, count, when\n",
    "from pyspark.sql.types import BooleanType\n",
    "\n",
    "df = df_backup\n",
    "\n",
    "cols = [\"odometer_value\", \"year_produced\", \"engine_capacity\", \"price_usd\", \"number_of_photos\", \"up_counter\", \"duration_listed\"]\n",
    "for c in cols:\n",
    "    df = df.withColumn(c, col(c).cast(\"int\"))\n",
    "    \n",
    "# cast to booleans\n",
    "cols = [\"engine_has_gas\",\"has_warranty\",\"is_exchangeable\",\"feature_0\",\"feature_1\",\"feature_2\",\"feature_3\",\"feature_4\",\"feature_5\",\"feature_6\",\"feature_7\",\"feature_8\",\"feature_9\"]\n",
    "for c in cols:\n",
    "    df = df.withColumn(c, col(c).cast(BooleanType()))"
   ]
  },
  {
   "cell_type": "code",
   "execution_count": 17,
   "id": "be33225b",
   "metadata": {},
   "outputs": [
    {
     "name": "stderr",
     "output_type": "stream",
     "text": [
      "\r",
      "[Stage 7:>                                                          (0 + 1) / 1]\r"
     ]
    },
    {
     "name": "stdout",
     "output_type": "stream",
     "text": [
      "+-----------------+----------+------------+-----+--------------+-------------+-----------+--------------+-----------+---------------+---------+------------+-----+----------+---------+---------------+---------------+----------------+----------+---------+---------+---------+---------+---------+---------+---------+---------+---------+---------+---------------+\n",
      "|manufacturer_name|model_name|transmission|color|odometer_value|year_produced|engine_fuel|engine_has_gas|engine_type|engine_capacity|body_type|has_warranty|state|drivetrain|price_usd|is_exchangeable|location_region|number_of_photos|up_counter|feature_0|feature_1|feature_2|feature_3|feature_4|feature_5|feature_6|feature_7|feature_8|feature_9|duration_listed|\n",
      "+-----------------+----------+------------+-----+--------------+-------------+-----------+--------------+-----------+---------------+---------+------------+-----+----------+---------+---------------+---------------+----------------+----------+---------+---------+---------+---------+---------+---------+---------+---------+---------+---------+---------------+\n",
      "|                0|         0|           0|    0|             0|            0|          0|             0|          0|             10|        0|           0|    0|         0|        0|              0|              0|               0|         0|        0|        0|        0|        0|        0|        0|        0|        0|        0|        0|              0|\n",
      "+-----------------+----------+------------+-----+--------------+-------------+-----------+--------------+-----------+---------------+---------+------------+-----+----------+---------+---------------+---------------+----------------+----------+---------+---------+---------+---------+---------+---------+---------+---------+---------+---------+---------------+\n",
      "\n"
     ]
    },
    {
     "name": "stderr",
     "output_type": "stream",
     "text": [
      "\r",
      "                                                                                \r"
     ]
    }
   ],
   "source": [
    "df.select([count(when(col(c).isNull(), 1)).alias(c) for c in df.columns]).show()"
   ]
  },
  {
   "cell_type": "code",
   "execution_count": null,
   "id": "dd83437b",
   "metadata": {},
   "outputs": [],
   "source": []
  },
  {
   "cell_type": "markdown",
   "id": "0a7cee12",
   "metadata": {},
   "source": [
    "In bovenstaande code kan je zien dat er slechts een aantal null-waarden in de dataset aanwezig zijn.\n",
    "Deze kunnen ingevuld worden door middel van een [imputer](https://spark.apache.org/docs/latest/api/python/reference/api/pyspark.ml.feature.Imputer.html).\n",
    "Hier laten we deze rijen echter gewoon vallen voor de eenvoud:"
   ]
  },
  {
   "cell_type": "code",
   "execution_count": 18,
   "id": "653829e0",
   "metadata": {},
   "outputs": [
    {
     "name": "stderr",
     "output_type": "stream",
     "text": [
      "                                                                                \r"
     ]
    },
    {
     "data": {
      "text/plain": [
       "38521"
      ]
     },
     "execution_count": 18,
     "metadata": {},
     "output_type": "execute_result"
    }
   ],
   "source": [
    "df = df.na.drop()\n",
    "df.count()"
   ]
  },
  {
   "cell_type": "markdown",
   "id": "6a6c3367",
   "metadata": {},
   "source": [
    "De oefening om de waarden in te vullen met een imputer (bvb door het gemiddelde) kan je hieronder doen."
   ]
  },
  {
   "cell_type": "code",
   "execution_count": null,
   "id": "b7eedb3b",
   "metadata": {},
   "outputs": [],
   "source": [
    "# bereken gemiddelde van de kolom\n",
    "df.fillna({plaats hier het gemiddelde}, subset=[\"engine_capacity\"])"
   ]
  },
  {
   "cell_type": "markdown",
   "id": "021a7e58",
   "metadata": {},
   "source": [
    "Bereken nu de volgende waarden van de beschikbare data:\n",
    "* Aantal autos per merk\n",
    "* Welke verschillende types van transmissie zijn er?\n",
    "* Marktaandeel (percentage) van de verschillende types motor?\n",
    "* Maximum prijs van elk merk\n",
    "* Wat zijn de vijf goedkoopste voertuigen met een automatische transmissie?"
   ]
  },
  {
   "cell_type": "code",
   "execution_count": 19,
   "id": "99670921",
   "metadata": {},
   "outputs": [
    {
     "name": "stderr",
     "output_type": "stream",
     "text": [
      "                                                                                \r"
     ]
    },
    {
     "name": "stdout",
     "output_type": "stream",
     "text": [
      "+-----------------+-----+\n",
      "|manufacturer_name|count|\n",
      "+-----------------+-----+\n",
      "|       Volkswagen| 4243|\n",
      "|         Infiniti|  162|\n",
      "|          Peugeot| 1909|\n",
      "|            Lexus|  213|\n",
      "|           Jaguar|   53|\n",
      "|            Rover|  235|\n",
      "|           Lancia|   92|\n",
      "|             Jeep|  107|\n",
      "|       Mitsubishi|  887|\n",
      "|              ГАЗ|  200|\n",
      "|              Kia|  912|\n",
      "|             Mini|   68|\n",
      "|        Chevrolet|  435|\n",
      "|            Volvo|  721|\n",
      "|            Lifan|   47|\n",
      "|          Hyundai| 1116|\n",
      "|             Saab|  108|\n",
      "|             LADA|  146|\n",
      "|            Honda|  797|\n",
      "|        SsangYong|   79|\n",
      "+-----------------+-----+\n",
      "only showing top 20 rows\n",
      "\n"
     ]
    }
   ],
   "source": [
    "# autos per merk\n",
    "df_autos = df.groupBy(\"manufacturer_name\").count()\n",
    "df_autos.show()"
   ]
  },
  {
   "cell_type": "code",
   "execution_count": 20,
   "id": "ed1f3bad",
   "metadata": {},
   "outputs": [
    {
     "name": "stderr",
     "output_type": "stream",
     "text": [
      "\r",
      "[Stage 16:>                                                         (0 + 1) / 1]\r"
     ]
    },
    {
     "name": "stdout",
     "output_type": "stream",
     "text": [
      "+------------+\n",
      "|transmission|\n",
      "+------------+\n",
      "|   automatic|\n",
      "|  mechanical|\n",
      "+------------+\n",
      "\n"
     ]
    },
    {
     "name": "stderr",
     "output_type": "stream",
     "text": [
      "\r",
      "                                                                                \r"
     ]
    }
   ],
   "source": [
    "# types transmissie\n",
    "df.select(\"transmission\").distinct().show()"
   ]
  },
  {
   "cell_type": "code",
   "execution_count": 21,
   "id": "5629e72c",
   "metadata": {},
   "outputs": [
    {
     "name": "stderr",
     "output_type": "stream",
     "text": [
      "[Stage 22:>                                                         (0 + 1) / 1]\r"
     ]
    },
    {
     "name": "stdout",
     "output_type": "stream",
     "text": [
      "+-----------+-----+-------------------+\n",
      "|engine_type|count|       marktAandeel|\n",
      "+-----------+-----+-------------------+\n",
      "|   gasoline|25647| 0.6657926845097479|\n",
      "|     diesel|12874|0.33420731549025207|\n",
      "+-----------+-----+-------------------+\n",
      "\n"
     ]
    },
    {
     "name": "stderr",
     "output_type": "stream",
     "text": [
      "\r",
      "                                                                                \r"
     ]
    }
   ],
   "source": [
    "# marktaandeel\n",
    "totaal = df.count()\n",
    "df_aandeel = df.groupBy(\"engine_type\").count()\n",
    "df_aandeel = df_aandeel.withColumn(\"marktAandeel\", col(\"count\") / totaal)\n",
    "df_aandeel.show()"
   ]
  },
  {
   "cell_type": "code",
   "execution_count": 22,
   "id": "b0763a14",
   "metadata": {},
   "outputs": [
    {
     "name": "stderr",
     "output_type": "stream",
     "text": [
      "\r",
      "[Stage 25:>                                                         (0 + 1) / 1]\r"
     ]
    },
    {
     "name": "stdout",
     "output_type": "stream",
     "text": [
      "+-----------------+--------------+\n",
      "|manufacturer_name|max(price_usd)|\n",
      "+-----------------+--------------+\n",
      "|       Volkswagen|         43999|\n",
      "|         Infiniti|         47000|\n",
      "|          Peugeot|         20450|\n",
      "|            Lexus|         48610|\n",
      "|           Jaguar|         50000|\n",
      "|            Rover|          9900|\n",
      "|           Lancia|          9500|\n",
      "|             Jeep|         43000|\n",
      "|       Mitsubishi|         31400|\n",
      "|              ГАЗ|         30000|\n",
      "|              Kia|         44700|\n",
      "|             Mini|         39456|\n",
      "|        Chevrolet|         49900|\n",
      "|            Volvo|         48200|\n",
      "|            Lifan|         15750|\n",
      "|          Hyundai|         45954|\n",
      "|             Saab|         17500|\n",
      "|             LADA|         13800|\n",
      "|            Honda|         42000|\n",
      "|        SsangYong|         15900|\n",
      "+-----------------+--------------+\n",
      "only showing top 20 rows\n",
      "\n"
     ]
    },
    {
     "name": "stderr",
     "output_type": "stream",
     "text": [
      "\r",
      "                                                                                \r"
     ]
    }
   ],
   "source": [
    "# maximum prijs per merk\n",
    "df_max = df.groupBy(\"manufacturer_name\").max(\"price_usd\")\n",
    "df_max.show()"
   ]
  },
  {
   "cell_type": "code",
   "execution_count": 26,
   "id": "88c60474",
   "metadata": {},
   "outputs": [
    {
     "name": "stderr",
     "output_type": "stream",
     "text": [
      "\r",
      "[Stage 29:>                                                         (0 + 1) / 1]\r"
     ]
    },
    {
     "name": "stdout",
     "output_type": "stream",
     "text": [
      "+-----------------+----------+------------+------+--------------+-------------+-----------+--------------+-----------+---------------+---------+------------+---------+----------+---------+---------------+---------------+----------------+----------+---------+---------+---------+---------+---------+---------+---------+---------+---------+---------+---------------+\n",
      "|manufacturer_name|model_name|transmission| color|odometer_value|year_produced|engine_fuel|engine_has_gas|engine_type|engine_capacity|body_type|has_warranty|    state|drivetrain|price_usd|is_exchangeable|location_region|number_of_photos|up_counter|feature_0|feature_1|feature_2|feature_3|feature_4|feature_5|feature_6|feature_7|feature_8|feature_9|duration_listed|\n",
      "+-----------------+----------+------------+------+--------------+-------------+-----------+--------------+-----------+---------------+---------+------------+---------+----------+---------+---------------+---------------+----------------+----------+---------+---------+---------+---------+---------+---------+---------+---------+---------+---------+---------------+\n",
      "|             Opel|     Omega|   automatic|  blue|        111222|         1987|   gasoline|         false|   gasoline|              2|    sedan|       false|emergency|      rear|      150|          false|   Минская обл.|               2|         1|     true|    false|    false|    false|    false|    false|    false|    false|    false|    false|             72|\n",
      "|            Rover|600-Series|   automatic|  grey|        420000|         1995|        gas|          true|   gasoline|              2|    sedan|       false|emergency|     front|      200|           true| Брестская обл.|               3|         2|    false|     true|    false|    false|     true|    false|    false|    false|    false|    false|             87|\n",
      "|            Mazda|   Xedos 9|   automatic| white|        150000|         1997|   gasoline|         false|   gasoline|              2|    sedan|       false|emergency|     front|      222|           true|   Минская обл.|               2|        30|    false|     true|     true|     true|     true|     true|     true|     true|     true|     true|             32|\n",
      "|            Mazda|  Millenia|   automatic|  blue|        150000|         1997|   gasoline|         false|   gasoline|              2|    sedan|       false|emergency|     front|      222|          false|   Минская обл.|               2|        13|    false|     true|     true|    false|     true|     true|     true|     true|     true|     true|             14|\n",
      "|       Mitsubishi|    Lancer|   automatic|silver|        290000|         1996|     diesel|         false|     diesel|              1|hatchback|       false|emergency|     front|      250|          false|   Минская обл.|               4|         5|    false|    false|    false|    false|    false|    false|    false|    false|    false|     true|             65|\n",
      "+-----------------+----------+------------+------+--------------+-------------+-----------+--------------+-----------+---------------+---------+------------+---------+----------+---------+---------------+---------------+----------------+----------+---------+---------+---------+---------+---------+---------+---------+---------+---------+---------+---------------+\n",
      "\n"
     ]
    },
    {
     "name": "stderr",
     "output_type": "stream",
     "text": [
      "\r",
      "                                                                                \r"
     ]
    }
   ],
   "source": [
    "# goedkoopste voertuigen met automatische transmissie\n",
    "df_result = df.filter(col(\"transmission\") == \"automatic\").sort(col(\"price_usd\").asc()).limit(5)\n",
    "df_result.show()"
   ]
  },
  {
   "cell_type": "markdown",
   "id": "d35b2a40",
   "metadata": {},
   "source": [
    "## Load\n",
    "\n",
    "In deze stap veronderstellen we dat we enkel de 5 goedkoopste auto's willen bewaren.\n",
    "Schrijf hieronder de benodigde code om de informatie van deze autos op te slaan in een json."
   ]
  },
  {
   "cell_type": "code",
   "execution_count": 27,
   "id": "7badc7ab",
   "metadata": {},
   "outputs": [
    {
     "name": "stderr",
     "output_type": "stream",
     "text": [
      "                                                                                \r"
     ]
    }
   ],
   "source": [
    "df_result.write.format(\"json\").save(\"08_ETL/result.json\")"
   ]
  },
  {
   "cell_type": "markdown",
   "id": "a3b2bab6",
   "metadata": {},
   "source": [
    "Dit is een voorbeeld waarbij de resultaten worden opgeslaan in een bestand.\n",
    "Andere mogelijkheden zijn om het op te slaan in een SQL-database.\n",
    "Demo-code om dit te bereiken kan je [hier](https://kontext.tech/column/spark/395/save-dataframe-to-sql-databases-via-jdbc-in-pyspark) bekijken.\n",
    "Later in dit vak zullen we ook NoSQL-databases bekijken.\n",
    "Op dat moment zullen we zien hoe we de resultaten kunnen bewaren in dit type database beheersystemen (DBMS)."
   ]
  }
 ],
 "metadata": {
  "kernelspec": {
   "display_name": "Python 3",
   "language": "python",
   "name": "python3"
  },
  "language_info": {
   "codemirror_mode": {
    "name": "ipython",
    "version": 3
   },
   "file_extension": ".py",
   "mimetype": "text/x-python",
   "name": "python",
   "nbconvert_exporter": "python",
   "pygments_lexer": "ipython3",
   "version": "3.8.8"
  }
 },
 "nbformat": 4,
 "nbformat_minor": 5
}
