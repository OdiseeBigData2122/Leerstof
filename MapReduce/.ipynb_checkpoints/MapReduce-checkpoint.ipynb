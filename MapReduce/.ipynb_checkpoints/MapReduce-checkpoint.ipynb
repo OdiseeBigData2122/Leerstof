{
 "cells": [
  {
   "cell_type": "markdown",
   "metadata": {
    "collapsed": true,
    "pycharm": {
     "name": "#%% md\n"
    }
   },
   "source": [
    "# Map Reduce\n",
    "\n",
    "Eerst maken we een aparte directory aan voor alles wat we voor deze notebook gaan gebruiken in hdfs. Dit om conflicten of het overschrijven van gegevens te vermijden."
   ]
  },
  {
   "cell_type": "code",
   "execution_count": 1,
   "metadata": {
    "pycharm": {
     "name": "#%%\n"
    }
   },
   "outputs": [],
   "source": [
    "import pydoop.hdfs as hdfs"
   ]
  },
  {
   "cell_type": "code",
   "execution_count": 2,
   "metadata": {
    "pycharm": {
     "name": "#%%\n"
    }
   },
   "outputs": [
    {
     "name": "stderr",
     "output_type": "stream",
     "text": [
      "2022-02-17 12:18:35,130 WARN util.NativeCodeLoader: Unable to load native-hadoop library for your platform... using builtin-java classes where applicable\n"
     ]
    },
    {
     "name": "stdout",
     "output_type": "stream",
     "text": [
      "/user/bigdata/05_MapReduce\n"
     ]
    }
   ],
   "source": [
    "localFS = hdfs.hdfs(host='')\n",
    "client = hdfs.hdfs(host='localhost', port=9000)\n",
    "\n",
    "if not client.exists('/user/bigdata/05_MapReduce'):\n",
    "    client.create_directory('/user/bigdata/05_MapReduce')\n",
    "client.set_working_directory('/user/bigdata/05_MapReduce')\n",
    "print(client.working_directory())\n",
    "\n",
    "# do some cleaning in case anything else than input.txt is present\n",
    "for f in client.list_directory(\".\"):\n",
    "    if not f[\"name\"].endswith(\"input.txt\"):\n",
    "        client.delete(f[\"name\"], True)"
   ]
  },
  {
   "cell_type": "markdown",
   "metadata": {
    "pycharm": {
     "name": "#%% md\n"
    }
   },
   "source": [
    "## Wat is MapReduce\n",
    "\n",
    "MapReduce is een programmeermodel om eenvoudig distributed data te verwerken.\n",
    "Het is belangrijk om te realiseren dat de programma's die je hier schrijft een parallel uitgevoerd worden op verschillende stukjes data (De map-fase) om daarna in de reduce-fase tot een finale output teruggebracht te worden.\n",
    "Er gebeuren 5 stappen bij het uitvoeren van een MapReduce programma\n",
    "* Bepalen op welke nodes de code uitgevoerd wordt (wordt door YARN gedaan afhankelijk van de locatie van de blocks)\n",
    "* Uitvoeren van de Map-code (Geschreven door de developer naar eigen wens)\n",
    "* Shuffle, ouput van de map-fase doorsturen naar andere nodes die de resultaten gaan reduceren (Automatisch)\n",
    "* uitvoeren van de Reduce-code (Geschreven door de developer naar eigen wens)\n",
    "* Combineren van de reduce output tot 1 gehele/finale output (Automatisch)\n",
    "\n",
    "Uit bovenstaand stappenplan is het duidelijk dat er twee zaken moeten geimplementeerd worden bij het schrijven van een MapReduce toepassing.\n",
    "Echter zullen we eerst een aantal voorbeelden bestuderen met reeds bestaande implementaties om zo meer vertrouwd te geraken met de flow van MapReduce."
   ]
  },
  {
   "cell_type": "markdown",
   "metadata": {
    "pycharm": {
     "name": "#%% md\n"
    }
   },
   "source": [
    "## Voorbeelden van bestaande applicaties\n",
    "\n",
    "Reeds een aantal default MapReduce applications zijn mee geinstalleerd met Hadoop.\n",
    "De jar die deze toepassingen bevat kan gevonden worden in hadoop/share/hadoop/mapreduce/hadoop-mapreduce-examples-3.3.0.jar.\n",
    "Wanneer je deze jar uitvoert met onderstaande commando krijg je een lijst met de beschikbare applicaties"
   ]
  },
  {
   "cell_type": "code",
   "execution_count": 3,
   "metadata": {
    "pycharm": {
     "name": "#%%\n"
    }
   },
   "outputs": [
    {
     "name": "stdout",
     "output_type": "stream",
     "text": [
      "An example program must be given as the first argument.\n",
      "Valid program names are:\n",
      "  aggregatewordcount: An Aggregate based map/reduce program that counts the words in the input files.\n",
      "  aggregatewordhist: An Aggregate based map/reduce program that computes the histogram of the words in the input files.\n",
      "  bbp: A map/reduce program that uses Bailey-Borwein-Plouffe to compute exact digits of Pi.\n",
      "  dbcount: An example job that count the pageview counts from a database.\n",
      "  distbbp: A map/reduce program that uses a BBP-type formula to compute exact bits of Pi.\n",
      "  grep: A map/reduce program that counts the matches of a regex in the input.\n",
      "  join: A job that effects a join over sorted, equally partitioned datasets\n",
      "  multifilewc: A job that counts words from several files.\n",
      "  pentomino: A map/reduce tile laying program to find solutions to pentomino problems.\n",
      "  pi: A map/reduce program that estimates Pi using a quasi-Monte Carlo method.\n",
      "  randomtextwriter: A map/reduce program that writes 10GB of random textual data per node.\n",
      "  randomwriter: A map/reduce program that writes 10GB of random data per node.\n",
      "  secondarysort: An example defining a secondary sort to the reduce.\n",
      "  sort: A map/reduce program that sorts the data written by the random writer.\n",
      "  sudoku: A sudoku solver.\n",
      "  teragen: Generate data for the terasort\n",
      "  terasort: Run the terasort\n",
      "  teravalidate: Checking results of terasort\n",
      "  wordcount: A map/reduce program that counts the words in the input files.\n",
      "  wordmean: A map/reduce program that counts the average length of the words in the input files.\n",
      "  wordmedian: A map/reduce program that counts the median length of the words in the input files.\n",
      "  wordstandarddeviation: A map/reduce program that counts the standard deviation of the length of the words in the input files.\n"
     ]
    }
   ],
   "source": [
    "!hadoop jar ~/hadoop/share/hadoop/mapreduce/hadoop-mapreduce-examples-3.3.0.jar"
   ]
  },
  {
   "cell_type": "markdown",
   "metadata": {
    "pycharm": {
     "name": "#%% md\n"
    }
   },
   "source": [
    "In deze notebook gaan we vooral focussen op het typische probleem van wordcount.\n",
    "Dit is een toepassing dat gaat tellen hoe vaak elk woord voorkomt in een bepaalde tekst.\n",
    "Om meer informatie over deze toepassing te krijgen kan je gebruik maken van het volgende commando:"
   ]
  },
  {
   "cell_type": "code",
   "execution_count": 5,
   "metadata": {
    "pycharm": {
     "name": "#%%\n"
    }
   },
   "outputs": [
    {
     "name": "stdout",
     "output_type": "stream",
     "text": [
      "Usage: wordcount <in> [<in>...] <out>\r\n"
     ]
    }
   ],
   "source": [
    "!hadoop jar ~/hadoop/share/hadoop/mapreduce/hadoop-mapreduce-examples-3.3.0.jar wordcount"
   ]
  },
  {
   "cell_type": "markdown",
   "metadata": {
    "pycharm": {
     "name": "#%% md\n"
    }
   },
   "source": [
    "Voor we deze applicatie kunnen uitvoeren moeten we eerst ervoor zorgen dat er input data beschikbaar is in HDFS.\n",
    "Upload hiervoor de input.txt file met onderstaande code"
   ]
  },
  {
   "cell_type": "code",
   "execution_count": 4,
   "metadata": {
    "pycharm": {
     "name": "#%%\n"
    }
   },
   "outputs": [
    {
     "data": {
      "text/plain": [
       "0"
      ]
     },
     "execution_count": 4,
     "metadata": {},
     "output_type": "execute_result"
    }
   ],
   "source": [
    "localFS.copy(\"input.txt\", client, \"input.txt\")"
   ]
  },
  {
   "cell_type": "markdown",
   "metadata": {
    "pycharm": {
     "name": "#%% md\n"
    }
   },
   "source": [
    "Het toevoegen van dit bestand kan geverifieerd worden door het HDFS te gaan bekijken op volgende link [http://localhost:9870/explorer.html#/user/bigdata/05_MapReduce](http://localhost:9870/explorer.html#/user/bigdata/05_MapReduce)\n",
    "\n",
    "Met onderstaande commando kan nu het precompiled word count example uitgevoerd worden"
   ]
  },
  {
   "cell_type": "code",
   "execution_count": 7,
   "metadata": {
    "pycharm": {
     "name": "#%%\n"
    }
   },
   "outputs": [
    {
     "name": "stdout",
     "output_type": "stream",
     "text": [
      "2022-02-17 12:25:13,339 INFO client.DefaultNoHARMFailoverProxyProvider: Connecting to ResourceManager at /0.0.0.0:8032\n",
      "org.apache.hadoop.mapred.FileAlreadyExistsException: Output directory hdfs://localhost:9000/user/bigdata/05_MapReduce/output already exists\n",
      "\tat org.apache.hadoop.mapreduce.lib.output.FileOutputFormat.checkOutputSpecs(FileOutputFormat.java:164)\n",
      "\tat org.apache.hadoop.mapreduce.JobSubmitter.checkSpecs(JobSubmitter.java:277)\n",
      "\tat org.apache.hadoop.mapreduce.JobSubmitter.submitJobInternal(JobSubmitter.java:143)\n",
      "\tat org.apache.hadoop.mapreduce.Job$11.run(Job.java:1576)\n",
      "\tat org.apache.hadoop.mapreduce.Job$11.run(Job.java:1573)\n",
      "\tat java.base/java.security.AccessController.doPrivileged(Native Method)\n",
      "\tat java.base/javax.security.auth.Subject.doAs(Subject.java:423)\n",
      "\tat org.apache.hadoop.security.UserGroupInformation.doAs(UserGroupInformation.java:1845)\n",
      "\tat org.apache.hadoop.mapreduce.Job.submit(Job.java:1573)\n",
      "\tat org.apache.hadoop.mapreduce.Job.waitForCompletion(Job.java:1594)\n",
      "\tat org.apache.hadoop.examples.WordCount.main(WordCount.java:87)\n",
      "\tat java.base/jdk.internal.reflect.NativeMethodAccessorImpl.invoke0(Native Method)\n",
      "\tat java.base/jdk.internal.reflect.NativeMethodAccessorImpl.invoke(NativeMethodAccessorImpl.java:62)\n",
      "\tat java.base/jdk.internal.reflect.DelegatingMethodAccessorImpl.invoke(DelegatingMethodAccessorImpl.java:43)\n",
      "\tat java.base/java.lang.reflect.Method.invoke(Method.java:566)\n",
      "\tat org.apache.hadoop.util.ProgramDriver$ProgramDescription.invoke(ProgramDriver.java:71)\n",
      "\tat org.apache.hadoop.util.ProgramDriver.run(ProgramDriver.java:144)\n",
      "\tat org.apache.hadoop.examples.ExampleDriver.main(ExampleDriver.java:74)\n",
      "\tat java.base/jdk.internal.reflect.NativeMethodAccessorImpl.invoke0(Native Method)\n",
      "\tat java.base/jdk.internal.reflect.NativeMethodAccessorImpl.invoke(NativeMethodAccessorImpl.java:62)\n",
      "\tat java.base/jdk.internal.reflect.DelegatingMethodAccessorImpl.invoke(DelegatingMethodAccessorImpl.java:43)\n",
      "\tat java.base/java.lang.reflect.Method.invoke(Method.java:566)\n",
      "\tat org.apache.hadoop.util.RunJar.run(RunJar.java:323)\n",
      "\tat org.apache.hadoop.util.RunJar.main(RunJar.java:236)\n"
     ]
    }
   ],
   "source": [
    "!hadoop jar ~/hadoop/share/hadoop/mapreduce/hadoop-mapreduce-examples-3.3.0.jar wordcount 05_MapReduce/input.txt 05_MapReduce/output"
   ]
  },
  {
   "cell_type": "markdown",
   "metadata": {
    "pycharm": {
     "name": "#%% md\n"
    }
   },
   "source": [
    "Indien het bovenstaande commando een foutmelding geeft over het niet vinden van org.apache.hadoop.mapreduce.v2.app.MRAppMaster, voeg het volgende toe aan hadoop/etc/hadoop/mapred-site.xml\n",
    "\n",
    "    <property>\n",
    "\t  \t<name>yarn.app.mapreduce.am.env</name>\n",
    "\t  \t<value>HADOOP_MAPRED_HOME=/home/bigdata/hadooop</value>\n",
    "\t</property>\n",
    "\t<property>\n",
    "\t  <name>mapreduce.map.env</name>\n",
    "\t  <value>HADOOP_MAPRED_HOME=/home/bigdata/hadooop</value>\n",
    "\t</property>\n",
    "\t<property>\n",
    "\t  <name>mapreduce.reduce.env</name>\n",
    "\t  <value>HADOOP_MAPRED_HOME=/home/bigdata/hadooop</value>\n",
    "\t</property>\n",
    "\n",
    "Na dit toe te voegen, herstart yarn en hdfs.\n",
    "Indien het hier nog niet mee opgelost is voer de volgende stappen uit:\n",
    "* Voer \"hadoop classpath\" uit in de terminal\n",
    "* Voeg het volgende toe aan hadoop/etc/hadoop/yarn-site.xml:"
   ]
  },
  {
   "cell_type": "markdown",
   "metadata": {
    "pycharm": {
     "name": "#%% md\n"
    }
   },
   "source": [
    "    <property>\n",
    "        <name>yarn.application.classpath</name>\n",
    "        <value>output van stap 1</value>\n",
    "    </property>\n",
    "\n",
    "Na het uitvoeren van het wordcount applicatie moet er een output.txt file aangemaakt zijn met de resultaten. **Bekijk dit nu.**\n",
    "Het resultaat is een file met key-value pairs met de woorden als key en de frequentie/aantal keer dat de woorden voorkomen als key.\n",
    "\n",
    "Probeer nu op basis van bovenstaande reeds bestaande applicaties de gemiddelde lengte van de woorden in de text te bepalen."
   ]
  },
  {
   "cell_type": "code",
   "execution_count": null,
   "metadata": {
    "pycharm": {
     "name": "#%%\n"
    }
   },
   "outputs": [],
   "source": [
    "# uit te voeren op commando voor de gemiddelde lengte van de woorden te bekomen\n",
    "!hadoop jar ~/hadoop/share/hadoop/mapreduce/hadoop-mapreduce-examples-3.3.0.jar wordmean 05_MapReduce/input.txt 05_MapReduce/output_mean_length"
   ]
  },
  {
   "cell_type": "markdown",
   "metadata": {
    "pycharm": {
     "name": "#%% md\n"
    }
   },
   "source": [
    "De resource manager houdt ook een overzicht bij van de uitgevoerde applicaties, hun status, runtime en eventuele loggings. Na bovenstaande commando's uit te voeren moet je iets gelijkaardigs zien als in de onderstaande screenshot.\n",
    "\n",
    "![yarn of mapreduce](images/yarn_001.png)\n",
    "\n",
    "## Zelf implementeren van MapReduce applicaties\n",
    "\n",
    "Natuurlijk zijn er veel meer zaken mogelijk om te berekenen met map-reduce toepassingen dan de reeds gecompileerde in hadoop.\n",
    "Zoals eerder aangehaald valt vooral het coderen van de Map- en Reducestap hierbij op de schouders van de developer.\n",
    "De standaard programmeertaal van MapReduce is Java en dus ook het grootste deel van de documentatie over MapReduce is geschreven met behulp van Java.\n",
    "Deze programmas moeten dan gecompileerd worden tot een jar dat geupload kan worden naar de overeenkomstige nodes en daar uitgevoerd.\n",
    "De api overview van hadoop kan je [hier](https://hadoop.apache.org/docs/stable/api/org/apache/hadoop/mapred/package-summary.html) vinden.\n",
    "\n",
    "De code voor het wordcount example ziet er als volgt uit:"
   ]
  },
  {
   "cell_type": "code",
   "execution_count": 12,
   "metadata": {
    "pycharm": {
     "name": "#%%\n"
    }
   },
   "outputs": [
    {
     "name": "stdout",
     "output_type": "stream",
     "text": [
      "Overwriting WordCount.java\n"
     ]
    }
   ],
   "source": [
    "%%file WordCount.java\n",
    "// dit schrijft onderstaande cell naar een file in de huidige directory\n",
    "import java.io.IOException;\n",
    "import java.util.StringTokenizer;\n",
    "\n",
    "import org.apache.hadoop.conf.Configuration;\n",
    "import org.apache.hadoop.fs.Path;\n",
    "import org.apache.hadoop.io.IntWritable;\n",
    "import org.apache.hadoop.io.Text;\n",
    "import org.apache.hadoop.mapreduce.Job;\n",
    "import org.apache.hadoop.mapreduce.Mapper;\n",
    "import org.apache.hadoop.mapreduce.Reducer;\n",
    "import org.apache.hadoop.mapreduce.lib.input.FileInputFormat;\n",
    "import org.apache.hadoop.mapreduce.lib.output.FileOutputFormat;\n",
    "\n",
    "public class WordCount {\n",
    "\n",
    "    // Mapper de classes na extends Mapper<> zijn input-key, input-value, output-key, output-value\n",
    "    public static class TokenizerMapper extends Mapper<Object, Text, Text, IntWritable>{\n",
    "\n",
    "        private final static IntWritable one = new IntWritable(1);\n",
    "        private Text word = new Text();\n",
    "\n",
    "        public void map(Object key, Text value, Context context) throws IOException, InterruptedException {\n",
    "            // split de tekst via spaties/newlines -> itereren over woorden\n",
    "            // hello world, ik ben jens\n",
    "            StringTokenizer itr = new StringTokenizer(value.toString());\n",
    "            // splitsen in \n",
    "            // hello\n",
    "            //world,\n",
    "            //ik\n",
    "            //ben\n",
    "            //jens\n",
    "            while(itr.hasMoreTokens()){\n",
    "                // next token = vraag het volgende woord op\n",
    "                word.set(itr.nextToken());\n",
    "                context.write(word, one);\n",
    "                // (hello, 1)\n",
    "                // (world, 1)\n",
    "                // ...\n",
    "            }\n",
    "        }\n",
    "    }\n",
    "\n",
    "    // Reducer: de classes na extends Reducer<> zijn input-key, input-value, output-key, output-value\n",
    "    public static class IntSumReducer extends Reducer<Text,IntWritable,Text,IntWritable> {\n",
    "        private IntWritable result = new IntWritable();\n",
    "\n",
    "        public void reduce(Text key, Iterable<IntWritable> values, Context context) throws IOException, InterruptedException {\n",
    "            int sum = 0;\n",
    "            for(IntWritable val: values){\n",
    "                sum += val.get();\n",
    "            }\n",
    "            result.set(sum);\n",
    "            context.write(key, result);\n",
    "        }\n",
    "    }\n",
    "\n",
    "    // configure the MapReduce program\n",
    "    public static void main(String[] args) throws Exception {\n",
    "        Configuration conf = new Configuration();\n",
    "        Job job = Job.getInstance(conf, \"word count java\");\n",
    "        // waar staat de map en reduce code\n",
    "        job.setJarByClass(WordCount.class);\n",
    "        \n",
    "        // configure mapper\n",
    "        job.setMapperClass(TokenizerMapper.class);\n",
    "        \n",
    "        //configure reducer\n",
    "        job.setReducerClass(IntSumReducer.class);\n",
    "        \n",
    "        // configure input/output\n",
    "        job.setOutputKeyClass(Text.class);\n",
    "        job.setOutputValueClass(IntWritable.class);\n",
    "        \n",
    "        // input file\n",
    "        FileInputFormat.addInputPath(job, new Path(args[0]));\n",
    "        \n",
    "        // output file\n",
    "        FileOutputFormat.setOutputPath(job, new Path(args[1]));\n",
    "        \n",
    "        // start de applicatie\n",
    "        System.exit(job.waitForCompletion(true) ? 0 : 1);\n",
    "    }\n",
    "}"
   ]
  },
  {
   "cell_type": "markdown",
   "metadata": {
    "pycharm": {
     "name": "#%% md\n"
    }
   },
   "source": [
    "Deze code bevat drie delen:\n",
    "* De main() functie: verzorgt de configuratie van de uit te voeren taak. Geeft aan wat de Map en Reduce klassen zijn, wat de input is, hoe de output bewaard wordt ,...\n",
    "* De Map-klasse met de map() functie bevat de code voor de mapping-fase\n",
    "* De Reduce-klasse met de reduce() functie bevat de code voor de reduce-fase\n",
    "\n",
    "De laatste twee klassen zijn hier gecodeerd als geneste klassen. Deze hadden ook in aparte files geplaatst kunnen worden.\n",
    "Nu moet deze code eerst omgezet/gecompileerd worden tot een .jar file. Deze kan dan analoog uitgevoerd worden als hierboven met het voorbeeldcode.\n",
    "Deze twee stappen kunnen uitgevoerd worden door onderstaande commando's."
   ]
  },
  {
   "cell_type": "code",
   "execution_count": 13,
   "metadata": {
    "pycharm": {
     "name": "#%%\n"
    }
   },
   "outputs": [
    {
     "name": "stdout",
     "output_type": "stream",
     "text": [
      "added manifest\n",
      "adding: WordCount$IntSumReducer.class(in = 1755) (out= 750)(deflated 57%)\n",
      "adding: WordCount$TokenizerMapper.class(in = 1752) (out= 763)(deflated 56%)\n",
      "adding: WordCount.class(in = 1477) (out= 808)(deflated 45%)\n",
      "2022-02-17 12:41:54,993 INFO client.DefaultNoHARMFailoverProxyProvider: Connecting to ResourceManager at /0.0.0.0:8032\n",
      "2022-02-17 12:41:56,385 WARN mapreduce.JobResourceUploader: Hadoop command-line option parsing not performed. Implement the Tool interface and execute your application with ToolRunner to remedy this.\n",
      "2022-02-17 12:41:56,541 INFO mapreduce.JobResourceUploader: Disabling Erasure Coding for path: /tmp/hadoop-yarn/staging/bigdata/.staging/job_1645095659020_0002\n",
      "2022-02-17 12:41:57,541 INFO input.FileInputFormat: Total input files to process : 1\n",
      "2022-02-17 12:41:58,073 INFO mapreduce.JobSubmitter: number of splits:1\n",
      "2022-02-17 12:41:59,652 INFO mapreduce.JobSubmitter: Submitting tokens for job: job_1645095659020_0002\n",
      "2022-02-17 12:41:59,652 INFO mapreduce.JobSubmitter: Executing with tokens: []\n",
      "2022-02-17 12:42:00,436 INFO conf.Configuration: found resource resource-types.xml at file:/home/bigdata/hadoop/etc/hadoop/resource-types.xml\n",
      "2022-02-17 12:42:00,497 INFO resource.ResourceUtils: Adding resource type - name = vram, units = G, type = COUNTABLE\n",
      "2022-02-17 12:42:00,758 INFO impl.YarnClientImpl: Submitted application application_1645095659020_0002\n",
      "2022-02-17 12:42:00,846 INFO mapreduce.Job: The url to track the job: http://bigdata-VirtualBox:8088/proxy/application_1645095659020_0002/\n",
      "2022-02-17 12:42:00,846 INFO mapreduce.Job: Running job: job_1645095659020_0002\n",
      "2022-02-17 12:42:13,438 INFO mapreduce.Job: Job job_1645095659020_0002 running in uber mode : false\n",
      "2022-02-17 12:42:13,439 INFO mapreduce.Job:  map 0% reduce 0%\n",
      "2022-02-17 12:42:28,047 INFO mapreduce.Job:  map 100% reduce 0%\n",
      "2022-02-17 12:42:39,379 INFO mapreduce.Job:  map 100% reduce 100%\n",
      "2022-02-17 12:42:40,440 INFO mapreduce.Job: Job job_1645095659020_0002 completed successfully\n",
      "2022-02-17 12:42:40,851 INFO mapreduce.Job: Counters: 54\n",
      "\tFile System Counters\n",
      "\t\tFILE: Number of bytes read=218\n",
      "\t\tFILE: Number of bytes written=531651\n",
      "\t\tFILE: Number of read operations=0\n",
      "\t\tFILE: Number of large read operations=0\n",
      "\t\tFILE: Number of write operations=0\n",
      "\t\tHDFS: Number of bytes read=229\n",
      "\t\tHDFS: Number of bytes written=111\n",
      "\t\tHDFS: Number of read operations=8\n",
      "\t\tHDFS: Number of large read operations=0\n",
      "\t\tHDFS: Number of write operations=2\n",
      "\t\tHDFS: Number of bytes read erasure-coded=0\n",
      "\tJob Counters \n",
      "\t\tLaunched map tasks=1\n",
      "\t\tLaunched reduce tasks=1\n",
      "\t\tData-local map tasks=1\n",
      "\t\tTotal time spent by all maps in occupied slots (ms)=11288\n",
      "\t\tTotal time spent by all reduces in occupied slots (ms)=9097\n",
      "\t\tTotal time spent by all map tasks (ms)=11288\n",
      "\t\tTotal time spent by all reduce tasks (ms)=9097\n",
      "\t\tTotal vcore-milliseconds taken by all map tasks=11288\n",
      "\t\tTotal vcore-milliseconds taken by all reduce tasks=9097\n",
      "\t\tTotal megabyte-milliseconds taken by all map tasks=11558912\n",
      "\t\tTotal megabyte-milliseconds taken by all reduce tasks=9315328\n",
      "\tMap-Reduce Framework\n",
      "\t\tMap input records=5\n",
      "\t\tMap output records=18\n",
      "\t\tMap output bytes=176\n",
      "\t\tMap output materialized bytes=218\n",
      "\t\tInput split bytes=122\n",
      "\t\tCombine input records=0\n",
      "\t\tCombine output records=0\n",
      "\t\tReduce input groups=15\n",
      "\t\tReduce shuffle bytes=218\n",
      "\t\tReduce input records=18\n",
      "\t\tReduce output records=15\n",
      "\t\tSpilled Records=36\n",
      "\t\tShuffled Maps =1\n",
      "\t\tFailed Shuffles=0\n",
      "\t\tMerged Map outputs=1\n",
      "\t\tGC time elapsed (ms)=276\n",
      "\t\tCPU time spent (ms)=1050\n",
      "\t\tPhysical memory (bytes) snapshot=408764416\n",
      "\t\tVirtual memory (bytes) snapshot=5345308672\n",
      "\t\tTotal committed heap usage (bytes)=299634688\n",
      "\t\tPeak Map Physical memory (bytes)=251531264\n",
      "\t\tPeak Map Virtual memory (bytes)=2665885696\n",
      "\t\tPeak Reduce Physical memory (bytes)=157233152\n",
      "\t\tPeak Reduce Virtual memory (bytes)=2679422976\n",
      "\tShuffle Errors\n",
      "\t\tBAD_ID=0\n",
      "\t\tCONNECTION=0\n",
      "\t\tIO_ERROR=0\n",
      "\t\tWRONG_LENGTH=0\n",
      "\t\tWRONG_MAP=0\n",
      "\t\tWRONG_REDUCE=0\n",
      "\tFile Input Format Counters \n",
      "\t\tBytes Read=107\n",
      "\tFile Output Format Counters \n",
      "\t\tBytes Written=111\n"
     ]
    }
   ],
   "source": [
    "# compileren tot .jar\n",
    "!javac -d . WordCount.java\n",
    "!jar cvf wordcounter.jar *.class\n",
    "# execute\n",
    "!hadoop jar wordcounter.jar WordCount 05_MapReduce/input.txt 05_MapReduce/output_java"
   ]
  },
  {
   "cell_type": "markdown",
   "metadata": {
    "pycharm": {
     "name": "#%% md\n"
    }
   },
   "source": [
    "### Oefening\n",
    "\n",
    "Kopieer nu bovenstaand java programma en pas het aan zodat het het aantal worden telt dat begint met elke letter van het alfabet (zet eerst de woorden om naar kleine letters).\n",
    "Hiervoor moet je dus het resultaat van de itr.nextToken() eerst gaan omvormen om er enkel de eerste letter eruit te halen en deze om te zetten naar lowercase).\n",
    "De nodige functies om dit resultaat kun je [hier](https://docs.oracle.com/javase/7/docs/api/java/lang/String.html) en [hier](https://docs.oracle.com/javase/8/docs/api/java/lang/Character.html) vinden.\n",
    "Indien dit gelukt is zorg er ook voor dat je geen entries toevoegt indien het eerste character geen letter is.\n",
    "Compileer dit programma naar een .jar en voer het uit.\n",
    "Controleer het resultaat."
   ]
  },
  {
   "cell_type": "code",
   "execution_count": 1,
   "metadata": {
    "pycharm": {
     "name": "#%%\n"
    }
   },
   "outputs": [
    {
     "name": "stdout",
     "output_type": "stream",
     "text": [
      "Writing StartLetter.java\n"
     ]
    }
   ],
   "source": [
    "%%file StartLetter.java\n",
    "import java.io.IOException;\n",
    "import java.util.StringTokenizer;\n",
    "import java.lang.*;\n",
    "\n",
    "import org.apache.hadoop.conf.Configuration;\n",
    "import org.apache.hadoop.fs.Path;\n",
    "import org.apache.hadoop.io.IntWritable;\n",
    "import org.apache.hadoop.io.Text;\n",
    "import org.apache.hadoop.mapreduce.Job;\n",
    "import org.apache.hadoop.mapreduce.Mapper;\n",
    "import org.apache.hadoop.mapreduce.Reducer;\n",
    "import org.apache.hadoop.mapreduce.lib.input.FileInputFormat;\n",
    "import org.apache.hadoop.mapreduce.lib.output.FileOutputFormat;\n",
    "\n",
    "public class StartLetter {\n",
    "\n",
    "    public static class TokenizerMapper extends Mapper<Object, Text, Text, IntWritable>{\n",
    "\n",
    "        private final static IntWritable one = new IntWritable(1);\n",
    "        private Text word = new Text();\n",
    "\n",
    "        public void map(Object key, Text value, Context context) throws IOException, InterruptedException {\n",
    "            // split de tekst via spaties/newlines -> itereren over woorden\n",
    "            StringTokenizer itr = new StringTokenizer(value.toString());\n",
    "            \n",
    "            while(itr.hasMoreTokens()){\n",
    "                // next token = vraag het volgende woord op\n",
    "                String woord = itr.nextToken();\n",
    "                // zet het om naar lowercase\n",
    "                woord = woord.toLowerCase();\n",
    "                // eerste letter eruit halen\n",
    "                char firstLetter = woord.charAt(0);\n",
    "                \n",
    "                // negeer leestekens, cijfers, etc.\n",
    "                if(Character.isLetter(firstLetter)){\n",
    "                    word.set(firstLetter);    \n",
    "                    context.write(word, one);    \n",
    "                }\n",
    "            }\n",
    "        }\n",
    "    }\n",
    "\n",
    "    public static class IntSumReducer extends Reducer<Text,IntWritable,Text,IntWritable> {\n",
    "        private IntWritable result = new IntWritable();\n",
    "\n",
    "        public void reduce(Text key, Iterable<IntWritable> values, Context context) throws IOException, InterruptedException {\n",
    "            int sum = 0;\n",
    "            for(IntWritable val: values){\n",
    "                sum += val.get();\n",
    "            }\n",
    "            result.set(sum);\n",
    "            context.write(key, result);\n",
    "        }\n",
    "    }\n",
    "\n",
    "    public static void main(String[] args) throws Exception {\n",
    "       \n",
    "    }\n",
    "}"
   ]
  },
  {
   "cell_type": "code",
   "execution_count": 1,
   "metadata": {
    "pycharm": {
     "name": "#%%\n"
    }
   },
   "outputs": [
    {
     "name": "stdout",
     "output_type": "stream",
     "text": [
      "StartLetter.java:5: error: package org.apache.hadoop.conf does not exist\n",
      "import org.apache.hadoop.conf.Configuration;\n",
      "                             ^\n",
      "StartLetter.java:6: error: package org.apache.hadoop.fs does not exist\n",
      "import org.apache.hadoop.fs.Path;\n",
      "                           ^\n",
      "StartLetter.java:7: error: package org.apache.hadoop.io does not exist\n",
      "import org.apache.hadoop.io.IntWritable;\n",
      "                           ^\n",
      "StartLetter.java:8: error: package org.apache.hadoop.io does not exist\n",
      "import org.apache.hadoop.io.Text;\n",
      "                           ^\n",
      "StartLetter.java:9: error: package org.apache.hadoop.mapreduce does not exist\n",
      "import org.apache.hadoop.mapreduce.Job;\n",
      "                                  ^\n",
      "StartLetter.java:10: error: package org.apache.hadoop.mapreduce does not exist\n",
      "import org.apache.hadoop.mapreduce.Mapper;\n",
      "                                  ^\n",
      "StartLetter.java:11: error: package org.apache.hadoop.mapreduce does not exist\n",
      "import org.apache.hadoop.mapreduce.Reducer;\n",
      "                                  ^\n",
      "StartLetter.java:12: error: package org.apache.hadoop.mapreduce.lib.input does not exist\n",
      "import org.apache.hadoop.mapreduce.lib.input.FileInputFormat;\n",
      "                                            ^\n",
      "StartLetter.java:13: error: package org.apache.hadoop.mapreduce.lib.output does not exist\n",
      "import org.apache.hadoop.mapreduce.lib.output.FileOutputFormat;\n",
      "                                             ^\n",
      "StartLetter.java:17: error: cannot find symbol\n",
      "    public static class TokenizerMapper extends Mapper<Object, Text, Text, IntWritable>{\n",
      "                                                ^\n",
      "  symbol:   class Mapper\n",
      "  location: class StartLetter\n",
      "StartLetter.java:17: error: cannot find symbol\n",
      "    public static class TokenizerMapper extends Mapper<Object, Text, Text, IntWritable>{\n",
      "                                                               ^\n",
      "  symbol:   class Text\n",
      "  location: class StartLetter\n",
      "StartLetter.java:17: error: cannot find symbol\n",
      "    public static class TokenizerMapper extends Mapper<Object, Text, Text, IntWritable>{\n",
      "                                                                     ^\n",
      "  symbol:   class Text\n",
      "  location: class StartLetter\n",
      "StartLetter.java:17: error: cannot find symbol\n",
      "    public static class TokenizerMapper extends Mapper<Object, Text, Text, IntWritable>{\n",
      "                                                                           ^\n",
      "  symbol:   class IntWritable\n",
      "  location: class StartLetter\n",
      "StartLetter.java:19: error: cannot find symbol\n",
      "        private final static IntWritable one = new IntWritable(1);\n",
      "                             ^\n",
      "  symbol:   class IntWritable\n",
      "  location: class TokenizerMapper\n",
      "StartLetter.java:20: error: cannot find symbol\n",
      "        private Text word = new Text();\n",
      "                ^\n",
      "  symbol:   class Text\n",
      "  location: class TokenizerMapper\n",
      "StartLetter.java:22: error: cannot find symbol\n",
      "        public void map(Object key, Text value, Context context) throws IOException, InterruptedException {\n",
      "                                    ^\n",
      "  symbol:   class Text\n",
      "  location: class TokenizerMapper\n",
      "StartLetter.java:22: error: cannot find symbol\n",
      "        public void map(Object key, Text value, Context context) throws IOException, InterruptedException {\n",
      "                                                ^\n",
      "  symbol:   class Context\n",
      "  location: class TokenizerMapper\n",
      "StartLetter.java:43: error: cannot find symbol\n",
      "    public static class IntSumReducer extends Reducer<Text,IntWritable,Text,IntWritable> {\n",
      "                                              ^\n",
      "  symbol:   class Reducer\n",
      "  location: class StartLetter\n",
      "StartLetter.java:43: error: cannot find symbol\n",
      "    public static class IntSumReducer extends Reducer<Text,IntWritable,Text,IntWritable> {\n",
      "                                                      ^\n",
      "  symbol:   class Text\n",
      "  location: class StartLetter\n",
      "StartLetter.java:43: error: cannot find symbol\n",
      "    public static class IntSumReducer extends Reducer<Text,IntWritable,Text,IntWritable> {\n",
      "                                                           ^\n",
      "  symbol:   class IntWritable\n",
      "  location: class StartLetter\n",
      "StartLetter.java:43: error: cannot find symbol\n",
      "    public static class IntSumReducer extends Reducer<Text,IntWritable,Text,IntWritable> {\n",
      "                                                                       ^\n",
      "  symbol:   class Text\n",
      "  location: class StartLetter\n",
      "StartLetter.java:43: error: cannot find symbol\n",
      "    public static class IntSumReducer extends Reducer<Text,IntWritable,Text,IntWritable> {\n",
      "                                                                            ^\n",
      "  symbol:   class IntWritable\n",
      "  location: class StartLetter\n",
      "StartLetter.java:44: error: cannot find symbol\n",
      "        private IntWritable result = new IntWritable();\n",
      "                ^\n",
      "  symbol:   class IntWritable\n",
      "  location: class IntSumReducer\n",
      "StartLetter.java:46: error: cannot find symbol\n",
      "        public void reduce(Text key, Iterable<IntWritable> values, Context context) throws IOException, InterruptedException {\n",
      "                           ^\n",
      "  symbol:   class Text\n",
      "  location: class IntSumReducer\n",
      "StartLetter.java:46: error: cannot find symbol\n",
      "        public void reduce(Text key, Iterable<IntWritable> values, Context context) throws IOException, InterruptedException {\n",
      "                                              ^\n",
      "  symbol:   class IntWritable\n",
      "  location: class IntSumReducer\n",
      "StartLetter.java:46: error: cannot find symbol\n",
      "        public void reduce(Text key, Iterable<IntWritable> values, Context context) throws IOException, InterruptedException {\n",
      "                                                                   ^\n",
      "  symbol:   class Context\n",
      "  location: class IntSumReducer\n",
      "StartLetter.java:19: error: cannot find symbol\n",
      "        private final static IntWritable one = new IntWritable(1);\n",
      "                                                   ^\n",
      "  symbol:   class IntWritable\n",
      "  location: class TokenizerMapper\n",
      "StartLetter.java:20: error: cannot find symbol\n",
      "        private Text word = new Text();\n",
      "                                ^\n",
      "  symbol:   class Text\n",
      "  location: class TokenizerMapper\n",
      "StartLetter.java:44: error: cannot find symbol\n",
      "        private IntWritable result = new IntWritable();\n",
      "                                         ^\n",
      "  symbol:   class IntWritable\n",
      "  location: class IntSumReducer\n",
      "StartLetter.java:48: error: cannot find symbol\n",
      "            for(IntWritable val: values){\n",
      "                ^\n",
      "  symbol:   class IntWritable\n",
      "  location: class IntSumReducer\n",
      "30 errors\n",
      "added manifest\n",
      "adding: WordCount$IntSumReducer.class(in = 1755) (out= 750)(deflated 57%)\n",
      "adding: WordCount$TokenizerMapper.class(in = 1752) (out= 763)(deflated 56%)\n",
      "adding: WordCount.class(in = 1477) (out= 808)(deflated 45%)\n",
      "Exception in thread \"main\" java.lang.ClassNotFoundException: StartLetter\n",
      "\tat java.base/java.net.URLClassLoader.findClass(URLClassLoader.java:476)\n",
      "\tat java.base/java.lang.ClassLoader.loadClass(ClassLoader.java:589)\n",
      "\tat java.base/java.lang.ClassLoader.loadClass(ClassLoader.java:522)\n",
      "\tat java.base/java.lang.Class.forName0(Native Method)\n",
      "\tat java.base/java.lang.Class.forName(Class.java:398)\n",
      "\tat org.apache.hadoop.util.RunJar.run(RunJar.java:316)\n",
      "\tat org.apache.hadoop.util.RunJar.main(RunJar.java:236)\n"
     ]
    }
   ],
   "source": [
    "# compileren tot .jar\n",
    "!javac -d . StartLetter.java\n",
    "!jar cvf startletter.jar *.class # let op, dit gaat wordcount classes meenemen in de jar dus met het eerste argument kan je kiezen welke main gestart wordt\n",
    "# execute\n",
    "!hadoop jar startletter.jar StartLetter 05_MapReduce/input.txt 05_MapReduce/output_java_exer"
   ]
  },
  {
   "cell_type": "markdown",
   "metadata": {
    "pycharm": {
     "name": "#%% md\n"
    }
   },
   "source": [
    "## Implementeren via Python\n",
    "\n",
    "Hoewel het Hadoop Ecosysteem geprogrammeerd is in Java en het dus er goed mee samenwerkt, is het niet verplicht om Java te gebruiken om MapReduce applicaties te schrijven.\n",
    "Java krijgt namelijk veel kritiek, vooral doordat er veel code nodig is om eenvoudige zaken te programmeren.\n",
    "Om andere programmeertalen te gebruiken worden er verscheidene API's aangeboden door Hadoop, namelijk\n",
    "* Hadoop Streaming\n",
    "    * Communicatie via stdin/stdout\n",
    "    * Gebruikt door hadoopy, mrjob, ...\n",
    "* Hadoop Pipes\n",
    "    * C++ interface voor Hadoop\n",
    "    * Communicatie via sockets\n",
    "    * Gebruikt door pydoop\n"
   ]
  },
  {
   "cell_type": "markdown",
   "metadata": {
    "pycharm": {
     "name": "#%% md\n"
    }
   },
   "source": [
    "### Mrjob\n",
    "\n",
    "De eerste API die we bekijken is MrJobs.\n",
    "Deze API maakt gebruik van de Hadoop Streaming API.\n",
    "De voordelen van MrJobs zijn:\n",
    "* Uitgebreidde documentatie\n",
    "* Code kan lokaal uitgevoerd worden als test\n",
    "* Data serialisatie gebeurt automatisch (nadeel van Streaming API)\n",
    "* Werkt met Amazon Elastic MapReduce en Google Cloud Dataproc\n",
    "\n",
    "Het grootste nadeel is dat de StreamingAPI niet de volledige kracht heeft van het Hadoop ecosysteem omdat alles omgezet wordt naar strings (jsons)\n",
    "\n",
    "Installatie van deze package gebeurt als volgt:"
   ]
  },
  {
   "cell_type": "code",
   "execution_count": null,
   "metadata": {
    "pycharm": {
     "name": "#%%\n"
    }
   },
   "outputs": [],
   "source": [
    "!echo bigdata | sudo -S pip install mrjob"
   ]
  },
  {
   "cell_type": "code",
   "execution_count": 2,
   "metadata": {
    "pycharm": {
     "name": "#%%\n"
    }
   },
   "outputs": [
    {
     "name": "stdout",
     "output_type": "stream",
     "text": [
      "Writing wordcount_mrjob.py\n"
     ]
    }
   ],
   "source": [
    "%%file wordcount_mrjob.py\n",
    "from mrjob.job import MRJob\n",
    "\n",
    "# klasse die overerft van MRJob\n",
    "class MRWordCount(MRJob):\n",
    "    # functie voor de map-fase in mapreduce\n",
    "    # _ wil zeggen dat dit argument niet gebruikt wordt/niet belangrijk is\n",
    "    def mapper(self, _, line):\n",
    "        for word in line.split():\n",
    "            # hier moeten we yield gebruiken\n",
    "            # yield is een beetje als een return, maar functie blijft runnen\n",
    "            # alle return waarden worden dan in een lijst gestoken en gereturned\n",
    "            yield (word, 1)\n",
    "    \n",
    "    # functie voor de refuce-fase\n",
    "    def reducer(self, word, counts):\n",
    "        yield (word, sum(counts))\n",
    "        \n",
    "## zeggen dat deze file de main file is\n",
    "if __name__ == \"__main__\":\n",
    "    MRWordCount.run()"
   ]
  },
  {
   "cell_type": "markdown",
   "metadata": {},
   "source": [
    "Deze code kan uitgevoerd worden door het commando hieronder.\n",
    "Let op dat dit een lokale file gebruikt voor de output.\n",
    "Indien je de output wil bewaren in het hdfs moet je dit nog uploaden."
   ]
  },
  {
   "cell_type": "code",
   "execution_count": 3,
   "metadata": {
    "pycharm": {
     "name": "#%%\n"
    }
   },
   "outputs": [
    {
     "name": "stdout",
     "output_type": "stream",
     "text": [
      "No configs found; falling back on auto-configuration\n",
      "No configs specified for hadoop runner\n",
      "Looking for hadoop binary in /home/bigdata/hadoop/bin...\n",
      "Found hadoop binary: /home/bigdata/hadoop/bin/hadoop\n",
      "Using Hadoop version 3.3.0\n",
      "Looking for Hadoop streaming jar in /home/bigdata/hadoop...\n",
      "Found Hadoop streaming jar: /home/bigdata/hadoop/share/hadoop/tools/lib/hadoop-streaming-3.3.0.jar\n",
      "Creating temp directory /tmp/wordcount_mrjob.bigdata.20220224.082921.668492\n",
      "uploading working dir files to hdfs:///user/bigdata/tmp/mrjob/wordcount_mrjob.bigdata.20220224.082921.668492/files/wd...\n",
      "Copying other local files to hdfs:///user/bigdata/tmp/mrjob/wordcount_mrjob.bigdata.20220224.082921.668492/files/\n",
      "Running step 1 of 1...\n",
      "  packageJobJar: [/tmp/hadoop-unjar6951936470103441865/] [] /tmp/streamjob14536201160824914100.jar tmpDir=null\n",
      "  Connecting to ResourceManager at /0.0.0.0:8032\n",
      "  Connecting to ResourceManager at /0.0.0.0:8032\n",
      "  Disabling Erasure Coding for path: /tmp/hadoop-yarn/staging/bigdata/.staging/job_1645630309346_0001\n",
      "  Total input files to process : 1\n",
      "  number of splits:2\n",
      "  Submitting tokens for job: job_1645630309346_0001\n",
      "  Executing with tokens: []\n",
      "  found resource resource-types.xml at file:/home/bigdata/hadoop/etc/hadoop/resource-types.xml\n",
      "  Adding resource type - name = vram, units = G, type = COUNTABLE\n",
      "  Submitted application application_1645630309346_0001\n",
      "  The url to track the job: http://bigdata-VirtualBox:8088/proxy/application_1645630309346_0001/\n",
      "  Running job: job_1645630309346_0001\n",
      "  Job job_1645630309346_0001 running in uber mode : false\n",
      "   map 0% reduce 0%\n",
      "   map 100% reduce 0%\n",
      "   map 100% reduce 100%\n",
      "  Job job_1645630309346_0001 completed successfully\n",
      "  Output directory: hdfs:///user/bigdata/tmp/mrjob/wordcount_mrjob.bigdata.20220224.082921.668492/output\n",
      "Counters: 54\n",
      "\tFile Input Format Counters \n",
      "\t\tBytes Read=161\n",
      "\tFile Output Format Counters \n",
      "\t\tBytes Written=141\n",
      "\tFile System Counters\n",
      "\t\tFILE: Number of bytes read=218\n",
      "\t\tFILE: Number of bytes written=811962\n",
      "\t\tFILE: Number of large read operations=0\n",
      "\t\tFILE: Number of read operations=0\n",
      "\t\tFILE: Number of write operations=0\n",
      "\t\tHDFS: Number of bytes read=379\n",
      "\t\tHDFS: Number of bytes read erasure-coded=0\n",
      "\t\tHDFS: Number of bytes written=141\n",
      "\t\tHDFS: Number of large read operations=0\n",
      "\t\tHDFS: Number of read operations=11\n",
      "\t\tHDFS: Number of write operations=2\n",
      "\tJob Counters \n",
      "\t\tData-local map tasks=2\n",
      "\t\tLaunched map tasks=2\n",
      "\t\tLaunched reduce tasks=1\n",
      "\t\tTotal megabyte-milliseconds taken by all map tasks=36850688\n",
      "\t\tTotal megabyte-milliseconds taken by all reduce tasks=7223296\n",
      "\t\tTotal time spent by all map tasks (ms)=35987\n",
      "\t\tTotal time spent by all maps in occupied slots (ms)=35987\n",
      "\t\tTotal time spent by all reduce tasks (ms)=7054\n",
      "\t\tTotal time spent by all reduces in occupied slots (ms)=7054\n",
      "\t\tTotal vcore-milliseconds taken by all map tasks=35987\n",
      "\t\tTotal vcore-milliseconds taken by all reduce tasks=7054\n",
      "\tMap-Reduce Framework\n",
      "\t\tCPU time spent (ms)=2260\n",
      "\t\tCombine input records=0\n",
      "\t\tCombine output records=0\n",
      "\t\tFailed Shuffles=0\n",
      "\t\tGC time elapsed (ms)=502\n",
      "\t\tInput split bytes=218\n",
      "\t\tMap input records=5\n",
      "\t\tMap output bytes=176\n",
      "\t\tMap output materialized bytes=224\n",
      "\t\tMap output records=18\n",
      "\t\tMerged Map outputs=2\n",
      "\t\tPeak Map Physical memory (bytes)=258342912\n",
      "\t\tPeak Map Virtual memory (bytes)=2668904448\n",
      "\t\tPeak Reduce Physical memory (bytes)=164876288\n",
      "\t\tPeak Reduce Virtual memory (bytes)=2681249792\n",
      "\t\tPhysical memory (bytes) snapshot=676790272\n",
      "\t\tReduce input groups=15\n",
      "\t\tReduce input records=18\n",
      "\t\tReduce output records=15\n",
      "\t\tReduce shuffle bytes=224\n",
      "\t\tShuffled Maps =2\n",
      "\t\tSpilled Records=36\n",
      "\t\tTotal committed heap usage (bytes)=501882880\n",
      "\t\tVirtual memory (bytes) snapshot=8017833984\n",
      "\tShuffle Errors\n",
      "\t\tBAD_ID=0\n",
      "\t\tCONNECTION=0\n",
      "\t\tIO_ERROR=0\n",
      "\t\tWRONG_LENGTH=0\n",
      "\t\tWRONG_MAP=0\n",
      "\t\tWRONG_REDUCE=0\n",
      "job output is in hdfs:///user/bigdata/tmp/mrjob/wordcount_mrjob.bigdata.20220224.082921.668492/output\n",
      "Streaming final output from hdfs:///user/bigdata/tmp/mrjob/wordcount_mrjob.bigdata.20220224.082921.668492/output...\n",
      "Removing HDFS temp directory hdfs:///user/bigdata/tmp/mrjob/wordcount_mrjob.bigdata.20220224.082921.668492...\n",
      "Removing temp directory /tmp/wordcount_mrjob.bigdata.20220224.082921.668492...\n"
     ]
    }
   ],
   "source": [
    "!python wordcount_mrjob.py -r hadoop hdfs:///user/bigdata/05_MapReduce/input.txt > output.txt"
   ]
  },
  {
   "cell_type": "markdown",
   "metadata": {
    "pycharm": {
     "name": "#%% md\n"
    }
   },
   "source": [
    "### Pydoop\n",
    "\n",
    "Het word-count example door gebruik te maken van pydoop ziet er uit als volgt:"
   ]
  },
  {
   "cell_type": "code",
   "execution_count": 5,
   "metadata": {
    "pycharm": {
     "name": "#%%\n"
    }
   },
   "outputs": [
    {
     "name": "stdout",
     "output_type": "stream",
     "text": [
      "Writing wordcount_script.py\n"
     ]
    }
   ],
   "source": [
    "%%file wordcount_script.py\n",
    "# eerst gaan we een pydoop script maken\n",
    "# een heel eenvoudige map-reduce applicaties\n",
    "def mapper(_, text, writer):\n",
    "    for word in text.split():\n",
    "        writer.emit(word, 1)\n",
    "        \n",
    "def reducer(word, counts, writer):\n",
    "    writer.emit(word, sum(counts))"
   ]
  },
  {
   "cell_type": "markdown",
   "metadata": {},
   "source": [
    "Dit script kan uitgevoerd worden op de cluster als volgt:\n",
    "\n",
    "**Let op:** Indien dit script heel lang blijft hangen op 0% is er waarschijnlijk iets misgegaan.\n",
    "De timeout die gebruikt wordt om de applicatie af te sluiten is 10 minuten.\n",
    "De snelste manier op de applicatie af te sluiten is door gebruik te maken van het commando:\n",
    "    yarn application -kill <application-id>\n"
   ]
  },
  {
   "cell_type": "code",
   "execution_count": 6,
   "metadata": {
    "pycharm": {
     "name": "#%%\n"
    }
   },
   "outputs": [
    {
     "name": "stdout",
     "output_type": "stream",
     "text": [
      "2022-02-24 09:35:50,533 WARN util.NativeCodeLoader: Unable to load native-hadoop library for your platform... using builtin-java classes where applicable\n",
      "2022-02-24 09:35:55,671 INFO client.DefaultNoHARMFailoverProxyProvider: Connecting to ResourceManager at /0.0.0.0:8032\n",
      "2022-02-24 09:35:56,428 INFO mapreduce.JobResourceUploader: Disabling Erasure Coding for path: /tmp/hadoop-yarn/staging/bigdata/.staging/job_1645630309346_0002\n",
      "2022-02-24 09:35:56,808 WARN mapreduce.JobResourceUploader: No job jar file set.  User classes may not be found. See Job or Job#setJar(String).\n",
      "2022-02-24 09:35:56,955 INFO input.FileInputFormat: Total input files to process : 1\n",
      "2022-02-24 09:35:57,224 INFO mapreduce.JobSubmitter: number of splits:1\n",
      "2022-02-24 09:35:57,768 INFO mapreduce.JobSubmitter: Submitting tokens for job: job_1645630309346_0002\n",
      "2022-02-24 09:35:57,768 INFO mapreduce.JobSubmitter: Executing with tokens: []\n",
      "2022-02-24 09:35:58,315 INFO mapred.YARNRunner: Job jar is not present. Not adding any jar to the list of resources.\n",
      "2022-02-24 09:35:58,517 INFO conf.Configuration: found resource resource-types.xml at file:/home/bigdata/hadoop/etc/hadoop/resource-types.xml\n",
      "2022-02-24 09:35:58,624 INFO resource.ResourceUtils: Adding resource type - name = vram, units = G, type = COUNTABLE\n",
      "2022-02-24 09:35:58,911 INFO impl.YarnClientImpl: Submitted application application_1645630309346_0002\n",
      "2022-02-24 09:35:59,010 INFO mapreduce.Job: The url to track the job: http://bigdata-VirtualBox:8088/proxy/application_1645630309346_0002/\n",
      "2022-02-24 09:35:59,012 INFO mapreduce.Job: Running job: job_1645630309346_0002\n",
      "2022-02-24 09:36:17,629 INFO mapreduce.Job: Job job_1645630309346_0002 running in uber mode : false\n",
      "2022-02-24 09:36:17,632 INFO mapreduce.Job:  map 0% reduce 0%\n",
      "2022-02-24 09:36:27,954 INFO mapreduce.Job:  map 100% reduce 0%\n",
      "2022-02-24 09:36:40,224 INFO mapreduce.Job:  map 100% reduce 100%\n",
      "2022-02-24 09:36:40,259 INFO mapreduce.Job: Job job_1645630309346_0002 completed successfully\n",
      "2022-02-24 09:36:40,532 INFO mapreduce.Job: Counters: 54\n",
      "\tFile System Counters\n",
      "\t\tFILE: Number of bytes read=178\n",
      "\t\tFILE: Number of bytes written=540603\n",
      "\t\tFILE: Number of read operations=0\n",
      "\t\tFILE: Number of large read operations=0\n",
      "\t\tFILE: Number of write operations=0\n",
      "\t\tHDFS: Number of bytes read=229\n",
      "\t\tHDFS: Number of bytes written=111\n",
      "\t\tHDFS: Number of read operations=9\n",
      "\t\tHDFS: Number of large read operations=0\n",
      "\t\tHDFS: Number of write operations=2\n",
      "\t\tHDFS: Number of bytes read erasure-coded=0\n",
      "\tJob Counters \n",
      "\t\tLaunched map tasks=1\n",
      "\t\tLaunched reduce tasks=1\n",
      "\t\tData-local map tasks=1\n",
      "\t\tTotal time spent by all maps in occupied slots (ms)=8235\n",
      "\t\tTotal time spent by all reduces in occupied slots (ms)=9359\n",
      "\t\tTotal time spent by all map tasks (ms)=8235\n",
      "\t\tTotal time spent by all reduce tasks (ms)=9359\n",
      "\t\tTotal vcore-milliseconds taken by all map tasks=8235\n",
      "\t\tTotal vcore-milliseconds taken by all reduce tasks=9359\n",
      "\t\tTotal megabyte-milliseconds taken by all map tasks=8432640\n",
      "\t\tTotal megabyte-milliseconds taken by all reduce tasks=9583616\n",
      "\tMap-Reduce Framework\n",
      "\t\tMap input records=0\n",
      "\t\tMap output records=18\n",
      "\t\tMap output bytes=482\n",
      "\t\tMap output materialized bytes=170\n",
      "\t\tInput split bytes=122\n",
      "\t\tCombine input records=0\n",
      "\t\tCombine output records=0\n",
      "\t\tReduce input groups=15\n",
      "\t\tReduce shuffle bytes=170\n",
      "\t\tReduce input records=18\n",
      "\t\tReduce output records=15\n",
      "\t\tSpilled Records=36\n",
      "\t\tShuffled Maps =1\n",
      "\t\tFailed Shuffles=0\n",
      "\t\tMerged Map outputs=1\n",
      "\t\tGC time elapsed (ms)=154\n",
      "\t\tCPU time spent (ms)=1360\n",
      "\t\tPhysical memory (bytes) snapshot=415903744\n",
      "\t\tVirtual memory (bytes) snapshot=5347852288\n",
      "\t\tTotal committed heap usage (bytes)=299634688\n",
      "\t\tPeak Map Physical memory (bytes)=262463488\n",
      "\t\tPeak Map Virtual memory (bytes)=2673266688\n",
      "\t\tPeak Reduce Physical memory (bytes)=153440256\n",
      "\t\tPeak Reduce Virtual memory (bytes)=2674585600\n",
      "\tShuffle Errors\n",
      "\t\tBAD_ID=0\n",
      "\t\tCONNECTION=0\n",
      "\t\tIO_ERROR=0\n",
      "\t\tWRONG_LENGTH=0\n",
      "\t\tWRONG_MAP=0\n",
      "\t\tWRONG_REDUCE=0\n",
      "\tFile Input Format Counters \n",
      "\t\tBytes Read=0\n",
      "\tFile Output Format Counters \n",
      "\t\tBytes Written=111\n",
      "INFO:PydoopSubmitter:Done\n"
     ]
    }
   ],
   "source": [
    "!pydoop script wordcount_script.py 05_MapReduce/input.txt 05_MapReduce/output_python_script"
   ]
  },
  {
   "cell_type": "markdown",
   "metadata": {},
   "source": [
    "Bovenstaande code werkt door gebruik te maken van een script, dit maakt het mogelijk om eenvoudige applicaties te schrijven.\n",
    "Voor complexere zaken (vooral in het geval dat er een bepaalde state moet bijgehouden worden kunnen er ook Mapper en Reducer classes aangemaakt worden waarmee het mogelijk is om de volledige [Pydoop API](https://crs4.github.io/pydoop/tutorial/mapred_api.html#api-tutorial) te gebruiken."
   ]
  },
  {
   "cell_type": "code",
   "execution_count": 8,
   "metadata": {
    "pycharm": {
     "name": "#%%\n"
    }
   },
   "outputs": [
    {
     "name": "stdout",
     "output_type": "stream",
     "text": [
      "Overwriting wordcount_pydoop.py\n"
     ]
    }
   ],
   "source": [
    "%%file wordcount_pydoop.py\n",
    "import pydoop.mapreduce.api as api\n",
    "import pydoop.mapreduce.pipes as pipes\n",
    "\n",
    "class Mapper(api.Mapper):\n",
    "    # key-values zitten in de context\n",
    "    def map(self, context):\n",
    "        # context.value is de lijn die we lezen\n",
    "        for w in context.value.split():\n",
    "            context.emit(w,1)\n",
    "    \n",
    "class Reducer(api.Reducer):\n",
    "    # key-values zitten in de context    \n",
    "    def reduce(self, context):\n",
    "        context.emit(context.key, sum(context.values))\n",
    "        \n",
    "FACTORY = pipes.Factory(Mapper, reducer_class=Reducer)\n",
    "\n",
    "def main():\n",
    "    pipes.run_task(FACTORY)\n",
    "\n",
    "## zeggen dat deze file de main file is\n",
    "if __name__ == \"__main__\":\n",
    "    main()"
   ]
  },
  {
   "cell_type": "code",
   "execution_count": 9,
   "metadata": {},
   "outputs": [
    {
     "name": "stdout",
     "output_type": "stream",
     "text": [
      "2022-02-24 09:43:26,490 WARN util.NativeCodeLoader: Unable to load native-hadoop library for your platform... using builtin-java classes where applicable\n",
      "2022-02-24 09:43:31,753 INFO client.DefaultNoHARMFailoverProxyProvider: Connecting to ResourceManager at /0.0.0.0:8032\n",
      "2022-02-24 09:43:32,490 INFO mapreduce.JobResourceUploader: Disabling Erasure Coding for path: /tmp/hadoop-yarn/staging/bigdata/.staging/job_1645630309346_0003\n",
      "2022-02-24 09:43:32,830 WARN mapreduce.JobResourceUploader: No job jar file set.  User classes may not be found. See Job or Job#setJar(String).\n",
      "2022-02-24 09:43:32,973 INFO input.FileInputFormat: Total input files to process : 1\n",
      "2022-02-24 09:43:33,178 INFO mapreduce.JobSubmitter: number of splits:1\n",
      "2022-02-24 09:43:33,764 INFO mapreduce.JobSubmitter: Submitting tokens for job: job_1645630309346_0003\n",
      "2022-02-24 09:43:33,764 INFO mapreduce.JobSubmitter: Executing with tokens: []\n",
      "2022-02-24 09:43:34,075 INFO mapred.YARNRunner: Job jar is not present. Not adding any jar to the list of resources.\n",
      "2022-02-24 09:43:34,282 INFO conf.Configuration: found resource resource-types.xml at file:/home/bigdata/hadoop/etc/hadoop/resource-types.xml\n",
      "2022-02-24 09:43:34,316 INFO resource.ResourceUtils: Adding resource type - name = vram, units = G, type = COUNTABLE\n",
      "2022-02-24 09:43:34,544 INFO impl.YarnClientImpl: Submitted application application_1645630309346_0003\n",
      "2022-02-24 09:43:34,682 INFO mapreduce.Job: The url to track the job: http://bigdata-VirtualBox:8088/proxy/application_1645630309346_0003/\n",
      "2022-02-24 09:43:34,749 INFO mapreduce.Job: Running job: job_1645630309346_0003\n",
      "2022-02-24 09:43:47,948 INFO mapreduce.Job: Job job_1645630309346_0003 running in uber mode : false\n",
      "2022-02-24 09:43:47,951 INFO mapreduce.Job:  map 0% reduce 0%\n",
      "2022-02-24 09:43:56,183 INFO mapreduce.Job:  map 100% reduce 0%\n",
      "2022-02-24 09:44:04,372 INFO mapreduce.Job:  map 100% reduce 100%\n",
      "2022-02-24 09:44:05,405 INFO mapreduce.Job: Job job_1645630309346_0003 completed successfully\n",
      "2022-02-24 09:44:05,693 INFO mapreduce.Job: Counters: 54\n",
      "\tFile System Counters\n",
      "\t\tFILE: Number of bytes read=178\n",
      "\t\tFILE: Number of bytes written=538971\n",
      "\t\tFILE: Number of read operations=0\n",
      "\t\tFILE: Number of large read operations=0\n",
      "\t\tFILE: Number of write operations=0\n",
      "\t\tHDFS: Number of bytes read=229\n",
      "\t\tHDFS: Number of bytes written=111\n",
      "\t\tHDFS: Number of read operations=9\n",
      "\t\tHDFS: Number of large read operations=0\n",
      "\t\tHDFS: Number of write operations=2\n",
      "\t\tHDFS: Number of bytes read erasure-coded=0\n",
      "\tJob Counters \n",
      "\t\tLaunched map tasks=1\n",
      "\t\tLaunched reduce tasks=1\n",
      "\t\tData-local map tasks=1\n",
      "\t\tTotal time spent by all maps in occupied slots (ms)=5430\n",
      "\t\tTotal time spent by all reduces in occupied slots (ms)=5578\n",
      "\t\tTotal time spent by all map tasks (ms)=5430\n",
      "\t\tTotal time spent by all reduce tasks (ms)=5578\n",
      "\t\tTotal vcore-milliseconds taken by all map tasks=5430\n",
      "\t\tTotal vcore-milliseconds taken by all reduce tasks=5578\n",
      "\t\tTotal megabyte-milliseconds taken by all map tasks=5560320\n",
      "\t\tTotal megabyte-milliseconds taken by all reduce tasks=5711872\n",
      "\tMap-Reduce Framework\n",
      "\t\tMap input records=0\n",
      "\t\tMap output records=18\n",
      "\t\tMap output bytes=482\n",
      "\t\tMap output materialized bytes=170\n",
      "\t\tInput split bytes=122\n",
      "\t\tCombine input records=0\n",
      "\t\tCombine output records=0\n",
      "\t\tReduce input groups=15\n",
      "\t\tReduce shuffle bytes=170\n",
      "\t\tReduce input records=18\n",
      "\t\tReduce output records=15\n",
      "\t\tSpilled Records=36\n",
      "\t\tShuffled Maps =1\n",
      "\t\tFailed Shuffles=0\n",
      "\t\tMerged Map outputs=1\n",
      "\t\tGC time elapsed (ms)=105\n",
      "\t\tCPU time spent (ms)=1380\n",
      "\t\tPhysical memory (bytes) snapshot=415055872\n",
      "\t\tVirtual memory (bytes) snapshot=5350662144\n",
      "\t\tTotal committed heap usage (bytes)=299634688\n",
      "\t\tPeak Map Physical memory (bytes)=259260416\n",
      "\t\tPeak Map Virtual memory (bytes)=2674282496\n",
      "\t\tPeak Reduce Physical memory (bytes)=155795456\n",
      "\t\tPeak Reduce Virtual memory (bytes)=2676379648\n",
      "\tShuffle Errors\n",
      "\t\tBAD_ID=0\n",
      "\t\tCONNECTION=0\n",
      "\t\tIO_ERROR=0\n",
      "\t\tWRONG_LENGTH=0\n",
      "\t\tWRONG_MAP=0\n",
      "\t\tWRONG_REDUCE=0\n",
      "\tFile Input Format Counters \n",
      "\t\tBytes Read=0\n",
      "\tFile Output Format Counters \n",
      "\t\tBytes Written=111\n",
      "INFO:PydoopSubmitter:Done\n"
     ]
    }
   ],
   "source": [
    "!pydoop submit --upload-file-to-cache wordcount_pydoop.py wordcount_pydoop /user/bigdata/05_MapReduce/input.txt 05_MapReduce/output_python --entry-point main"
   ]
  },
  {
   "cell_type": "markdown",
   "metadata": {},
   "source": [
    "**Let in het commando hierboven ook op de entry point parameter. Deze is belangrijk omdat het anders niet gaat werken**"
   ]
  },
  {
   "cell_type": "code",
   "execution_count": null,
   "metadata": {},
   "outputs": [],
   "source": [
    "# in het geval van een error/fout in je code -> map reduce applicatie\n",
    "# kan je gaan detecteren in de logs -> hadoop/logs/userlogs -> selecteer de juiste container (de laatste normaal)\n",
    "# in stderr kan je de foutboodschap zien\n",
    "!yarn application -kill {id}"
   ]
  },
  {
   "cell_type": "markdown",
   "metadata": {},
   "source": [
    "### Oefening\n",
    "\n",
    "Pas nu ook bovenstaande python applicatie aan om het aantal woorden dat begint met elke letter te tellen. Let er ook hierbij op dat er geen verschil is tussen hoofd- en kleine letters.\n",
    "\n",
    "Indien dit goed gelukt is, probeer ook de applicatie aan te passen de gemiddelde lengte van de woorden te berekenen.\n",
    "Let er hierbij op dat het niet rechtstreeks mogelijk is om meerdere keren de volledige iterator met de values te gebruiken. \n",
    "Terwijl dit nodig is voor het gemiddelde te berekenen met behulp van de standaard methoden (len, sum, ...).\n",
    "Een oplossing hiervoor is om gebruik te maken van de itertools package\n",
    "\n",
    "    from itertools import tee\n",
    "    \n",
    "Meer informatie over het gebruik hiervan vind je [hier](https://www.geeksforgeeks.org/python-itertools-tee/).\n",
    "\n",
    "Daarnaast is het ook belangrijk om te beseffen dat je meerdere keys kan emitten per woord indien gewenst.\n",
    "Breid nu de applicatie uit om ook de maximum lengte van alle woorden te bepalen.\n",
    "Denk hierbij erover na hoe je het onderscheid kan maken tussen de twee soorten keys."
   ]
  },
  {
   "cell_type": "code",
   "execution_count": 21,
   "metadata": {},
   "outputs": [
    {
     "name": "stdout",
     "output_type": "stream",
     "text": [
      "Overwriting firstletter_pydoop.py\n"
     ]
    }
   ],
   "source": [
    "%%file firstletter_pydoop.py\n",
    "import pydoop.mapreduce.api as api\n",
    "import pydoop.mapreduce.pipes as pipes\n",
    "from itertools import tee\n",
    "\n",
    "class Mapper(api.Mapper):\n",
    "    \n",
    "    def __init__(self, context):\n",
    "        #constructor\n",
    "        #de super voert de constructor uit van de bovenliggende klasse (api.Mapper)\n",
    "        super(Mapper, self).__init__(context)\n",
    "        context.set_status(\"initializing mapper\")\n",
    "        self.input_words = context.get_counter(\"WORDCOUNT\", \"INPUT_WORDS\")\n",
    "    \n",
    "    # key-values zitten in de context\n",
    "    def map(self, context):\n",
    "        # context.value is de lijn die we lezen\n",
    "        for w in context.value.split():\n",
    "            print(w)\n",
    "            if len(w)>0 and w[0].isalpha():\n",
    "                context.emit(w[0].lower(), 1)\n",
    "                context.increment_counter(self.input_words, 1)\n",
    "            # er kunnen meerdere zaken ge-emit worden\n",
    "            # besteed wel aandacht aan de gekozen key\n",
    "            # zodat er geen conflict is met de andere keys\n",
    "            # bijvoorbeeld bij first letter -> kies geen letter\n",
    "            # in het wordcount example -> kies geen woord maar gebruik twee woorden met een spatie\n",
    "            context.emit(\"lengte woord\", len(w))\n",
    "    \n",
    "class Reducer(api.Reducer):\n",
    "    \n",
    "    def __init__(self, context):\n",
    "        #constructor\n",
    "        #de super voert de constructor uit van de bovenliggende klasse (api.Mapper)\n",
    "        super(Reducer, self).__init__(context)\n",
    "        context.set_status(\"initializing reducer\")\n",
    "        self.unique_letters = context.get_counter(\"WORDCOUNT\", \"DIFF_FIRST_LETTERS\")\n",
    "        \n",
    "    # key-values zitten in de context    \n",
    "    def reduce(self, context):\n",
    "        if context.key == \"lengte woord\":\n",
    "            its = tee(context.values, 3)\n",
    "            som = 0\n",
    "            aantal = 0\n",
    "            for val in its[0]:\n",
    "                aantal += 1\n",
    "                som += val\n",
    "                \n",
    "            print(\"gemiddelde\", som/aantal)\n",
    "            context.emit(\"gemiddelde\", som/aantal)\n",
    "            \n",
    "            # dit gaat niet zomaar werken\n",
    "            # context.values is een iterator en geen lijst\n",
    "            # iterator kan 1 keer over een lijst/dictionary gaan lopen/itereren\n",
    "            # om dit op te lossen moeten we de iterator gaan dupliceren / kopieen van maken\n",
    "            #aantal = len(context.values)\n",
    "            #som = sum(context.values)\n",
    "            aantal = len(its[1])\n",
    "            som = sum(its[2])\n",
    "            print(\"mean\", som/aantal)\n",
    "            context.emit(\"mean\", som/aantal)\n",
    "        else:\n",
    "            context.emit(context.key, sum(context.values))\n",
    "            context.increment_counter(self.unique_letters, 1)\n",
    "        \n",
    "FACTORY = pipes.Factory(Mapper, reducer_class=Reducer)\n",
    "\n",
    "def main():\n",
    "    pipes.run_task(FACTORY)\n",
    "\n",
    "## zeggen dat deze file de main file is\n",
    "if __name__ == \"__main__\":\n",
    "    main()"
   ]
  },
  {
   "cell_type": "code",
   "execution_count": 22,
   "metadata": {
    "scrolled": false
   },
   "outputs": [
    {
     "name": "stdout",
     "output_type": "stream",
     "text": [
      "2022-02-24 10:42:10,046 WARN util.NativeCodeLoader: Unable to load native-hadoop library for your platform... using builtin-java classes where applicable\n",
      "2022-02-24 10:42:15,828 INFO client.DefaultNoHARMFailoverProxyProvider: Connecting to ResourceManager at /0.0.0.0:8032\n",
      "2022-02-24 10:42:16,727 INFO mapreduce.JobResourceUploader: Disabling Erasure Coding for path: /tmp/hadoop-yarn/staging/bigdata/.staging/job_1645630309346_0009\n",
      "2022-02-24 10:42:17,302 WARN mapreduce.JobResourceUploader: No job jar file set.  User classes may not be found. See Job or Job#setJar(String).\n",
      "2022-02-24 10:42:17,474 INFO input.FileInputFormat: Total input files to process : 1\n",
      "2022-02-24 10:42:17,702 INFO mapreduce.JobSubmitter: number of splits:1\n",
      "2022-02-24 10:42:18,460 INFO mapreduce.JobSubmitter: Submitting tokens for job: job_1645630309346_0009\n",
      "2022-02-24 10:42:18,461 INFO mapreduce.JobSubmitter: Executing with tokens: []\n",
      "2022-02-24 10:42:18,779 INFO mapred.YARNRunner: Job jar is not present. Not adding any jar to the list of resources.\n",
      "2022-02-24 10:42:18,947 INFO conf.Configuration: found resource resource-types.xml at file:/home/bigdata/hadoop/etc/hadoop/resource-types.xml\n",
      "2022-02-24 10:42:19,007 INFO resource.ResourceUtils: Adding resource type - name = vram, units = G, type = COUNTABLE\n",
      "2022-02-24 10:42:19,211 INFO impl.YarnClientImpl: Submitted application application_1645630309346_0009\n",
      "2022-02-24 10:42:19,271 INFO mapreduce.Job: The url to track the job: http://bigdata-VirtualBox:8088/proxy/application_1645630309346_0009/\n",
      "2022-02-24 10:42:19,296 INFO mapreduce.Job: Running job: job_1645630309346_0009\n",
      "2022-02-24 10:42:32,708 INFO mapreduce.Job: Job job_1645630309346_0009 running in uber mode : false\n",
      "2022-02-24 10:42:32,710 INFO mapreduce.Job:  map 0% reduce 0%\n",
      "2022-02-24 10:42:40,900 INFO mapreduce.Job:  map 100% reduce 0%\n",
      "2022-02-24 10:42:48,091 INFO mapreduce.Job: Task Id : attempt_1645630309346_0009_r_000000_0, Status : FAILED\n",
      "Error: java.io.IOException: pipe child exception\n",
      "\tat it.crs4.pydoop.mapreduce.pipes.Application.abort(Application.java:234)\n",
      "\tat it.crs4.pydoop.mapreduce.pipes.PipesReducer.cleanup(PipesReducer.java:106)\n",
      "\tat org.apache.hadoop.mapreduce.Reducer.run(Reducer.java:179)\n",
      "\tat org.apache.hadoop.mapred.ReduceTask.runNewReducer(ReduceTask.java:628)\n",
      "\tat org.apache.hadoop.mapred.ReduceTask.run(ReduceTask.java:390)\n",
      "\tat org.apache.hadoop.mapred.YarnChild$2.run(YarnChild.java:178)\n",
      "\tat java.base/java.security.AccessController.doPrivileged(Native Method)\n",
      "\tat java.base/javax.security.auth.Subject.doAs(Subject.java:423)\n",
      "\tat org.apache.hadoop.security.UserGroupInformation.doAs(UserGroupInformation.java:1845)\n",
      "\tat org.apache.hadoop.mapred.YarnChild.main(YarnChild.java:172)\n",
      "Caused by: java.io.EOFException\n",
      "\tat java.base/java.io.DataInputStream.readByte(DataInputStream.java:272)\n",
      "\tat org.apache.hadoop.io.WritableUtils.readVLong(WritableUtils.java:310)\n",
      "\tat org.apache.hadoop.io.WritableUtils.readVInt(WritableUtils.java:331)\n",
      "\tat it.crs4.pydoop.mapreduce.pipes.BinaryProtocol$UplinkReaderThread.run(BinaryProtocol.java:126)\n",
      "\n",
      "2022-02-24 10:42:55,291 INFO mapreduce.Job: Task Id : attempt_1645630309346_0009_r_000000_1, Status : FAILED\n",
      "Error: java.io.IOException: pipe child exception\n",
      "\tat it.crs4.pydoop.mapreduce.pipes.Application.abort(Application.java:234)\n",
      "\tat it.crs4.pydoop.mapreduce.pipes.PipesReducer.cleanup(PipesReducer.java:106)\n",
      "\tat org.apache.hadoop.mapreduce.Reducer.run(Reducer.java:179)\n",
      "\tat org.apache.hadoop.mapred.ReduceTask.runNewReducer(ReduceTask.java:628)\n",
      "\tat org.apache.hadoop.mapred.ReduceTask.run(ReduceTask.java:390)\n",
      "\tat org.apache.hadoop.mapred.YarnChild$2.run(YarnChild.java:178)\n",
      "\tat java.base/java.security.AccessController.doPrivileged(Native Method)\n",
      "\tat java.base/javax.security.auth.Subject.doAs(Subject.java:423)\n",
      "\tat org.apache.hadoop.security.UserGroupInformation.doAs(UserGroupInformation.java:1845)\n",
      "\tat org.apache.hadoop.mapred.YarnChild.main(YarnChild.java:172)\n",
      "Caused by: java.io.EOFException\n",
      "\tat java.base/java.io.DataInputStream.readByte(DataInputStream.java:272)\n",
      "\tat org.apache.hadoop.io.WritableUtils.readVLong(WritableUtils.java:310)\n",
      "\tat org.apache.hadoop.io.WritableUtils.readVInt(WritableUtils.java:331)\n",
      "\tat it.crs4.pydoop.mapreduce.pipes.BinaryProtocol$UplinkReaderThread.run(BinaryProtocol.java:126)\n",
      "\n",
      "2022-02-24 10:43:04,402 INFO mapreduce.Job: Task Id : attempt_1645630309346_0009_r_000000_2, Status : FAILED\n",
      "Error: java.io.IOException: pipe child exception\n",
      "\tat it.crs4.pydoop.mapreduce.pipes.Application.abort(Application.java:234)\n",
      "\tat it.crs4.pydoop.mapreduce.pipes.PipesReducer.cleanup(PipesReducer.java:106)\n",
      "\tat org.apache.hadoop.mapreduce.Reducer.run(Reducer.java:179)\n",
      "\tat org.apache.hadoop.mapred.ReduceTask.runNewReducer(ReduceTask.java:628)\n",
      "\tat org.apache.hadoop.mapred.ReduceTask.run(ReduceTask.java:390)\n",
      "\tat org.apache.hadoop.mapred.YarnChild$2.run(YarnChild.java:178)\n",
      "\tat java.base/java.security.AccessController.doPrivileged(Native Method)\n",
      "\tat java.base/javax.security.auth.Subject.doAs(Subject.java:423)\n",
      "\tat org.apache.hadoop.security.UserGroupInformation.doAs(UserGroupInformation.java:1845)\n",
      "\tat org.apache.hadoop.mapred.YarnChild.main(YarnChild.java:172)\n",
      "Caused by: java.io.EOFException\n",
      "\tat java.base/java.io.DataInputStream.readByte(DataInputStream.java:272)\n",
      "\tat org.apache.hadoop.io.WritableUtils.readVLong(WritableUtils.java:310)\n",
      "\tat org.apache.hadoop.io.WritableUtils.readVInt(WritableUtils.java:331)\n",
      "\tat it.crs4.pydoop.mapreduce.pipes.BinaryProtocol$UplinkReaderThread.run(BinaryProtocol.java:126)\n",
      "\n",
      "2022-02-24 10:43:13,512 INFO mapreduce.Job:  map 100% reduce 100%\n",
      "2022-02-24 10:43:13,551 INFO mapreduce.Job: Job job_1645630309346_0009 failed with state FAILED due to: Task failed task_1645630309346_0009_r_000000\n",
      "Job failed as tasks failed. failedMaps:0 failedReduces:1 killedMaps:0 killedReduces: 0\n",
      "\n",
      "2022-02-24 10:43:13,854 INFO mapreduce.Job: Counters: 41\n",
      "\tFile System Counters\n",
      "\t\tFILE: Number of bytes read=0\n",
      "\t\tFILE: Number of bytes written=269477\n",
      "\t\tFILE: Number of read operations=0\n",
      "\t\tFILE: Number of large read operations=0\n",
      "\t\tFILE: Number of write operations=0\n",
      "\t\tHDFS: Number of bytes read=229\n",
      "\t\tHDFS: Number of bytes written=0\n",
      "\t\tHDFS: Number of read operations=4\n",
      "\t\tHDFS: Number of large read operations=0\n",
      "\t\tHDFS: Number of write operations=0\n",
      "\t\tHDFS: Number of bytes read erasure-coded=0\n",
      "\tJob Counters \n",
      "\t\tFailed reduce tasks=4\n",
      "\t\tLaunched map tasks=1\n",
      "\t\tLaunched reduce tasks=4\n",
      "\t\tData-local map tasks=1\n",
      "\t\tTotal time spent by all maps in occupied slots (ms)=5482\n",
      "\t\tTotal time spent by all reduces in occupied slots (ms)=22272\n",
      "\t\tTotal time spent by all map tasks (ms)=5482\n",
      "\t\tTotal time spent by all reduce tasks (ms)=22272\n",
      "\t\tTotal vcore-milliseconds taken by all map tasks=5482\n",
      "\t\tTotal vcore-milliseconds taken by all reduce tasks=22272\n",
      "\t\tTotal megabyte-milliseconds taken by all map tasks=5613568\n",
      "\t\tTotal megabyte-milliseconds taken by all reduce tasks=22806528\n",
      "\tMap-Reduce Framework\n",
      "\t\tMap input records=0\n",
      "\t\tMap output records=35\n",
      "\t\tMap output bytes=1003\n",
      "\t\tMap output materialized bytes=118\n",
      "\t\tInput split bytes=122\n",
      "\t\tCombine input records=0\n",
      "\t\tSpilled Records=35\n",
      "\t\tFailed Shuffles=0\n",
      "\t\tMerged Map outputs=0\n",
      "\t\tGC time elapsed (ms)=67\n",
      "\t\tCPU time spent (ms)=530\n",
      "\t\tPhysical memory (bytes) snapshot=257523712\n",
      "\t\tVirtual memory (bytes) snapshot=2673385472\n",
      "\t\tTotal committed heap usage (bytes)=202248192\n",
      "\t\tPeak Map Physical memory (bytes)=257523712\n",
      "\t\tPeak Map Virtual memory (bytes)=2673385472\n",
      "\tWORDCOUNT\n",
      "\t\tINPUT_WORDS=17\n",
      "\tFile Input Format Counters \n",
      "\t\tBytes Read=0\n",
      "2022-02-24 10:43:13,875 INFO util.ExitUtil: Exiting with status 1: ExitException\n",
      "ERROR - RunCmdError:  command exited with 1 status\n"
     ]
    }
   ],
   "source": [
    "!pydoop submit --upload-file-to-cache firstletter_pydoop.py firstletter_pydoop /user/bigdata/05_MapReduce/input.txt 05_MapReduce/output_python_firstletter6 --entry-point main"
   ]
  },
  {
   "cell_type": "code",
   "execution_count": null,
   "metadata": {},
   "outputs": [],
   "source": []
  }
 ],
 "metadata": {
  "kernelspec": {
   "display_name": "Python 3 (ipykernel)",
   "language": "python",
   "name": "python3"
  },
  "language_info": {
   "codemirror_mode": {
    "name": "ipython",
    "version": 3
   },
   "file_extension": ".py",
   "mimetype": "text/x-python",
   "name": "python",
   "nbconvert_exporter": "python",
   "pygments_lexer": "ipython3",
   "version": "3.8.8"
  }
 },
 "nbformat": 4,
 "nbformat_minor": 1
}
