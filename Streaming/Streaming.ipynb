{
 "cells": [
  {
   "cell_type": "markdown",
   "metadata": {},
   "source": [
    "## PySpark Streaming\n",
    "\n",
    "Voorheen hebben we gemerkt met een bestaande, volledige dataset die reeds aanwezig was in de cluster.\n",
    "Echter is er vaak een nood aan data binnen te halen van verscheidene databronnen, deze om te zetten naar een bruikbaar formaat en te bewaren in een datawarehouse.\n",
    "Dit is exact wat er nodig is voor het ETL principe of Extract-Transform-Load.\n",
    "Een belangrijk onderdeel hiervan is de Pyspark Streaming module.\n",
    "De documentatie van deze module kan [hier](https://spark.apache.org/docs/latest/streaming-programming-guide.html) gevonden worden.\n",
    "Het wordcount example kan ook hierin geschreven worden, namelijk:"
   ]
  },
  {
   "cell_type": "code",
   "execution_count": 1,
   "metadata": {
    "scrolled": false
   },
   "outputs": [
    {
     "name": "stdout",
     "output_type": "stream",
     "text": [
      "Writing networkwordcount.py\n"
     ]
    }
   ],
   "source": [
    "%%file networkwordcount.py\n",
    "from pyspark import SparkContext\n",
    "from pyspark.streaming import StreamingContext\n",
    "\n",
    "# streaming context aanmaken (gelijkaardig aan de sparksession)\n",
    "sc = SparkContext(\"local[2]\", \"network_word_count\")\n",
    "sc.setLogLevel(\"ERROR\") # only show errors (anders te veel overhead bij elke iteratie warnings)\n",
    "ssc = StreamingContext(sc, 5) # elke 5 seconden\n",
    "\n",
    "# data inlezen van poort 9999\n",
    "lines = ssc.socketTextStream(\"localhost\", 9999)\n",
    "# lines gaat alle lijnen data bevatten die toekomen binnen 5 seconden intervallen\n",
    "# flatmap -> alle lijnen omzetten naar 1 lijn\n",
    "words = lines.flatMap(lambda line: line.split(\" \"))\n",
    "# emit tuples (word, 1)\n",
    "pairs = words.map(lambda word: (word, 1))\n",
    "# som alle 1-tjes van elk woord/key\n",
    "wordCount = pairs.reduceByKey(lambda x, y: x + y)\n",
    "\n",
    "# tel hoeveel keer een woord met een bepaalde lengte toekomt\n",
    "# input: hello world test\n",
    "# 5 -> 2, 4 -> 1\n",
    "\n",
    "# genereer output\n",
    "wordCount.pprint()\n",
    "\n",
    "# start applicatie\n",
    "ssc.start()\n",
    "ssc.awaitTermination() # zorg dat het blijft draaien\n"
   ]
  },
  {
   "cell_type": "markdown",
   "metadata": {},
   "source": [
    "Om nu de werking te starten, open twee nieuwe terminals en voer in 1 ervan het volgende commando uit.\n",
    "```console\n",
    "    nc -lk 9999\n",
    "```\n",
    "\n",
    "Het wordcount programma kan nu gestart worden door het volgende commando uit te voeren in de tweede terminal (in de correcte directory):\n",
    "```python\n",
    "    python networkwordcount.py\n",
    "```"
   ]
  },
  {
   "cell_type": "markdown",
   "metadata": {},
   "source": [
    "## StreamingContext in plaats van SparkContext\n",
    "\n",
    "Net zoals de context moet er een streaming context aangemaakt worden voor je de streaming api kan gebruiken.\n",
    "Een aantal belangrijke punten om te onthouden zijn:\n",
    "* Eens de context gestart is kan er geen nieuwe code toegevoegd worden\n",
    "* Eens de context gestopt is kan de context niet opnieuw gestart worden. \n",
    "* Er kan maar 1 context tegelijkertijd actief zijn\n",
    "* De spark context kan hergebruikt worden zolang de streaming context gestopt is voor er een nieuwe streamingcontext aangemaakt wordt."
   ]
  },
  {
   "cell_type": "markdown",
   "metadata": {},
   "source": [
    "## DStreams of Discretized Streams\n",
    "\n",
    "De basis abstractielaag gebruikt en voorzien door Spark Streaming.\n",
    "Dit stelt een continue datastroom voor die afkomstig is van de inputbron of de verwerkte datastroom van de transform stap.\n",
    "Deze stream stelt een continue tijdreeks voor van RDD's.\n",
    "Elk van deze RDD's stelt de ontvangen data tijdens een interval voor.\n",
    "\n",
    "Deze steams kunnen van verscheidene bronnen komen. \n",
    "Indien je een niet-standaard geincludeerde bron wil gebruiken moet je een eigen **receiver** schrijven om de data van de bron op te halen.\n",
    "Meer informatie over deze procedure vind je [hier](https://spark.apache.org/docs/latest/streaming-custom-receivers.html)\n",
    "\n",
    "Belangrijk om te onthouden dat het aantal beschikbare cores groter moet zijn dan het aantal receivers/gebruikte databronnen.\n",
    "Anders beschikt spark/de cluster niet over voldoende rekencapaciteiten om alles parallel uit te voeren.\n",
    "\n",
    "**Beschikbare transformaties**\n",
    "\n",
    "De meeste zaken die op een DataFrame/RDD uitgevoerd kunnen worden, kunnen ook op DStreams uitgevoerd worden. \n",
    "Een aantal operaties die extra aandacht vereisen zijn\n",
    "* updateStateByKey()\n",
    "* transform()\n",
    "* Window operations\n",
    "* Join operations"
   ]
  },
  {
   "cell_type": "markdown",
   "metadata": {},
   "source": [
    "**UpdateStateByKey()**\n",
    "\n",
    "Deze functie maakt het mogelijk om een algemene state bij te houden en up te daten bij het ontvangen van nieuwe informatie.\n",
    "Voor het bovenstaande wordcount example kan dit bijvoorbeeld de wordcount van de volledige stream zijn ipv per lijn.\n",
    "Pas nu het wordcount-example aan door deze twee zaken bij te houden.\n",
    "Meer informatie kan je [hier](https://spark.apache.org/docs/latest/streaming-programming-guide.html#updatestatebykey-operation) vinden.\n",
    "\n",
    "**Tip:** Het is nodig om checkpointing te configureren voor deze functie kan gebruikt worden (zodat het ergens kan bijgehouden worden). Dit gebeurt door de volgende lijn na het aanmaken van de streaming context te plaatsen:\n",
    "    \n",
    "    ssc.checkpoint(\"checkpoint\")"
   ]
  },
  {
   "cell_type": "code",
   "execution_count": 8,
   "metadata": {},
   "outputs": [
    {
     "name": "stdout",
     "output_type": "stream",
     "text": [
      "Overwriting networkwordcount.py\n"
     ]
    }
   ],
   "source": [
    "%%file networkwordcount.py\n",
    "from pyspark import SparkContext\n",
    "from pyspark.streaming import StreamingContext\n",
    "from datetime import datetime\n",
    "\n",
    "# streaming context aanmaken (gelijkaardig aan de sparksession)\n",
    "sc = SparkContext(\"local[2]\", \"network_word_count\")\n",
    "sc.setLogLevel(\"ERROR\") # only show errors (anders te veel overhead bij elke iteratie warnings)\n",
    "ssc = StreamingContext(sc, 5) # elke 5 seconden\n",
    "ssc.checkpoint(\"checkpoint\")\n",
    "\n",
    "# data inlezen van poort 9999\n",
    "lines = ssc.socketTextStream(\"localhost\", 9999)\n",
    "# lines gaat alle lijnen data bevatten die toekomen binnen 5 seconden intervallen\n",
    "# flatmap -> alle lijnen omzetten naar 1 lijn\n",
    "words = lines.flatMap(lambda line: line.split(\" \"))\n",
    "# emit tuples (word, 1)\n",
    "pairs = words.map(lambda word: (word, 1))\n",
    "\n",
    "##### DIT IS VERANDERD\n",
    "# hou een globale state bij\n",
    "#def updateFunctie(newValues, runningCount):\n",
    "#    if runningCount is None:\n",
    "#        runningCount = 0\n",
    "#    return sum(newValues, runningCount)\n",
    "\n",
    "# een andere manier is\n",
    "def updateFunctie(newValues, runningCount):\n",
    "    # (runningCount or 0) doet hetzelfde als die if hierboven\n",
    "    return sum(numValues) + (runningCount or 0)\n",
    "\n",
    "def updateFunctie(newValues, runningState):\n",
    "    return datetime.now()\n",
    "\n",
    "# een geschiedenis bijhouden kan ook\n",
    "def updateFunctie(newValues, timestamps):\n",
    "    if timestamps is None:\n",
    "        timestamps = []\n",
    "    timestamps.append(datetime.now())\n",
    "    return timestamps\n",
    "\n",
    "state = pairs.updateStateByKey(updateFunctie)\n",
    "\n",
    "state.pprint()\n",
    "\n",
    "# start applicatie\n",
    "ssc.start()\n",
    "ssc.awaitTermination() # zorg dat het blijft draaien\n"
   ]
  },
  {
   "cell_type": "markdown",
   "metadata": {},
   "source": [
    "**Transform operation**\n",
    "\n",
    "De transform operations laat je toe om een RDD-to-RDD functie toe te passenop een DStream.\n",
    "Dit laat je toe om alle RDD operaties toe te passen die niet zouden aangeboden worden door de Stream API\n",
    "Het is hierbij belangrijk om op te merken dat deze functie elke batch opgeroepen wordt en dus dat het mogelijk is om parameters te wijzigen tussen de verschillende batches (aantal partities, broadcasted variabelen, ...)\n",
    "\n",
    "    cleanedDStream = wordCounts.transform(lambda rdd: rdd.join(spamInfoRDD).filter(...))"
   ]
  },
  {
   "cell_type": "markdown",
   "metadata": {},
   "source": [
    "**Window operations**\n",
    "\n",
    "Een belangrijke eigenschap van streams is ook dat alle informatie binnen een bepaald tijdsvenster belangrijk kan zijn.\n",
    "Binnen spark streams zijn er een verscheidene WindowOperations om data binnen een bepaald window te aggregeren en te verwerken.\n",
    "Hieronder staat een voorbeeld om een reduce toe te passen om de 10 seconden op data dat in de laatste 30 seconden is binnengekomen.\n",
    "\n",
    "    windowedWordCounts = pairs.reduceByKeyAndWindow(lambda x, y: x + y, lambda x, y: x - y, 30, 10)"
   ]
  },
  {
   "cell_type": "markdown",
   "metadata": {},
   "source": [
    "**Join operations**\n",
    "\n",
    "Twee streams kunnen gecombineerd worden door middel van de .join() functie.\n",
    "Dit doet standaard een inner join maar andere mogelijkheden kunnen ook gekozen worden."
   ]
  },
  {
   "cell_type": "markdown",
   "metadata": {},
   "source": [
    "## Sending data to external systems\n",
    "\n",
    "De foreachRDD functie is een krachtige functie dat toegepast wordt op elke RDD dat aangemaakt wordt door een DStream. \n",
    "Dit maakt het mogelijk om de data uit te sturen naar externe systemen en zorgt dus voor de Load-stap binnen ETL.\n",
    "Een simplistische oplossing is als volgt:\n",
    "\n",
    "    def sendRecord(rdd):\n",
    "        connection = createNewConnection()  # executed at the driver\n",
    "        rdd.foreach(lambda record: connection.send(record))\n",
    "        connection.close()\n",
    "\n",
    "    dstream.foreachRDD(sendRecord)\n",
    "    \n",
    "Bovenstaande gaat niet werken omdat de connectie door de driver aangemaakt wordt.\n",
    "Deze connectie gaat geserializeerd worden en doorgestuurd naar de nodes maar dit gaat zelden correct lukken.\n",
    "Connectieproblemen bij het verzenden van data komen bijna steeds voort uit het correct aanmaken op de juiste nodes van de connectie.\n",
    "Een oplossing hiervoor is het volgende:\n",
    "\n",
    "    def sendRecord(record):\n",
    "        connection = createNewConnection()\n",
    "        connection.send(record)\n",
    "        connection.close()\n",
    "\n",
    "    dstream.foreachRDD(lambda rdd: rdd.foreach(sendRecord))\n",
    "    \n",
    "Dit gaat correct werken maar is echter suboptimaal omdat in deze code, een nieuwe connectie aangemaakt wordt voor elke rij in de stream wat voor heel veel overhead zorgt.\n",
    "Een andere mogelijkheid is als volgt\n",
    "\n",
    "    def sendPartition(iter):\n",
    "        connection = createNewConnection()\n",
    "        for record in iter:\n",
    "            connection.send(record)\n",
    "        connection.close()\n",
    "\n",
    "    dstream.foreachRDD(lambda rdd: rdd.foreachPartition(sendPartition))\n",
    "    \n",
    "Dit is reeds beter omdat de connectie reeds gedeeltelijk hergebruikt wordt maar wordt nog steeds herhaadelijk geopend en gesloten.\n",
    "Dit zorgt nog steeds voor onnodige overhead.\n",
    "De beste oplossing is door gebruik te maken van een connectionPool() waaruit connectie kunnen hergebruikt worden.\n",
    "Deze pool maakt automatisch connecties uit en sluit de bestaande connecties enkel indien ze voldoende lang ongebruikt worden.\n",
    "\n",
    "    def sendPartition(iter):\n",
    "        # ConnectionPool is a static, lazily initialized pool of connections\n",
    "        connection = ConnectionPool.getConnection()\n",
    "        for record in iter:\n",
    "            connection.send(record)\n",
    "        # return to the pool for future reuse\n",
    "        ConnectionPool.returnConnection(connection)\n",
    "\n",
    "    dstream.foreachRDD(lambda rdd: rdd.foreachPartition(sendPartition))\n",
    "\n",
    "dstream.foreachRDD(lambda rdd: rdd.foreachPartition(sendPartition))"
   ]
  },
  {
   "cell_type": "markdown",
   "metadata": {},
   "source": [
    "## Checkpoints\n",
    "\n",
    "Checkpoints is een manier om informatie op te slaan op de cluster om spark fout-tolerant te worden voor crashes van zowel de driver als individuele node.\n",
    "Dit gebeurt door de nodige informatie op te slaan in een directory.\n",
    "\n",
    "Checkpointing moet ge-enabled worden wanneer je\n",
    "* een state wilt bijhouden\n",
    "* een fout-tolerante applicatie wil\n",
    "\n",
    "Let wel op dat het geen garantie is dat alle data behouden blijft maar het merendeel zou correct moeten opgevangen worden.\n",
    "\n",
    "Checkpointing toevoegen aan je applicatie gebeurt door een directory mee te gevan aan de sparkContext waar de checkpoints in een fout-tolerant gedistribueerd opslagsysteem kunnen bijgehouden worden.\n",
    "Dit gebeurd als volgt\n",
    "\n",
    "    ssc.checkpoint(\"checkpoints\") "
   ]
  },
  {
   "cell_type": "markdown",
   "metadata": {},
   "source": [
    "**Shared variables with checkpoints**\n",
    "\n",
    "Accumulators en broadcasted variabelen worden niet opgeslagen door het checkpointing systeem in Spark. \n",
    "Dit kan opgelost worden door singleton instances te maken zodat ze kunnen geherinstantieerd worden nadat de driver restart na een failure.\n",
    "Onderstaande code is een voorbeeld van hoe dit uit te voeren in een wordcount example.\n",
    "Dit voorbeeld maakt gebruik van globals() wat de globale variabelen bijhoudt.\n",
    "In dit voorbeeld wordt er gebruik gemaakt van een broadcasted array om een lijst mee te geven met beginletters van woorden die genegeerd worden.\n",
    "Daarnaast wordt een accumulator gebruikt om het totaal aantal genegeerde woorden te tellen."
   ]
  },
  {
   "cell_type": "code",
   "execution_count": 11,
   "metadata": {},
   "outputs": [
    {
     "name": "stdout",
     "output_type": "stream",
     "text": [
      "Overwriting networkwordcount.py\n"
     ]
    }
   ],
   "source": [
    "%%file networkwordcount.py\n",
    "from pyspark import SparkContext\n",
    "from pyspark.streaming import StreamingContext\n",
    "from datetime import datetime\n",
    "\n",
    "###### maak shared variabelen aan\n",
    "def getWordExcludeList(sparkContext):\n",
    "    if \"worldExcludeList\" not in globals():\n",
    "        globals()[\"worldExcludeList\"] = sparkContext.broadcast([\"Hello\"])\n",
    "    return globals()[\"worldExcludeList\"]\n",
    "\n",
    "def getDroppedWordCounters(sparkContext):\n",
    "    if \"droppedWordCounters\" not in globals():\n",
    "        globals()[\"droppedWordCounters\"] = sparkContext.accumulator(0)\n",
    "    return globals()[\"droppedWordCounters\"]\n",
    "\n",
    "# streaming context aanmaken (gelijkaardig aan de sparksession)\n",
    "sc = SparkContext(\"local[2]\", \"network_word_count\")\n",
    "sc.setLogLevel(\"ERROR\") # only show errors (anders te veel overhead bij elke iteratie warnings)\n",
    "ssc = StreamingContext(sc, 5) # elke 5 seconden\n",
    "ssc.checkpoint(\"checkpoint\")\n",
    "\n",
    "# data inlezen van poort 9999\n",
    "lines = ssc.socketTextStream(\"localhost\", 9999)\n",
    "# lines gaat alle lijnen data bevatten die toekomen binnen 5 seconden intervallen\n",
    "# flatmap -> alle lijnen omzetten naar 1 lijn\n",
    "words = lines.flatMap(lambda line: line.split(\" \"))\n",
    "# emit tuples (word, 1)\n",
    "pairs = words.map(lambda word: (word, 1))\n",
    "wordCounts = words.map(lambda word: (word, 1)).reduceByKey(lambda x, y: x+y)\n",
    "\n",
    "def skipWords(time, rdd):\n",
    "    # haal de shared variabelen op\n",
    "    excludeList = getWordExcludeList(rdd.context)\n",
    "    droppedWordsCounter = getDroppedWordCounters(rdd.context)\n",
    "    \n",
    "    def func(row):\n",
    "        word = row[0]\n",
    "        if word in excludeList.value:\n",
    "            droppedWordsCounter.add(row[1])\n",
    "            return False\n",
    "        else:\n",
    "            return True\n",
    "    \n",
    "    f = rdd.filter(func)\n",
    "    \n",
    "    print(\"# Genegeerde woorden:\", droppedWordsCounter.value)\n",
    "    print(\"Gefilterede rdd:\", f.collect())\n",
    "    \n",
    "    pass\n",
    "\n",
    "wordCounts.foreachRDD(skipWords)\n",
    "\n",
    "# start applicatie\n",
    "ssc.start()\n",
    "ssc.awaitTermination() # zorg dat het blijft draaien"
   ]
  },
  {
   "cell_type": "markdown",
   "metadata": {},
   "source": [
    "### Oefening\n",
    "\n",
    "Schrijf een streaming applicatie dat de volgende kenmerken heeft\n",
    "* Bereken het aantal woorden dat toekomt met een bepaalde lengte: bvb: \"Hello world over there\" => 1 woorden met 4 karakters, 3 woorden met 5 karakters\n",
    "* Zorg voor checkpoints in een temp_state directory\n",
    "* Zorg ervoor dat dit berekend worden in sliding windows van 5 seconden dat elke 2 seconden opschuift\n",
    "* Hou een algemene state bij met het totaal aantal gelezen woorden, gebruik je hiervoor een accumulator of een update state by key?\n",
    "\n",
    "### Oplossing"
   ]
  },
  {
   "cell_type": "code",
   "execution_count": 12,
   "metadata": {},
   "outputs": [
    {
     "name": "stdout",
     "output_type": "stream",
     "text": [
      "Writing oefening.py\n"
     ]
    }
   ],
   "source": [
    "%%file oefening.py\n",
    "from pyspark import SparkContext\n",
    "from pyspark.streaming import StreamingContext\n",
    "\n",
    "# streaming context aanmaken (gelijkaardig aan de sparksession)\n",
    "sc = SparkContext(\"local[2]\", \"network_word_count\")\n",
    "sc.setLogLevel(\"ERROR\") # only show errors (anders te veel overhead bij elke iteratie warnings)\n",
    "ssc = StreamingContext(sc, 1) # elke 1 second (aangezien het om de twee seconden moet opschijven en je window 5 seconden is)\n",
    "# als het meer dan 1 second is moet je een batch in twee knippen\n",
    "ssc.checkpoint(\"temp_state\")\n",
    "\n",
    "# data inlezen van poort 9999\n",
    "lines = ssc.socketTextStream(\"localhost\", 9999)\n",
    "windowLines = lines.window(5, 2)\n",
    "# lines gaat alle lijnen data bevatten die toekomen binnen 5 seconden intervallen\n",
    "# flatmap -> alle lijnen omzetten naar 1 lijn\n",
    "words = windowLines.flatMap(lambda line: line.split(\" \"))\n",
    "# emit tuples (word, 1)\n",
    "pairs = words.map(lambda word: (len(word), 1))\n",
    "# som alle 1-tjes van elk woord/key\n",
    "wordCount = pairs.reduceByKey(lambda x, y: x + y)\n",
    "# genereer output\n",
    "wordCount.pprint()\n",
    "\n",
    "# totaal aantal woorden\n",
    "def updateFunctie(new_values, last_sum):\n",
    "    return sum(new_values) + (last_sum or 0)\n",
    "\n",
    "total_WC = pairs.updateStateByKey(updateFunctie)\n",
    "# total_WC -> (word, total_count)\n",
    "# total_counts optellen\n",
    "# eerst eruit halen met de map\n",
    "# reduce om ze op te tellen\n",
    "total_WC.map(lambda kv1: kv1[1]).reduce(lambda x,y: x+y).pprint()\n",
    "\n",
    "# start applicatie\n",
    "ssc.start()\n",
    "ssc.awaitTermination() # zorg dat het blijft draaien\n",
    "\n",
    "\n",
    "## we geven input op tijdstip 0\n",
    "# tijdstip 0 wordt in gelezen 0\n",
    "# op tijdstip 1 wordt er niets gedaan (sliding interval 2)\n",
    "# tijdstip 2 lees opnieuw de data in (vanaf tijdstip -3 want window heeft lengte 5)\n",
    "# op tijdstip 3 wordt er niets gedaan (sliding interval 2)\n",
    "# tijdstip 4 lees opnieuw de data in (vanaf tijdstip -1 want window heeft lengte 5)\n",
    "# op tijdstip 5 wordt er niets gedaan (sliding interval 2)\n",
    "# tijdstip 6 lees je geen data in (vanaf tijdstip 1 want window heeft lengte 5)\n",
    "# op tijdstip 7 wordt er niets gedaan (sliding interval 2)\n"
   ]
  },
  {
   "cell_type": "markdown",
   "metadata": {},
   "source": [
    "Zijn de resultaten wat je verwacht had?\n",
    "Indien niet, hou zou je het kunnen oplossen?"
   ]
  },
  {
   "cell_type": "code",
   "execution_count": null,
   "metadata": {},
   "outputs": [],
   "source": [
    "# antwoord"
   ]
  },
  {
   "cell_type": "markdown",
   "metadata": {},
   "source": [
    "## Structured streaming\n",
    "\n",
    "Naast het originele streaming systeem van spark gebruikmakende van DStreams, is er ook een [Structured Streaming](https://spark.apache.org/docs/latest/structured-streaming-programming-guide.html) variant.\n",
    "Het grootste verschil is dat terwijl DStreams gebaseerd zijn op RDD's objecten maakt structured streaming gebruik van DataFrames.\n",
    "Het networkcount dat we eerst aangehaald hadden hierboven ziet er als volgt uit met structured streaming:"
   ]
  },
  {
   "cell_type": "code",
   "execution_count": 13,
   "metadata": {},
   "outputs": [
    {
     "name": "stdout",
     "output_type": "stream",
     "text": [
      "Writing structuredNetworkCount.py\n"
     ]
    }
   ],
   "source": [
    "%%file structuredNetworkCount.py\n",
    "\n",
    "from pyspark.sql import SparkSession\n",
    "from pyspark.sql.functions import explode, split\n",
    "\n",
    "spark = SparkSession.builder.master(\"local\").appName(\"Structured Streaming les\").getOrCreate()\n",
    "\n",
    "# extract\n",
    "lines = spark.readStream.format(\"socket\").option(\"host\", \"localhost\").option(\"port\", 9999).load()\n",
    "\n",
    "# transform\n",
    "words = lines.select(explode(split(lines.value, \" \")).alias(\"word\"))\n",
    "wordCounts = words.groupBy(\"word\").count()\n",
    "\n",
    "# load\n",
    "app = wordCounts.writeStream.outputMode(\"complete\").format(\"console\").start()\n",
    "app.awaitTermination()"
   ]
  },
  {
   "cell_type": "markdown",
   "metadata": {},
   "source": [
    "Merk op dat we hier de outputMode complete hebben gebruikt.\n",
    "Het resulterende gedrag is gelijkaardig aan de state van bij DStreams.\n",
    "Als we echter ook de wordcount per batch willen weten kunnen we gebruik maken van de andere modes.\n",
    "Onderstaande voorbeeld toont hoe het networkCount voorbeeld na te bootsen (namelijk via de update mode)."
   ]
  },
  {
   "cell_type": "code",
   "execution_count": 14,
   "metadata": {},
   "outputs": [
    {
     "name": "stdout",
     "output_type": "stream",
     "text": [
      "Overwriting structuredNetworkCount.py\n"
     ]
    }
   ],
   "source": [
    "%%file structuredNetworkCount.py\n",
    "\n",
    "from pyspark.sql import SparkSession\n",
    "from pyspark.sql.functions import explode, split\n",
    "\n",
    "spark = SparkSession.builder.master(\"local\").appName(\"Structured Streaming les\").getOrCreate()\n",
    "\n",
    "# extract\n",
    "lines = spark.readStream.format(\"socket\").option(\"host\", \"localhost\").option(\"port\", 9999).load()\n",
    "\n",
    "# transform\n",
    "words = lines.select(explode(split(lines.value, \" \")).alias(\"word\"))\n",
    "wordCounts = words.groupBy(\"word\").count()\n",
    "\n",
    "# load #### dit is aangepast\n",
    "app = wordCounts.writeStream.outputMode(\"update\").format(\"console\").start()\n",
    "app.awaitTermination()"
   ]
  },
  {
   "cell_type": "markdown",
   "metadata": {},
   "source": [
    "### Oefening\n",
    "\n",
    "Gebruik de informatie uit [deze link](https://spark.apache.org/docs/latest/structured-streaming-programming-guide.html) en hermaak de vorige oefening van DStreams.\n",
    "Aangezien structured streaming een globaal dataframe bijhoudt moet er een timestamp toegevoegd worden om het te kunnen verdelen in windows.\n",
    "Dit moet gedaan worden in de source dus kunnen we hier met deze data geen windows bestuderen."
   ]
  },
  {
   "cell_type": "code",
   "execution_count": null,
   "metadata": {},
   "outputs": [],
   "source": [
    "%%file oefeningStructured.py"
   ]
  },
  {
   "cell_type": "code",
   "execution_count": null,
   "metadata": {},
   "outputs": [],
   "source": []
  }
 ],
 "metadata": {
  "kernelspec": {
   "display_name": "Python 3 (ipykernel)",
   "language": "python",
   "name": "python3"
  },
  "language_info": {
   "codemirror_mode": {
    "name": "ipython",
    "version": 3
   },
   "file_extension": ".py",
   "mimetype": "text/x-python",
   "name": "python",
   "nbconvert_exporter": "python",
   "pygments_lexer": "ipython3",
   "version": "3.8.8"
  }
 },
 "nbformat": 4,
 "nbformat_minor": 1
}
